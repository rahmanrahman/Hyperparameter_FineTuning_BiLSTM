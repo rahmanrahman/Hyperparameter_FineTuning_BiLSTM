{
  "nbformat": 4,
  "nbformat_minor": 0,
  "metadata": {
    "colab": {
      "provenance": [],
      "toc_visible": true
    },
    "kernelspec": {
      "name": "python3",
      "display_name": "Python 3"
    },
    "language_info": {
      "name": "python"
    }
  },
  "cells": [
    {
      "cell_type": "code",
      "execution_count": null,
      "metadata": {
        "id": "RiYvLX_q-dIU"
      },
      "outputs": [],
      "source": [
        "#Import library\n",
        "import pandas as pd\n",
        "import numpy as np\n",
        "import matplotlib.pyplot as plt\n",
        "\n",
        "import pickle\n",
        "\n",
        "%matplotlib inline"
      ]
    },
    {
      "cell_type": "code",
      "source": [
        "# !wget https://raw.githubusercontent.com/ksnugroho/klasifikasi-spam-sms/master/data/dataset_sms_spam_v1.csv"
      ],
      "metadata": {
        "id": "LsEcIgEJ_Wz7"
      },
      "execution_count": null,
      "outputs": []
    },
    {
      "cell_type": "code",
      "source": [
        "data = pd.read_csv('b2 label gofood.csv', sep=';')\n",
        "data.head()"
      ],
      "metadata": {
        "id": "NO-8S7fY_ZJ3",
        "colab": {
          "base_uri": "https://localhost:8080/",
          "height": 206
        },
        "outputId": "516811d8-f5f9-455c-f978-c88cf3f5bcb2"
      },
      "execution_count": null,
      "outputs": [
        {
          "output_type": "execute_result",
          "data": {
            "text/plain": [
              "                                               Tweet     tanggal  label\n",
              "0  Ada voc voucher gofood 70% ga ya? Yg minbel 10...  21/02/2023      1\n",
              "1          need voucher gofood yg udah gf+ #zonauanv  10/02/2023      1\n",
              "2  Hidup ini bukan berlomba2 melawan teman melain...  16/02/2023      1\n",
              "3           mau voc gofood minbel 30k dong #zonauang  20/02/2023      1\n",
              "4                           gofood apa ya jam sgini?  21/02/2023      1"
            ],
            "text/html": [
              "\n",
              "  <div id=\"df-726e3e2b-be85-4cb3-b678-e813201b9ce5\">\n",
              "    <div class=\"colab-df-container\">\n",
              "      <div>\n",
              "<style scoped>\n",
              "    .dataframe tbody tr th:only-of-type {\n",
              "        vertical-align: middle;\n",
              "    }\n",
              "\n",
              "    .dataframe tbody tr th {\n",
              "        vertical-align: top;\n",
              "    }\n",
              "\n",
              "    .dataframe thead th {\n",
              "        text-align: right;\n",
              "    }\n",
              "</style>\n",
              "<table border=\"1\" class=\"dataframe\">\n",
              "  <thead>\n",
              "    <tr style=\"text-align: right;\">\n",
              "      <th></th>\n",
              "      <th>Tweet</th>\n",
              "      <th>tanggal</th>\n",
              "      <th>label</th>\n",
              "    </tr>\n",
              "  </thead>\n",
              "  <tbody>\n",
              "    <tr>\n",
              "      <th>0</th>\n",
              "      <td>Ada voc voucher gofood 70% ga ya? Yg minbel 10...</td>\n",
              "      <td>21/02/2023</td>\n",
              "      <td>1</td>\n",
              "    </tr>\n",
              "    <tr>\n",
              "      <th>1</th>\n",
              "      <td>need voucher gofood yg udah gf+ #zonauanv</td>\n",
              "      <td>10/02/2023</td>\n",
              "      <td>1</td>\n",
              "    </tr>\n",
              "    <tr>\n",
              "      <th>2</th>\n",
              "      <td>Hidup ini bukan berlomba2 melawan teman melain...</td>\n",
              "      <td>16/02/2023</td>\n",
              "      <td>1</td>\n",
              "    </tr>\n",
              "    <tr>\n",
              "      <th>3</th>\n",
              "      <td>mau voc gofood minbel 30k dong #zonauang</td>\n",
              "      <td>20/02/2023</td>\n",
              "      <td>1</td>\n",
              "    </tr>\n",
              "    <tr>\n",
              "      <th>4</th>\n",
              "      <td>gofood apa ya jam sgini?</td>\n",
              "      <td>21/02/2023</td>\n",
              "      <td>1</td>\n",
              "    </tr>\n",
              "  </tbody>\n",
              "</table>\n",
              "</div>\n",
              "      <button class=\"colab-df-convert\" onclick=\"convertToInteractive('df-726e3e2b-be85-4cb3-b678-e813201b9ce5')\"\n",
              "              title=\"Convert this dataframe to an interactive table.\"\n",
              "              style=\"display:none;\">\n",
              "        \n",
              "  <svg xmlns=\"http://www.w3.org/2000/svg\" height=\"24px\"viewBox=\"0 0 24 24\"\n",
              "       width=\"24px\">\n",
              "    <path d=\"M0 0h24v24H0V0z\" fill=\"none\"/>\n",
              "    <path d=\"M18.56 5.44l.94 2.06.94-2.06 2.06-.94-2.06-.94-.94-2.06-.94 2.06-2.06.94zm-11 1L8.5 8.5l.94-2.06 2.06-.94-2.06-.94L8.5 2.5l-.94 2.06-2.06.94zm10 10l.94 2.06.94-2.06 2.06-.94-2.06-.94-.94-2.06-.94 2.06-2.06.94z\"/><path d=\"M17.41 7.96l-1.37-1.37c-.4-.4-.92-.59-1.43-.59-.52 0-1.04.2-1.43.59L10.3 9.45l-7.72 7.72c-.78.78-.78 2.05 0 2.83L4 21.41c.39.39.9.59 1.41.59.51 0 1.02-.2 1.41-.59l7.78-7.78 2.81-2.81c.8-.78.8-2.07 0-2.86zM5.41 20L4 18.59l7.72-7.72 1.47 1.35L5.41 20z\"/>\n",
              "  </svg>\n",
              "      </button>\n",
              "      \n",
              "  <style>\n",
              "    .colab-df-container {\n",
              "      display:flex;\n",
              "      flex-wrap:wrap;\n",
              "      gap: 12px;\n",
              "    }\n",
              "\n",
              "    .colab-df-convert {\n",
              "      background-color: #E8F0FE;\n",
              "      border: none;\n",
              "      border-radius: 50%;\n",
              "      cursor: pointer;\n",
              "      display: none;\n",
              "      fill: #1967D2;\n",
              "      height: 32px;\n",
              "      padding: 0 0 0 0;\n",
              "      width: 32px;\n",
              "    }\n",
              "\n",
              "    .colab-df-convert:hover {\n",
              "      background-color: #E2EBFA;\n",
              "      box-shadow: 0px 1px 2px rgba(60, 64, 67, 0.3), 0px 1px 3px 1px rgba(60, 64, 67, 0.15);\n",
              "      fill: #174EA6;\n",
              "    }\n",
              "\n",
              "    [theme=dark] .colab-df-convert {\n",
              "      background-color: #3B4455;\n",
              "      fill: #D2E3FC;\n",
              "    }\n",
              "\n",
              "    [theme=dark] .colab-df-convert:hover {\n",
              "      background-color: #434B5C;\n",
              "      box-shadow: 0px 1px 3px 1px rgba(0, 0, 0, 0.15);\n",
              "      filter: drop-shadow(0px 1px 2px rgba(0, 0, 0, 0.3));\n",
              "      fill: #FFFFFF;\n",
              "    }\n",
              "  </style>\n",
              "\n",
              "      <script>\n",
              "        const buttonEl =\n",
              "          document.querySelector('#df-726e3e2b-be85-4cb3-b678-e813201b9ce5 button.colab-df-convert');\n",
              "        buttonEl.style.display =\n",
              "          google.colab.kernel.accessAllowed ? 'block' : 'none';\n",
              "\n",
              "        async function convertToInteractive(key) {\n",
              "          const element = document.querySelector('#df-726e3e2b-be85-4cb3-b678-e813201b9ce5');\n",
              "          const dataTable =\n",
              "            await google.colab.kernel.invokeFunction('convertToInteractive',\n",
              "                                                     [key], {});\n",
              "          if (!dataTable) return;\n",
              "\n",
              "          const docLinkHtml = 'Like what you see? Visit the ' +\n",
              "            '<a target=\"_blank\" href=https://colab.research.google.com/notebooks/data_table.ipynb>data table notebook</a>'\n",
              "            + ' to learn more about interactive tables.';\n",
              "          element.innerHTML = '';\n",
              "          dataTable['output_type'] = 'display_data';\n",
              "          await google.colab.output.renderOutput(dataTable, element);\n",
              "          const docLink = document.createElement('div');\n",
              "          docLink.innerHTML = docLinkHtml;\n",
              "          element.appendChild(docLink);\n",
              "        }\n",
              "      </script>\n",
              "    </div>\n",
              "  </div>\n",
              "  "
            ]
          },
          "metadata": {},
          "execution_count": 95
        }
      ]
    },
    {
      "cell_type": "code",
      "source": [
        "indexLabel = data[ (data['label'] == 0)].index\n",
        "data.drop(indexLabel , inplace=True)\n",
        "data.head(15)"
      ],
      "metadata": {
        "colab": {
          "base_uri": "https://localhost:8080/",
          "height": 520
        },
        "id": "_NSL42RAwQzX",
        "outputId": "ed58ffb7-9fd3-4727-c9e2-216798742d65"
      },
      "execution_count": null,
      "outputs": [
        {
          "output_type": "execute_result",
          "data": {
            "text/plain": [
              "                                                Tweet     tanggal  label\n",
              "0   Ada voc voucher gofood 70% ga ya? Yg minbel 10...  21/02/2023      1\n",
              "1           need voucher gofood yg udah gf+ #zonauanv  10/02/2023      1\n",
              "2   Hidup ini bukan berlomba2 melawan teman melain...  16/02/2023      1\n",
              "3            mau voc gofood minbel 30k dong #zonauang  20/02/2023      1\n",
              "4                            gofood apa ya jam sgini?  21/02/2023      1\n",
              "5                          Pengen gofood minuman dehh  22/02/2023      1\n",
              "6                Sabtu Minggu  gofood nyari yg simple  04/02/2023      1\n",
              "7   udah seminggu ga kemana mana, keluar cuma buat...  20/02/2023      1\n",
              "8   Wtb jasa co gofood yg cashback diitung diskon ...  10/02/2023      1\n",
              "9                        mesen gofood apa ya enaknya?  18/02/2023      1\n",
              "10  pas dirumah ada makanan pengen gofood, pas gad...  13/02/2023      1\n",
              "11  Dikasih voucher gofood ama kantor @keindahandu...  10/02/2023      1\n",
              "12  semua minta doanya dong semoga gofood gue nyam...  21/02/2023      1\n",
              "13         males masak dikit pesen gofood anying [sy]  12/02/2023      1\n",
              "14  gofood nasi padang terus ni keknya gue kenyang...  21/02/2023      1"
            ],
            "text/html": [
              "\n",
              "  <div id=\"df-96022148-334d-438e-af9c-ba4e899617db\">\n",
              "    <div class=\"colab-df-container\">\n",
              "      <div>\n",
              "<style scoped>\n",
              "    .dataframe tbody tr th:only-of-type {\n",
              "        vertical-align: middle;\n",
              "    }\n",
              "\n",
              "    .dataframe tbody tr th {\n",
              "        vertical-align: top;\n",
              "    }\n",
              "\n",
              "    .dataframe thead th {\n",
              "        text-align: right;\n",
              "    }\n",
              "</style>\n",
              "<table border=\"1\" class=\"dataframe\">\n",
              "  <thead>\n",
              "    <tr style=\"text-align: right;\">\n",
              "      <th></th>\n",
              "      <th>Tweet</th>\n",
              "      <th>tanggal</th>\n",
              "      <th>label</th>\n",
              "    </tr>\n",
              "  </thead>\n",
              "  <tbody>\n",
              "    <tr>\n",
              "      <th>0</th>\n",
              "      <td>Ada voc voucher gofood 70% ga ya? Yg minbel 10...</td>\n",
              "      <td>21/02/2023</td>\n",
              "      <td>1</td>\n",
              "    </tr>\n",
              "    <tr>\n",
              "      <th>1</th>\n",
              "      <td>need voucher gofood yg udah gf+ #zonauanv</td>\n",
              "      <td>10/02/2023</td>\n",
              "      <td>1</td>\n",
              "    </tr>\n",
              "    <tr>\n",
              "      <th>2</th>\n",
              "      <td>Hidup ini bukan berlomba2 melawan teman melain...</td>\n",
              "      <td>16/02/2023</td>\n",
              "      <td>1</td>\n",
              "    </tr>\n",
              "    <tr>\n",
              "      <th>3</th>\n",
              "      <td>mau voc gofood minbel 30k dong #zonauang</td>\n",
              "      <td>20/02/2023</td>\n",
              "      <td>1</td>\n",
              "    </tr>\n",
              "    <tr>\n",
              "      <th>4</th>\n",
              "      <td>gofood apa ya jam sgini?</td>\n",
              "      <td>21/02/2023</td>\n",
              "      <td>1</td>\n",
              "    </tr>\n",
              "    <tr>\n",
              "      <th>5</th>\n",
              "      <td>Pengen gofood minuman dehh</td>\n",
              "      <td>22/02/2023</td>\n",
              "      <td>1</td>\n",
              "    </tr>\n",
              "    <tr>\n",
              "      <th>6</th>\n",
              "      <td>Sabtu Minggu  gofood nyari yg simple</td>\n",
              "      <td>04/02/2023</td>\n",
              "      <td>1</td>\n",
              "    </tr>\n",
              "    <tr>\n",
              "      <th>7</th>\n",
              "      <td>udah seminggu ga kemana mana, keluar cuma buat...</td>\n",
              "      <td>20/02/2023</td>\n",
              "      <td>1</td>\n",
              "    </tr>\n",
              "    <tr>\n",
              "      <th>8</th>\n",
              "      <td>Wtb jasa co gofood yg cashback diitung diskon ...</td>\n",
              "      <td>10/02/2023</td>\n",
              "      <td>1</td>\n",
              "    </tr>\n",
              "    <tr>\n",
              "      <th>9</th>\n",
              "      <td>mesen gofood apa ya enaknya?</td>\n",
              "      <td>18/02/2023</td>\n",
              "      <td>1</td>\n",
              "    </tr>\n",
              "    <tr>\n",
              "      <th>10</th>\n",
              "      <td>pas dirumah ada makanan pengen gofood, pas gad...</td>\n",
              "      <td>13/02/2023</td>\n",
              "      <td>1</td>\n",
              "    </tr>\n",
              "    <tr>\n",
              "      <th>11</th>\n",
              "      <td>Dikasih voucher gofood ama kantor @keindahandu...</td>\n",
              "      <td>10/02/2023</td>\n",
              "      <td>1</td>\n",
              "    </tr>\n",
              "    <tr>\n",
              "      <th>12</th>\n",
              "      <td>semua minta doanya dong semoga gofood gue nyam...</td>\n",
              "      <td>21/02/2023</td>\n",
              "      <td>1</td>\n",
              "    </tr>\n",
              "    <tr>\n",
              "      <th>13</th>\n",
              "      <td>males masak dikit pesen gofood anying [sy]</td>\n",
              "      <td>12/02/2023</td>\n",
              "      <td>1</td>\n",
              "    </tr>\n",
              "    <tr>\n",
              "      <th>14</th>\n",
              "      <td>gofood nasi padang terus ni keknya gue kenyang...</td>\n",
              "      <td>21/02/2023</td>\n",
              "      <td>1</td>\n",
              "    </tr>\n",
              "  </tbody>\n",
              "</table>\n",
              "</div>\n",
              "      <button class=\"colab-df-convert\" onclick=\"convertToInteractive('df-96022148-334d-438e-af9c-ba4e899617db')\"\n",
              "              title=\"Convert this dataframe to an interactive table.\"\n",
              "              style=\"display:none;\">\n",
              "        \n",
              "  <svg xmlns=\"http://www.w3.org/2000/svg\" height=\"24px\"viewBox=\"0 0 24 24\"\n",
              "       width=\"24px\">\n",
              "    <path d=\"M0 0h24v24H0V0z\" fill=\"none\"/>\n",
              "    <path d=\"M18.56 5.44l.94 2.06.94-2.06 2.06-.94-2.06-.94-.94-2.06-.94 2.06-2.06.94zm-11 1L8.5 8.5l.94-2.06 2.06-.94-2.06-.94L8.5 2.5l-.94 2.06-2.06.94zm10 10l.94 2.06.94-2.06 2.06-.94-2.06-.94-.94-2.06-.94 2.06-2.06.94z\"/><path d=\"M17.41 7.96l-1.37-1.37c-.4-.4-.92-.59-1.43-.59-.52 0-1.04.2-1.43.59L10.3 9.45l-7.72 7.72c-.78.78-.78 2.05 0 2.83L4 21.41c.39.39.9.59 1.41.59.51 0 1.02-.2 1.41-.59l7.78-7.78 2.81-2.81c.8-.78.8-2.07 0-2.86zM5.41 20L4 18.59l7.72-7.72 1.47 1.35L5.41 20z\"/>\n",
              "  </svg>\n",
              "      </button>\n",
              "      \n",
              "  <style>\n",
              "    .colab-df-container {\n",
              "      display:flex;\n",
              "      flex-wrap:wrap;\n",
              "      gap: 12px;\n",
              "    }\n",
              "\n",
              "    .colab-df-convert {\n",
              "      background-color: #E8F0FE;\n",
              "      border: none;\n",
              "      border-radius: 50%;\n",
              "      cursor: pointer;\n",
              "      display: none;\n",
              "      fill: #1967D2;\n",
              "      height: 32px;\n",
              "      padding: 0 0 0 0;\n",
              "      width: 32px;\n",
              "    }\n",
              "\n",
              "    .colab-df-convert:hover {\n",
              "      background-color: #E2EBFA;\n",
              "      box-shadow: 0px 1px 2px rgba(60, 64, 67, 0.3), 0px 1px 3px 1px rgba(60, 64, 67, 0.15);\n",
              "      fill: #174EA6;\n",
              "    }\n",
              "\n",
              "    [theme=dark] .colab-df-convert {\n",
              "      background-color: #3B4455;\n",
              "      fill: #D2E3FC;\n",
              "    }\n",
              "\n",
              "    [theme=dark] .colab-df-convert:hover {\n",
              "      background-color: #434B5C;\n",
              "      box-shadow: 0px 1px 3px 1px rgba(0, 0, 0, 0.15);\n",
              "      filter: drop-shadow(0px 1px 2px rgba(0, 0, 0, 0.3));\n",
              "      fill: #FFFFFF;\n",
              "    }\n",
              "  </style>\n",
              "\n",
              "      <script>\n",
              "        const buttonEl =\n",
              "          document.querySelector('#df-96022148-334d-438e-af9c-ba4e899617db button.colab-df-convert');\n",
              "        buttonEl.style.display =\n",
              "          google.colab.kernel.accessAllowed ? 'block' : 'none';\n",
              "\n",
              "        async function convertToInteractive(key) {\n",
              "          const element = document.querySelector('#df-96022148-334d-438e-af9c-ba4e899617db');\n",
              "          const dataTable =\n",
              "            await google.colab.kernel.invokeFunction('convertToInteractive',\n",
              "                                                     [key], {});\n",
              "          if (!dataTable) return;\n",
              "\n",
              "          const docLinkHtml = 'Like what you see? Visit the ' +\n",
              "            '<a target=\"_blank\" href=https://colab.research.google.com/notebooks/data_table.ipynb>data table notebook</a>'\n",
              "            + ' to learn more about interactive tables.';\n",
              "          element.innerHTML = '';\n",
              "          dataTable['output_type'] = 'display_data';\n",
              "          await google.colab.output.renderOutput(dataTable, element);\n",
              "          const docLink = document.createElement('div');\n",
              "          docLink.innerHTML = docLinkHtml;\n",
              "          element.appendChild(docLink);\n",
              "        }\n",
              "      </script>\n",
              "    </div>\n",
              "  </div>\n",
              "  "
            ]
          },
          "metadata": {},
          "execution_count": 96
        }
      ]
    },
    {
      "cell_type": "code",
      "source": [
        "data.info()"
      ],
      "metadata": {
        "colab": {
          "base_uri": "https://localhost:8080/"
        },
        "id": "ZBOJ3ee1uzAt",
        "outputId": "b4538ae2-a541-4c94-fda7-a7df069bc37a"
      },
      "execution_count": null,
      "outputs": [
        {
          "output_type": "stream",
          "name": "stdout",
          "text": [
            "<class 'pandas.core.frame.DataFrame'>\n",
            "RangeIndex: 990 entries, 0 to 989\n",
            "Data columns (total 3 columns):\n",
            " #   Column   Non-Null Count  Dtype \n",
            "---  ------   --------------  ----- \n",
            " 0   Tweet    990 non-null    object\n",
            " 1   tanggal  990 non-null    object\n",
            " 2   label    990 non-null    int64 \n",
            "dtypes: int64(1), object(2)\n",
            "memory usage: 23.3+ KB\n"
          ]
        }
      ]
    },
    {
      "cell_type": "code",
      "source": [
        "# positif = data[data['label'] == 1]\n",
        "# negatif = data[data['label'] == 2]\n",
        "# print(positif.shape)\n",
        "# print(negatif.shape)"
      ],
      "metadata": {
        "id": "LtFhBE_Q2AB3"
      },
      "execution_count": null,
      "outputs": []
    },
    {
      "cell_type": "code",
      "source": [
        "# from sklearn.utils import resample\n",
        "# positif_downsample = resample(positif,\n",
        "#              replace=True,\n",
        "#              n_samples=len(negatif),\n",
        "#              random_state=42)\n",
        "\n",
        "# print(positif_downsample.shape)"
      ],
      "metadata": {
        "id": "dQ98XBk02igA"
      },
      "execution_count": null,
      "outputs": []
    },
    {
      "cell_type": "code",
      "source": [
        "# data = pd.concat([positif_downsample, negatif])\n",
        "# print(data[\"label\"].value_counts())"
      ],
      "metadata": {
        "id": "IExzBSFS2wRm"
      },
      "execution_count": null,
      "outputs": []
    },
    {
      "cell_type": "code",
      "source": [
        "data.head()"
      ],
      "metadata": {
        "colab": {
          "base_uri": "https://localhost:8080/",
          "height": 206
        },
        "id": "_xPuyNqd3LKe",
        "outputId": "5e4da563-6f5e-400e-d2bb-52e3d0489363"
      },
      "execution_count": null,
      "outputs": [
        {
          "output_type": "execute_result",
          "data": {
            "text/plain": [
              "                                               Tweet     tanggal  label\n",
              "0  Ada voc voucher gofood 70% ga ya? Yg minbel 10...  21/02/2023      1\n",
              "1          need voucher gofood yg udah gf+ #zonauanv  10/02/2023      1\n",
              "2  Hidup ini bukan berlomba2 melawan teman melain...  16/02/2023      1\n",
              "3           mau voc gofood minbel 30k dong #zonauang  20/02/2023      1\n",
              "4                           gofood apa ya jam sgini?  21/02/2023      1"
            ],
            "text/html": [
              "\n",
              "  <div id=\"df-c66e86e5-7e69-415d-a7c9-796eacc26ed1\">\n",
              "    <div class=\"colab-df-container\">\n",
              "      <div>\n",
              "<style scoped>\n",
              "    .dataframe tbody tr th:only-of-type {\n",
              "        vertical-align: middle;\n",
              "    }\n",
              "\n",
              "    .dataframe tbody tr th {\n",
              "        vertical-align: top;\n",
              "    }\n",
              "\n",
              "    .dataframe thead th {\n",
              "        text-align: right;\n",
              "    }\n",
              "</style>\n",
              "<table border=\"1\" class=\"dataframe\">\n",
              "  <thead>\n",
              "    <tr style=\"text-align: right;\">\n",
              "      <th></th>\n",
              "      <th>Tweet</th>\n",
              "      <th>tanggal</th>\n",
              "      <th>label</th>\n",
              "    </tr>\n",
              "  </thead>\n",
              "  <tbody>\n",
              "    <tr>\n",
              "      <th>0</th>\n",
              "      <td>Ada voc voucher gofood 70% ga ya? Yg minbel 10...</td>\n",
              "      <td>21/02/2023</td>\n",
              "      <td>1</td>\n",
              "    </tr>\n",
              "    <tr>\n",
              "      <th>1</th>\n",
              "      <td>need voucher gofood yg udah gf+ #zonauanv</td>\n",
              "      <td>10/02/2023</td>\n",
              "      <td>1</td>\n",
              "    </tr>\n",
              "    <tr>\n",
              "      <th>2</th>\n",
              "      <td>Hidup ini bukan berlomba2 melawan teman melain...</td>\n",
              "      <td>16/02/2023</td>\n",
              "      <td>1</td>\n",
              "    </tr>\n",
              "    <tr>\n",
              "      <th>3</th>\n",
              "      <td>mau voc gofood minbel 30k dong #zonauang</td>\n",
              "      <td>20/02/2023</td>\n",
              "      <td>1</td>\n",
              "    </tr>\n",
              "    <tr>\n",
              "      <th>4</th>\n",
              "      <td>gofood apa ya jam sgini?</td>\n",
              "      <td>21/02/2023</td>\n",
              "      <td>1</td>\n",
              "    </tr>\n",
              "  </tbody>\n",
              "</table>\n",
              "</div>\n",
              "      <button class=\"colab-df-convert\" onclick=\"convertToInteractive('df-c66e86e5-7e69-415d-a7c9-796eacc26ed1')\"\n",
              "              title=\"Convert this dataframe to an interactive table.\"\n",
              "              style=\"display:none;\">\n",
              "        \n",
              "  <svg xmlns=\"http://www.w3.org/2000/svg\" height=\"24px\"viewBox=\"0 0 24 24\"\n",
              "       width=\"24px\">\n",
              "    <path d=\"M0 0h24v24H0V0z\" fill=\"none\"/>\n",
              "    <path d=\"M18.56 5.44l.94 2.06.94-2.06 2.06-.94-2.06-.94-.94-2.06-.94 2.06-2.06.94zm-11 1L8.5 8.5l.94-2.06 2.06-.94-2.06-.94L8.5 2.5l-.94 2.06-2.06.94zm10 10l.94 2.06.94-2.06 2.06-.94-2.06-.94-.94-2.06-.94 2.06-2.06.94z\"/><path d=\"M17.41 7.96l-1.37-1.37c-.4-.4-.92-.59-1.43-.59-.52 0-1.04.2-1.43.59L10.3 9.45l-7.72 7.72c-.78.78-.78 2.05 0 2.83L4 21.41c.39.39.9.59 1.41.59.51 0 1.02-.2 1.41-.59l7.78-7.78 2.81-2.81c.8-.78.8-2.07 0-2.86zM5.41 20L4 18.59l7.72-7.72 1.47 1.35L5.41 20z\"/>\n",
              "  </svg>\n",
              "      </button>\n",
              "      \n",
              "  <style>\n",
              "    .colab-df-container {\n",
              "      display:flex;\n",
              "      flex-wrap:wrap;\n",
              "      gap: 12px;\n",
              "    }\n",
              "\n",
              "    .colab-df-convert {\n",
              "      background-color: #E8F0FE;\n",
              "      border: none;\n",
              "      border-radius: 50%;\n",
              "      cursor: pointer;\n",
              "      display: none;\n",
              "      fill: #1967D2;\n",
              "      height: 32px;\n",
              "      padding: 0 0 0 0;\n",
              "      width: 32px;\n",
              "    }\n",
              "\n",
              "    .colab-df-convert:hover {\n",
              "      background-color: #E2EBFA;\n",
              "      box-shadow: 0px 1px 2px rgba(60, 64, 67, 0.3), 0px 1px 3px 1px rgba(60, 64, 67, 0.15);\n",
              "      fill: #174EA6;\n",
              "    }\n",
              "\n",
              "    [theme=dark] .colab-df-convert {\n",
              "      background-color: #3B4455;\n",
              "      fill: #D2E3FC;\n",
              "    }\n",
              "\n",
              "    [theme=dark] .colab-df-convert:hover {\n",
              "      background-color: #434B5C;\n",
              "      box-shadow: 0px 1px 3px 1px rgba(0, 0, 0, 0.15);\n",
              "      filter: drop-shadow(0px 1px 2px rgba(0, 0, 0, 0.3));\n",
              "      fill: #FFFFFF;\n",
              "    }\n",
              "  </style>\n",
              "\n",
              "      <script>\n",
              "        const buttonEl =\n",
              "          document.querySelector('#df-c66e86e5-7e69-415d-a7c9-796eacc26ed1 button.colab-df-convert');\n",
              "        buttonEl.style.display =\n",
              "          google.colab.kernel.accessAllowed ? 'block' : 'none';\n",
              "\n",
              "        async function convertToInteractive(key) {\n",
              "          const element = document.querySelector('#df-c66e86e5-7e69-415d-a7c9-796eacc26ed1');\n",
              "          const dataTable =\n",
              "            await google.colab.kernel.invokeFunction('convertToInteractive',\n",
              "                                                     [key], {});\n",
              "          if (!dataTable) return;\n",
              "\n",
              "          const docLinkHtml = 'Like what you see? Visit the ' +\n",
              "            '<a target=\"_blank\" href=https://colab.research.google.com/notebooks/data_table.ipynb>data table notebook</a>'\n",
              "            + ' to learn more about interactive tables.';\n",
              "          element.innerHTML = '';\n",
              "          dataTable['output_type'] = 'display_data';\n",
              "          await google.colab.output.renderOutput(dataTable, element);\n",
              "          const docLink = document.createElement('div');\n",
              "          docLink.innerHTML = docLinkHtml;\n",
              "          element.appendChild(docLink);\n",
              "        }\n",
              "      </script>\n",
              "    </div>\n",
              "  </div>\n",
              "  "
            ]
          },
          "metadata": {},
          "execution_count": 9
        }
      ]
    },
    {
      "cell_type": "markdown",
      "source": [
        "# Text Preprocessing"
      ],
      "metadata": {
        "id": "opWIbw5X_fC3"
      }
    },
    {
      "cell_type": "code",
      "source": [
        "import re\n",
        "\n",
        "# Buat fungsi untuk langkah case folding\n",
        "def casefolding(text):\n",
        "  text = text.lower()                               # Mengubah teks menjadi lower case\n",
        "  text = re.sub(r'#([a-zA-Z0-9_]{1,50})','', text)  # menghapus hashtag\n",
        "  text = re.sub(r'https?://\\S+|www\\.\\S+', '', text) # Menghapus URL\n",
        "  text = re.sub(r'[-+]?[0-9]+', '', text)           # Menghapus angka\n",
        "  text = re.sub(r'[^\\w\\s]','', text)                # Menghapus karakter tanda baca\n",
        "  text = text.strip()\n",
        "  return text"
      ],
      "metadata": {
        "id": "VYhrutb__iMV"
      },
      "execution_count": null,
      "outputs": []
    },
    {
      "cell_type": "code",
      "source": [
        "raw_sample = data['Tweet'].iloc[5]\n",
        "case_folding = casefolding(raw_sample)\n",
        "\n",
        "print('Raw data\\t: ', raw_sample)\n",
        "print('Case folding\\t: ', case_folding)"
      ],
      "metadata": {
        "id": "Q7-2Jzv1_gWm",
        "colab": {
          "base_uri": "https://localhost:8080/"
        },
        "outputId": "e132fdd5-be1e-4c99-a9a2-549dd05bce71"
      },
      "execution_count": null,
      "outputs": [
        {
          "output_type": "stream",
          "name": "stdout",
          "text": [
            "Raw data\t:  Pengen gofood minuman dehh\n",
            "Case folding\t:  pengen gofood minuman dehh\n"
          ]
        }
      ]
    },
    {
      "cell_type": "markdown",
      "source": [
        "### normalisasi"
      ],
      "metadata": {
        "id": "BG2z-FpWScLF"
      }
    },
    {
      "cell_type": "code",
      "source": [
        "!pip -q install sastrawi"
      ],
      "metadata": {
        "id": "wykxhLZjT5E2",
        "colab": {
          "base_uri": "https://localhost:8080/"
        },
        "outputId": "e2fc6be1-c993-4e6b-d6e5-2e25abc7bad5"
      },
      "execution_count": null,
      "outputs": [
        {
          "output_type": "stream",
          "name": "stdout",
          "text": [
            "\u001b[?25l     \u001b[90m━━━━━━━━━━━━━━━━━━━━━━━━━━━━━━━━━━━━━━━━\u001b[0m \u001b[32m0.0/209.7 kB\u001b[0m \u001b[31m?\u001b[0m eta \u001b[36m-:--:--\u001b[0m\r\u001b[2K     \u001b[90m━━━━━━━━━━━━━━━━━━━━━━━━━━━━━━━━━━━━━━━\u001b[0m \u001b[32m209.7/209.7 kB\u001b[0m \u001b[31m9.6 MB/s\u001b[0m eta \u001b[36m0:00:00\u001b[0m\n",
            "\u001b[?25h"
          ]
        }
      ]
    },
    {
      "cell_type": "code",
      "source": [
        "import nltk\n",
        "nltk.download('stopwords')"
      ],
      "metadata": {
        "colab": {
          "base_uri": "https://localhost:8080/"
        },
        "id": "TxipFQclT5kM",
        "outputId": "ee20dd33-f103-48e0-d5b8-100cca84bcb6"
      },
      "execution_count": null,
      "outputs": [
        {
          "output_type": "stream",
          "name": "stderr",
          "text": [
            "[nltk_data] Downloading package stopwords to /root/nltk_data...\n",
            "[nltk_data]   Unzipping corpora/stopwords.zip.\n"
          ]
        },
        {
          "output_type": "execute_result",
          "data": {
            "text/plain": [
              "True"
            ]
          },
          "metadata": {},
          "execution_count": 13
        }
      ]
    },
    {
      "cell_type": "code",
      "source": [
        "# Download corpus singkatan\n",
        "# !wget https://raw.githubusercontent.com/ksnugroho/klasifikasi-spam-sms/master/data/key_norm.csv"
      ],
      "metadata": {
        "id": "fiF4kndIGySJ"
      },
      "execution_count": null,
      "outputs": []
    },
    {
      "cell_type": "code",
      "source": [
        "key_norm = pd.read_csv('key_norm.csv', sep=';')\n",
        "\n",
        "def text_normalize(text):\n",
        "  text = ' '.join([key_norm[key_norm['singkat'] == word]['hasil'].values[0] if (key_norm['singkat'] == word).any() else word for word in text.split()])\n",
        "  text = str.lower(text)\n",
        "  return text"
      ],
      "metadata": {
        "id": "IvPmvbIOSfyV"
      },
      "execution_count": null,
      "outputs": []
    },
    {
      "cell_type": "markdown",
      "source": [
        "### filtering"
      ],
      "metadata": {
        "id": "24XzonPXSnKh"
      }
    },
    {
      "cell_type": "code",
      "source": [
        "from nltk.tokenize import sent_tokenize, word_tokenize\n",
        "from nltk.corpus import stopwords\n",
        "\n",
        "stopwords_ind = stopwords.words('indonesian')"
      ],
      "metadata": {
        "id": "cdEXoMv1Sl1l"
      },
      "execution_count": null,
      "outputs": []
    },
    {
      "cell_type": "code",
      "source": [
        "len(stopwords_ind)"
      ],
      "metadata": {
        "colab": {
          "base_uri": "https://localhost:8080/"
        },
        "id": "MODAKQcTSsat",
        "outputId": "bdff1df9-2a4a-496e-91b4-496f2187a1e0"
      },
      "execution_count": null,
      "outputs": [
        {
          "output_type": "execute_result",
          "data": {
            "text/plain": [
              "758"
            ]
          },
          "metadata": {},
          "execution_count": 17
        }
      ]
    },
    {
      "cell_type": "code",
      "source": [
        "# Buat fungsi untuk langkah stopword removal\n",
        "\n",
        "more_stopword = ['rb', 'k', 'in', 'nya', 'ajg', 'anjir', 'anjing']                    # Tambahkan kata dalam daftar stopword\n",
        "stopwords_ind = stopwords_ind + more_stopword\n",
        "\n",
        "def remove_stop_words(text):\n",
        "  clean_words = []\n",
        "  text = text.split()\n",
        "  for word in text:\n",
        "      if word not in stopwords_ind:\n",
        "          clean_words.append(word)\n",
        "  return \" \".join(clean_words)"
      ],
      "metadata": {
        "id": "uWRPxo2dSs0I"
      },
      "execution_count": null,
      "outputs": []
    },
    {
      "cell_type": "code",
      "source": [
        "raw_sample = data['Tweet'].iloc[17]\n",
        "case_folding = casefolding(raw_sample)\n",
        "stopword_removal = remove_stop_words(case_folding)\n",
        "\n",
        "print('Raw data\\t\\t: ', raw_sample)\n",
        "print('Case folding\\t\\t: ', case_folding)\n",
        "print('Stopword removal\\t: ', stopword_removal)"
      ],
      "metadata": {
        "colab": {
          "base_uri": "https://localhost:8080/"
        },
        "id": "gbngTTPGSuEz",
        "outputId": "369d3fad-6afe-4ba4-bb25-90028b595421"
      },
      "execution_count": null,
      "outputs": [
        {
          "output_type": "stream",
          "name": "stdout",
          "text": [
            "Raw data\t\t:  Pengen gofood minuman dehh\n",
            "Case folding\t\t:  pengen gofood minuman dehh\n",
            "Stopword removal\t:  pengen gofood minuman dehh\n"
          ]
        }
      ]
    },
    {
      "cell_type": "markdown",
      "source": [
        "### stemming"
      ],
      "metadata": {
        "id": "LI15KDJSSzUj"
      }
    },
    {
      "cell_type": "code",
      "source": [
        "from Sastrawi.Stemmer.StemmerFactory import StemmerFactory\n",
        "\n",
        "factory = StemmerFactory()\n",
        "stemmer = factory.create_stemmer()\n",
        "\n",
        "# Buat fungsi untuk langkah stemming bahasa Indonesia\n",
        "def stemming(text):\n",
        "  text = stemmer.stem(text)\n",
        "  return text"
      ],
      "metadata": {
        "id": "buZtwPhESxEu"
      },
      "execution_count": null,
      "outputs": []
    },
    {
      "cell_type": "code",
      "source": [
        "raw_sample = data['Tweet'].iloc[17]\n",
        "case_folding = casefolding(raw_sample)\n",
        "stopword_removal = remove_stop_words(case_folding)\n",
        "text_stemming = stemming(stopword_removal)\n",
        "\n",
        "print('Raw data\\t\\t: ', raw_sample)\n",
        "print('Case folding\\t\\t: ', case_folding)\n",
        "print('Stopword removal\\t: ', stopword_removal)\n",
        "print('Stemming\\t\\t: ', text_stemming)"
      ],
      "metadata": {
        "colab": {
          "base_uri": "https://localhost:8080/",
          "height": 502
        },
        "id": "h8skqVwnS1sb",
        "outputId": "774bc6db-158d-434b-997b-ad8d80e7ed1c"
      },
      "execution_count": null,
      "outputs": [
        {
          "output_type": "error",
          "ename": "KeyError",
          "evalue": "ignored",
          "traceback": [
            "\u001b[0;31m---------------------------------------------------------------------------\u001b[0m",
            "\u001b[0;31mKeyError\u001b[0m                                  Traceback (most recent call last)",
            "\u001b[0;32m/usr/local/lib/python3.10/dist-packages/pandas/core/indexes/base.py\u001b[0m in \u001b[0;36mget_loc\u001b[0;34m(self, key, method, tolerance)\u001b[0m\n\u001b[1;32m   3801\u001b[0m             \u001b[0;32mtry\u001b[0m\u001b[0;34m:\u001b[0m\u001b[0;34m\u001b[0m\u001b[0;34m\u001b[0m\u001b[0m\n\u001b[0;32m-> 3802\u001b[0;31m                 \u001b[0;32mreturn\u001b[0m \u001b[0mself\u001b[0m\u001b[0;34m.\u001b[0m\u001b[0m_engine\u001b[0m\u001b[0;34m.\u001b[0m\u001b[0mget_loc\u001b[0m\u001b[0;34m(\u001b[0m\u001b[0mcasted_key\u001b[0m\u001b[0;34m)\u001b[0m\u001b[0;34m\u001b[0m\u001b[0;34m\u001b[0m\u001b[0m\n\u001b[0m\u001b[1;32m   3803\u001b[0m             \u001b[0;32mexcept\u001b[0m \u001b[0mKeyError\u001b[0m \u001b[0;32mas\u001b[0m \u001b[0merr\u001b[0m\u001b[0;34m:\u001b[0m\u001b[0;34m\u001b[0m\u001b[0;34m\u001b[0m\u001b[0m\n",
            "\u001b[0;32m/usr/local/lib/python3.10/dist-packages/pandas/_libs/index.pyx\u001b[0m in \u001b[0;36mpandas._libs.index.IndexEngine.get_loc\u001b[0;34m()\u001b[0m\n",
            "\u001b[0;32m/usr/local/lib/python3.10/dist-packages/pandas/_libs/index.pyx\u001b[0m in \u001b[0;36mpandas._libs.index.IndexEngine.get_loc\u001b[0;34m()\u001b[0m\n",
            "\u001b[0;32mpandas/_libs/hashtable_class_helper.pxi\u001b[0m in \u001b[0;36mpandas._libs.hashtable.PyObjectHashTable.get_item\u001b[0;34m()\u001b[0m\n",
            "\u001b[0;32mpandas/_libs/hashtable_class_helper.pxi\u001b[0m in \u001b[0;36mpandas._libs.hashtable.PyObjectHashTable.get_item\u001b[0;34m()\u001b[0m\n",
            "\u001b[0;31mKeyError\u001b[0m: 'Tweet'",
            "\nThe above exception was the direct cause of the following exception:\n",
            "\u001b[0;31mKeyError\u001b[0m                                  Traceback (most recent call last)",
            "\u001b[0;32m<ipython-input-94-379fd905b99e>\u001b[0m in \u001b[0;36m<cell line: 1>\u001b[0;34m()\u001b[0m\n\u001b[0;32m----> 1\u001b[0;31m \u001b[0mraw_sample\u001b[0m \u001b[0;34m=\u001b[0m \u001b[0mdata\u001b[0m\u001b[0;34m[\u001b[0m\u001b[0;34m'Tweet'\u001b[0m\u001b[0;34m]\u001b[0m\u001b[0;34m.\u001b[0m\u001b[0miloc\u001b[0m\u001b[0;34m[\u001b[0m\u001b[0;36m17\u001b[0m\u001b[0;34m]\u001b[0m\u001b[0;34m\u001b[0m\u001b[0;34m\u001b[0m\u001b[0m\n\u001b[0m\u001b[1;32m      2\u001b[0m \u001b[0mcase_folding\u001b[0m \u001b[0;34m=\u001b[0m \u001b[0mcasefolding\u001b[0m\u001b[0;34m(\u001b[0m\u001b[0mraw_sample\u001b[0m\u001b[0;34m)\u001b[0m\u001b[0;34m\u001b[0m\u001b[0;34m\u001b[0m\u001b[0m\n\u001b[1;32m      3\u001b[0m \u001b[0mstopword_removal\u001b[0m \u001b[0;34m=\u001b[0m \u001b[0mremove_stop_words\u001b[0m\u001b[0;34m(\u001b[0m\u001b[0mcase_folding\u001b[0m\u001b[0;34m)\u001b[0m\u001b[0;34m\u001b[0m\u001b[0;34m\u001b[0m\u001b[0m\n\u001b[1;32m      4\u001b[0m \u001b[0mtext_stemming\u001b[0m \u001b[0;34m=\u001b[0m \u001b[0mstemming\u001b[0m\u001b[0;34m(\u001b[0m\u001b[0mstopword_removal\u001b[0m\u001b[0;34m)\u001b[0m\u001b[0;34m\u001b[0m\u001b[0;34m\u001b[0m\u001b[0m\n\u001b[1;32m      5\u001b[0m \u001b[0;34m\u001b[0m\u001b[0m\n",
            "\u001b[0;32m/usr/local/lib/python3.10/dist-packages/pandas/core/frame.py\u001b[0m in \u001b[0;36m__getitem__\u001b[0;34m(self, key)\u001b[0m\n\u001b[1;32m   3805\u001b[0m             \u001b[0;32mif\u001b[0m \u001b[0mself\u001b[0m\u001b[0;34m.\u001b[0m\u001b[0mcolumns\u001b[0m\u001b[0;34m.\u001b[0m\u001b[0mnlevels\u001b[0m \u001b[0;34m>\u001b[0m \u001b[0;36m1\u001b[0m\u001b[0;34m:\u001b[0m\u001b[0;34m\u001b[0m\u001b[0;34m\u001b[0m\u001b[0m\n\u001b[1;32m   3806\u001b[0m                 \u001b[0;32mreturn\u001b[0m \u001b[0mself\u001b[0m\u001b[0;34m.\u001b[0m\u001b[0m_getitem_multilevel\u001b[0m\u001b[0;34m(\u001b[0m\u001b[0mkey\u001b[0m\u001b[0;34m)\u001b[0m\u001b[0;34m\u001b[0m\u001b[0;34m\u001b[0m\u001b[0m\n\u001b[0;32m-> 3807\u001b[0;31m             \u001b[0mindexer\u001b[0m \u001b[0;34m=\u001b[0m \u001b[0mself\u001b[0m\u001b[0;34m.\u001b[0m\u001b[0mcolumns\u001b[0m\u001b[0;34m.\u001b[0m\u001b[0mget_loc\u001b[0m\u001b[0;34m(\u001b[0m\u001b[0mkey\u001b[0m\u001b[0;34m)\u001b[0m\u001b[0;34m\u001b[0m\u001b[0;34m\u001b[0m\u001b[0m\n\u001b[0m\u001b[1;32m   3808\u001b[0m             \u001b[0;32mif\u001b[0m \u001b[0mis_integer\u001b[0m\u001b[0;34m(\u001b[0m\u001b[0mindexer\u001b[0m\u001b[0;34m)\u001b[0m\u001b[0;34m:\u001b[0m\u001b[0;34m\u001b[0m\u001b[0;34m\u001b[0m\u001b[0m\n\u001b[1;32m   3809\u001b[0m                 \u001b[0mindexer\u001b[0m \u001b[0;34m=\u001b[0m \u001b[0;34m[\u001b[0m\u001b[0mindexer\u001b[0m\u001b[0;34m]\u001b[0m\u001b[0;34m\u001b[0m\u001b[0;34m\u001b[0m\u001b[0m\n",
            "\u001b[0;32m/usr/local/lib/python3.10/dist-packages/pandas/core/indexes/base.py\u001b[0m in \u001b[0;36mget_loc\u001b[0;34m(self, key, method, tolerance)\u001b[0m\n\u001b[1;32m   3802\u001b[0m                 \u001b[0;32mreturn\u001b[0m \u001b[0mself\u001b[0m\u001b[0;34m.\u001b[0m\u001b[0m_engine\u001b[0m\u001b[0;34m.\u001b[0m\u001b[0mget_loc\u001b[0m\u001b[0;34m(\u001b[0m\u001b[0mcasted_key\u001b[0m\u001b[0;34m)\u001b[0m\u001b[0;34m\u001b[0m\u001b[0;34m\u001b[0m\u001b[0m\n\u001b[1;32m   3803\u001b[0m             \u001b[0;32mexcept\u001b[0m \u001b[0mKeyError\u001b[0m \u001b[0;32mas\u001b[0m \u001b[0merr\u001b[0m\u001b[0;34m:\u001b[0m\u001b[0;34m\u001b[0m\u001b[0;34m\u001b[0m\u001b[0m\n\u001b[0;32m-> 3804\u001b[0;31m                 \u001b[0;32mraise\u001b[0m \u001b[0mKeyError\u001b[0m\u001b[0;34m(\u001b[0m\u001b[0mkey\u001b[0m\u001b[0;34m)\u001b[0m \u001b[0;32mfrom\u001b[0m \u001b[0merr\u001b[0m\u001b[0;34m\u001b[0m\u001b[0;34m\u001b[0m\u001b[0m\n\u001b[0m\u001b[1;32m   3805\u001b[0m             \u001b[0;32mexcept\u001b[0m \u001b[0mTypeError\u001b[0m\u001b[0;34m:\u001b[0m\u001b[0;34m\u001b[0m\u001b[0;34m\u001b[0m\u001b[0m\n\u001b[1;32m   3806\u001b[0m                 \u001b[0;31m# If we have a listlike key, _check_indexing_error will raise\u001b[0m\u001b[0;34m\u001b[0m\u001b[0;34m\u001b[0m\u001b[0m\n",
            "\u001b[0;31mKeyError\u001b[0m: 'Tweet'"
          ]
        }
      ]
    },
    {
      "cell_type": "markdown",
      "source": [
        "### pipeline"
      ],
      "metadata": {
        "id": "26vbcMzvS9CI"
      }
    },
    {
      "cell_type": "code",
      "source": [
        "# Buat fungsi untuk menggabungkan seluruh langkah text preprocessing\n",
        "def text_preprocessing_process(text):\n",
        "  text = casefolding(text)\n",
        "  text = text_normalize(text)\n",
        "  text = stemming(text)\n",
        "  text = remove_stop_words(text)\n",
        "  return text"
      ],
      "metadata": {
        "id": "4W7Plta4S68B"
      },
      "execution_count": null,
      "outputs": []
    },
    {
      "cell_type": "code",
      "source": [
        "%%time\n",
        "data['clean_teks'] = data['Tweet'].apply(text_preprocessing_process)\n",
        "\n",
        "# Perhatikan waktu komputasi ketika proses text preprocessing"
      ],
      "metadata": {
        "colab": {
          "base_uri": "https://localhost:8080/"
        },
        "id": "8V1glV8lS_SE",
        "outputId": "18053391-aeb8-4248-eb3e-8ed17fe7386c"
      },
      "execution_count": null,
      "outputs": [
        {
          "output_type": "stream",
          "name": "stdout",
          "text": [
            "CPU times: user 2min 5s, sys: 455 ms, total: 2min 6s\n",
            "Wall time: 2min 19s\n"
          ]
        }
      ]
    },
    {
      "cell_type": "code",
      "source": [
        "data.to_csv('clean_dataset_sms_spam.csv')"
      ],
      "metadata": {
        "id": "bnKWjpLnH6vT"
      },
      "execution_count": null,
      "outputs": []
    },
    {
      "cell_type": "markdown",
      "source": [
        "# Word Embedding"
      ],
      "metadata": {
        "id": "gc5B9vg1_53a"
      }
    },
    {
      "cell_type": "markdown",
      "source": [
        "## Word2Vec"
      ],
      "metadata": {
        "id": "UoSm8it-HtHH"
      }
    },
    {
      "cell_type": "code",
      "source": [
        "#import library\n",
        "import gensim"
      ],
      "metadata": {
        "id": "UjiWP5jI_7h1"
      },
      "execution_count": null,
      "outputs": []
    },
    {
      "cell_type": "code",
      "source": [
        "# Tokenize kata pada setiap kalimat\n",
        "def tokenization(text):\n",
        "  text = re.split('\\W+', text)\n",
        "  return text\n",
        "\n",
        "sentences = data['clean_teks'].apply(lambda x: tokenization(x.lower()))\n",
        "sentences"
      ],
      "metadata": {
        "id": "DxEdc-0wHDx0",
        "colab": {
          "base_uri": "https://localhost:8080/"
        },
        "outputId": "bfb680ed-7321-4072-a3c3-6f761253f5c5"
      },
      "execution_count": null,
      "outputs": [
        {
          "output_type": "execute_result",
          "data": {
            "text/plain": [
              "0      [voucher, voucher, gofood, ya, minimal, beli, ...\n",
              "1                           [butuh, voucher, gofood, gf]\n",
              "2      [hidup, lomba, lawan, teman, lomba, lawan, huj...\n",
              "3                 [voucher, gofood, minimal, beli, ribu]\n",
              "4                                 [gofood, ya, jam, gin]\n",
              "                             ...                        \n",
              "985                    [gofood, ongkirnya, mahal, makan]\n",
              "986    [gofood, tokped, track, driverny, sihh, kasih,...\n",
              "987    [mohon, maaf, serius, ongkir, gofood, qmall, r...\n",
              "988    [wuadu, gofood, promo, pakai, paylater, ribet,...\n",
              "989    [tahan, tahanin, biar, gajajan, gofood, alias,...\n",
              "Name: clean_teks, Length: 990, dtype: object"
            ]
          },
          "metadata": {},
          "execution_count": 26
        }
      ]
    },
    {
      "cell_type": "code",
      "source": [
        "# Defenisikan parameter training Word2Vec\n",
        "\n",
        "MIN_COUNT = 1       # Mengabaikan semua kata dengan frekuensi total lebih rendah dari ini (opsional)\n",
        "WINDOW = 5          # Window size. Jarak maksimum antara kata saat ini dan yang diprediksi dalam sebuah kalimat.\n",
        "EPOCH = 100          # Jumlah iterasi (epoch).\n",
        "SG = 1              # Algoritma pelatihan: 1 untuk skip-gram, 0 untuk CBOW.\n",
        "SIZE = 50            # Dimensi vektor\n",
        "NEGATIVE = 1            # Negative sampling. Jika 0, negative sampling tidak digunakan"
      ],
      "metadata": {
        "id": "Degyq5_FOcX0"
      },
      "execution_count": null,
      "outputs": []
    },
    {
      "cell_type": "code",
      "source": [],
      "metadata": {
        "id": "blnHCihfsX3o"
      },
      "execution_count": null,
      "outputs": []
    },
    {
      "cell_type": "code",
      "source": [
        "# Proses training Word2Vec\n",
        "\n",
        "%%time\n",
        "model_word2vec = gensim.models.Word2Vec(sentences, vector_size=SIZE, sg=SG, min_count=MIN_COUNT, negative=NEGATIVE, window=WINDOW, epochs=EPOCH)"
      ],
      "metadata": {
        "id": "_jTddWXAOrao",
        "colab": {
          "base_uri": "https://localhost:8080/"
        },
        "outputId": "511fce9b-10cd-4c6f-b47f-0b38d68a2bfa"
      },
      "execution_count": null,
      "outputs": [
        {
          "output_type": "stream",
          "name": "stdout",
          "text": [
            "CPU times: user 1.28 s, sys: 43.5 ms, total: 1.33 s\n",
            "Wall time: 1.37 s\n"
          ]
        }
      ]
    },
    {
      "cell_type": "code",
      "source": [
        "# Save Word2Vec sebagai full model\n",
        "model_word2vec.save('myvec-word2vec-100.model')"
      ],
      "metadata": {
        "id": "DnjhryDuEeOe"
      },
      "execution_count": null,
      "outputs": []
    },
    {
      "cell_type": "code",
      "source": [
        "# Save Word2Vec sebagai wordvectors. Hanya menyimpan kata & trained embeddingnya\n",
        "word2vec_word_vectors = model_word2vec.wv\n",
        "word2vec_word_vectors.save('myvec-word2vec-100.wordvectors')"
      ],
      "metadata": {
        "id": "o-qUNS30PxcA"
      },
      "execution_count": null,
      "outputs": []
    },
    {
      "cell_type": "code",
      "source": [
        "# Cari nilai vektor dari kata 'hadiah'\n",
        "model_word2vec.wv['promo']"
      ],
      "metadata": {
        "id": "Z6bssKdsSDTU",
        "colab": {
          "base_uri": "https://localhost:8080/"
        },
        "outputId": "72f17748-8d59-4993-b5d7-9d1ba5d2b537"
      },
      "execution_count": null,
      "outputs": [
        {
          "output_type": "execute_result",
          "data": {
            "text/plain": [
              "array([-0.44308293,  0.5745592 ,  0.4670352 ,  0.5158848 ,  0.28734618,\n",
              "       -0.3189044 ,  0.10773231,  1.005368  ,  0.19227463,  0.1537855 ,\n",
              "       -0.02156748, -0.7864014 ,  0.00452301,  0.8573669 , -0.13905595,\n",
              "        0.61481756,  0.43355379,  0.87501544, -0.12781936, -0.82134044,\n",
              "        0.46746913,  0.28453472,  1.4205858 , -0.9401051 ,  0.66859525,\n",
              "       -0.01440505, -0.5154972 ,  0.12857151, -0.23816776,  0.0252539 ,\n",
              "        0.12569776, -0.69052243,  0.67869484,  0.04913732, -0.02963615,\n",
              "        0.3382587 ,  0.4815851 , -0.7665679 ,  0.3055953 ,  0.5272127 ,\n",
              "        0.7413106 , -0.27023056, -0.59685093, -0.01413041,  0.582623  ,\n",
              "        0.50580144,  0.24263944,  0.38607618, -0.0481297 , -0.01205805],\n",
              "      dtype=float32)"
            ]
          },
          "metadata": {},
          "execution_count": 31
        }
      ]
    },
    {
      "cell_type": "code",
      "source": [
        "# Menemukan kata kata teratas yang paling mirip.\n",
        "# Menghitung kesamaan dari vektor bobot proyeksi dari kata-kata yang diberikan dan vektor untuk setiap kata dalam model.\n",
        "\n",
        "model_word2vec.wv.most_similar('promo')"
      ],
      "metadata": {
        "colab": {
          "base_uri": "https://localhost:8080/"
        },
        "id": "wv-75m4XJM3N",
        "outputId": "61e21703-6f87-4ee8-f941-f44c1b24f4e6"
      },
      "execution_count": null,
      "outputs": [
        {
          "output_type": "execute_result",
          "data": {
            "text/plain": [
              "[('kasih', 0.5476367473602295),\n",
              " ('kode', 0.5181834697723389),\n",
              " ('terima', 0.505809485912323),\n",
              " ('gojekindonesia', 0.5033185482025146),\n",
              " ('masuk', 0.5016215443611145),\n",
              " ('tibatiba', 0.49369150400161743),\n",
              " ('klaim', 0.48941323161125183),\n",
              " ('kembalu', 0.4840874671936035),\n",
              " ('voucher', 0.48347580432891846),\n",
              " ('thank', 0.4826628267765045)]"
            ]
          },
          "metadata": {},
          "execution_count": 32
        }
      ]
    },
    {
      "cell_type": "code",
      "source": [
        "# Karena berdimensi 5, kita membutuhkan\n",
        "# Kata-kata yang ingin kita plot vektornya\n",
        "word_list = ['promo', 'ongkir', 'gratis', 'voucher']\n",
        "\n",
        "# daftar vektor dari kata-kata tersebut\n",
        "word_vectors = np.array([model_word2vec.wv[w] for w in word_list])\n",
        "word_vectors"
      ],
      "metadata": {
        "id": "cvY-1pIUP7Ou",
        "colab": {
          "base_uri": "https://localhost:8080/"
        },
        "outputId": "650100a3-eba6-4058-f637-68458f21d264"
      },
      "execution_count": null,
      "outputs": [
        {
          "output_type": "execute_result",
          "data": {
            "text/plain": [
              "array([[-0.44308293,  0.5745592 ,  0.4670352 ,  0.5158848 ,  0.28734618,\n",
              "        -0.3189044 ,  0.10773231,  1.005368  ,  0.19227463,  0.1537855 ,\n",
              "        -0.02156748, -0.7864014 ,  0.00452301,  0.8573669 , -0.13905595,\n",
              "         0.61481756,  0.43355379,  0.87501544, -0.12781936, -0.82134044,\n",
              "         0.46746913,  0.28453472,  1.4205858 , -0.9401051 ,  0.66859525,\n",
              "        -0.01440505, -0.5154972 ,  0.12857151, -0.23816776,  0.0252539 ,\n",
              "         0.12569776, -0.69052243,  0.67869484,  0.04913732, -0.02963615,\n",
              "         0.3382587 ,  0.4815851 , -0.7665679 ,  0.3055953 ,  0.5272127 ,\n",
              "         0.7413106 , -0.27023056, -0.59685093, -0.01413041,  0.582623  ,\n",
              "         0.50580144,  0.24263944,  0.38607618, -0.0481297 , -0.01205805],\n",
              "       [ 0.2514846 , -0.36345303,  0.6822732 , -0.23604423, -0.5309136 ,\n",
              "        -0.73031896, -0.06887029,  1.267065  ,  0.3642493 , -0.7216074 ,\n",
              "         0.13355549, -0.5580509 ,  0.53930694,  0.5574485 , -0.2292661 ,\n",
              "         0.6611423 ,  0.20133534, -0.7139521 , -0.5492349 , -1.275648  ,\n",
              "        -0.573781  ,  0.27230656,  0.8369946 , -0.26070783,  0.03137092,\n",
              "        -0.06205453, -0.16430633,  1.1549786 ,  0.06213753,  0.7144982 ,\n",
              "        -0.3295322 , -0.09608711,  0.9358221 , -0.10486563,  0.15533288,\n",
              "         0.41437063,  0.3480564 , -1.2251285 , -0.8766964 , -0.6481564 ,\n",
              "         0.10914055, -0.02781384,  0.3095206 ,  0.4431781 ,  0.6000392 ,\n",
              "        -0.60252476, -0.69712514,  0.8055818 , -0.7750097 ,  0.8226679 ],\n",
              "       [ 0.54523045, -0.9837667 , -0.20388812,  0.6147337 , -0.4200066 ,\n",
              "        -0.8898284 ,  0.5627988 ,  1.274153  ,  0.12716326, -0.9699168 ,\n",
              "         0.588077  ,  0.09220424,  0.26347223,  0.47387272,  0.05592535,\n",
              "         0.7692169 ,  0.326792  , -1.2067801 , -0.21790816, -1.5619851 ,\n",
              "        -0.26400492,  0.43874785, -0.12570125,  0.12000545, -0.22134064,\n",
              "        -0.28236946, -0.53867865,  1.1941466 ,  0.12826663,  0.9397826 ,\n",
              "         0.16290705, -0.81231296,  0.39686206, -0.49807364, -0.14871036,\n",
              "         1.1952826 , -0.03997982, -0.4733722 , -0.19250242, -0.2532725 ,\n",
              "        -0.03594713, -0.12311301, -0.5279353 , -0.05832293,  1.3274316 ,\n",
              "        -0.21631847, -0.5408255 ,  0.19284491, -0.939759  ,  0.7502483 ],\n",
              "       [ 0.11163419,  0.47425315,  0.12134827,  0.07242359,  0.38547722,\n",
              "        -1.0500971 ,  0.4969034 ,  1.0001471 , -0.4040144 ,  0.19291258,\n",
              "        -0.6920991 ,  0.32477707,  0.36928108, -0.4223964 , -0.46979266,\n",
              "         0.5162509 , -0.02865916,  0.7853373 , -0.3057177 , -0.45806748,\n",
              "         0.55197775,  0.55614096,  0.4510674 ,  0.13524473,  0.23474425,\n",
              "         0.30429584, -0.09444518,  0.42465255, -0.60821176, -0.13666612,\n",
              "         0.28768125, -0.0585679 ,  0.43597126,  0.27357057, -0.30132923,\n",
              "         0.83333194,  0.9322032 , -0.820496  , -0.572168  ,  0.40346485,\n",
              "         0.7445221 ,  0.06494208, -0.22981054, -0.5648544 ,  1.6532546 ,\n",
              "         0.28890663, -1.2391248 , -0.49333224, -0.35049275,  0.00266033]],\n",
              "      dtype=float32)"
            ]
          },
          "metadata": {},
          "execution_count": 33
        }
      ]
    },
    {
      "cell_type": "code",
      "source": [
        "# Reduksi dimensi vektor ke 2D menggunakan PCA\n",
        "from sklearn.decomposition import PCA, KernelPCA\n",
        "\n",
        "dimred = PCA(n_components=2, copy=False, whiten=True)\n",
        "red_word_vectors = dimred.fit_transform(word_vectors)"
      ],
      "metadata": {
        "id": "UMu51unuQyp8"
      },
      "execution_count": null,
      "outputs": []
    },
    {
      "cell_type": "code",
      "source": [
        "red_word_vectors"
      ],
      "metadata": {
        "id": "mtdyBiGqQ3Bl",
        "colab": {
          "base_uri": "https://localhost:8080/"
        },
        "outputId": "1c1f2d2a-4a51-4e4a-aa87-a48a9dc04724"
      },
      "execution_count": null,
      "outputs": [
        {
          "output_type": "execute_result",
          "data": {
            "text/plain": [
              "array([[-0.8719682 , -1.0937282 ],\n",
              "       [ 0.72447777, -0.49450245],\n",
              "       [ 0.9967639 ,  0.40811864],\n",
              "       [-0.8492734 ,  1.1801122 ]], dtype=float32)"
            ]
          },
          "metadata": {},
          "execution_count": 35
        }
      ]
    },
    {
      "cell_type": "code",
      "source": [
        "# Implementasi visualisasi dapat di cek pada laman berikut: https://ir.cs.ui.ac.id/alfan/tutorial/gensim_w2v.html\n",
        "\n",
        "def plot(datas, labels, fc='yellow'):\n",
        "  # plot the dots\n",
        "  plt.subplots_adjust(bottom = 0.1)\n",
        "  plt.scatter(datas[:, 0], datas[:, 1], marker='o')\n",
        "\n",
        "  # annotate labels\n",
        "  for label, x, y in zip(labels, datas[:, 0], datas[:, 1]):\n",
        "    plt.annotate(label, \\\n",
        "                 xy=(x, y), xytext=(-15, 15), \\\n",
        "                 textcoords='offset points', ha='right', va='bottom', \\\n",
        "                 bbox=dict(boxstyle='round,pad=0.3', fc=fc, alpha=0.5), \\\n",
        "                 arrowprops=dict(arrowstyle = '->', connectionstyle='arc3,rad=0'))\n",
        "  plt.show()"
      ],
      "metadata": {
        "id": "Uj-WAyYEQLm5"
      },
      "execution_count": null,
      "outputs": []
    },
    {
      "cell_type": "code",
      "source": [
        "plot(red_word_vectors, word_list)"
      ],
      "metadata": {
        "id": "1qPQJ9bxvZxM",
        "colab": {
          "base_uri": "https://localhost:8080/",
          "height": 452
        },
        "outputId": "98161c28-e219-4d27-d130-835c1f3c9dd1"
      },
      "execution_count": null,
      "outputs": [
        {
          "output_type": "display_data",
          "data": {
            "text/plain": [
              "<Figure size 640x480 with 1 Axes>"
            ],
            "image/png": "[encoded data removed]"
          },
          "metadata": {}
        }
      ]
    },
    {
      "cell_type": "markdown",
      "source": [
        "## FastText"
      ],
      "metadata": {
        "id": "J1V85T-lDn2c"
      }
    },
    {
      "cell_type": "code",
      "source": [
        "# !pip -q install fasttext"
      ],
      "metadata": {
        "id": "XnYVAqvADqIj"
      },
      "execution_count": null,
      "outputs": []
    },
    {
      "cell_type": "code",
      "source": [
        "# Download dan unzip dataset\n",
        "# Warning: proses download lama dan memakan diskspace yang besar\n",
        "# !wget https://dl.fbaipublicfiles.com/fasttext/vectors-crawl/cc.en.300.bin.gz\n",
        "# !gunzip cc.en.300.bin.gz"
      ],
      "metadata": {
        "id": "rIyyFGb5D_V1"
      },
      "execution_count": null,
      "outputs": []
    },
    {
      "cell_type": "code",
      "source": [
        "# import fasttext\n",
        "# ft_model = fasttext.load_model(\"cc.en.300.bin\")"
      ],
      "metadata": {
        "id": "Hgc0bc53D_fj"
      },
      "execution_count": null,
      "outputs": []
    },
    {
      "cell_type": "code",
      "source": [
        "# print(ft_model['hadiah'])"
      ],
      "metadata": {
        "id": "yHY8V0RUD_ln"
      },
      "execution_count": null,
      "outputs": []
    },
    {
      "cell_type": "code",
      "source": [
        "# list_kalimat = ['saya lapar saya tidak makan','saya tidak lapar saya makan']\n",
        "# word_vectors_fasttext = np.array([ft_model[w] for w in list_kalimat])\n",
        "# pca = PCA(n_components=2, copy=False, whiten=True)\n",
        "\n",
        "# fasttext_word_vectors = pca.fit_transform(word_vectors_fasttext)\n",
        "\n",
        "# plot(word_vectors_fasttext, list_kalimat)"
      ],
      "metadata": {
        "id": "g0Bh_RmrD_o1"
      },
      "execution_count": null,
      "outputs": []
    },
    {
      "cell_type": "markdown",
      "source": [
        "# Deep Learning for NLP"
      ],
      "metadata": {
        "id": "-8GH62S6H0I4"
      }
    },
    {
      "cell_type": "markdown",
      "source": [
        "## LSTM"
      ],
      "metadata": {
        "id": "QUtM1f_3VpKO"
      }
    },
    {
      "cell_type": "markdown",
      "source": [
        "### Data Splitting"
      ],
      "metadata": {
        "id": "Zasq9YsSHAP6"
      }
    },
    {
      "cell_type": "code",
      "source": [
        "# Tentukan kolom yang akan digunkan\n",
        "data = data[['clean_teks', 'label']]\n",
        "data"
      ],
      "metadata": {
        "id": "Od-2v5Hazlkt",
        "colab": {
          "base_uri": "https://localhost:8080/",
          "height": 424
        },
        "outputId": "79762c0f-0d72-48eb-8f42-6c5168dc042f"
      },
      "execution_count": null,
      "outputs": [
        {
          "output_type": "execute_result",
          "data": {
            "text/plain": [
              "                                            clean_teks  label\n",
              "0    voucher voucher gofood ya minimal beli ribu la...      1\n",
              "1                              butuh voucher gofood gf      1\n",
              "2    hidup lomba lawan teman lomba lawan hujan biar...      1\n",
              "3                     voucher gofood minimal beli ribu      1\n",
              "4                                    gofood ya jam gin      1\n",
              "..                                                 ...    ...\n",
              "985                       gofood ongkirnya mahal makan      2\n",
              "986  gofood tokped track driverny sihh kasih bintan...      2\n",
              "987  mohon maaf serius ongkir gofood qmall rumah ri...      2\n",
              "988     wuadu gofood promo pakai paylater ribet batttt      2\n",
              "989  tahan tahanin biar gajajan gofood alias mahal ...      2\n",
              "\n",
              "[990 rows x 2 columns]"
            ],
            "text/html": [
              "\n",
              "  <div id=\"df-d130b5a3-3281-4067-85fe-6ab59bf43449\">\n",
              "    <div class=\"colab-df-container\">\n",
              "      <div>\n",
              "<style scoped>\n",
              "    .dataframe tbody tr th:only-of-type {\n",
              "        vertical-align: middle;\n",
              "    }\n",
              "\n",
              "    .dataframe tbody tr th {\n",
              "        vertical-align: top;\n",
              "    }\n",
              "\n",
              "    .dataframe thead th {\n",
              "        text-align: right;\n",
              "    }\n",
              "</style>\n",
              "<table border=\"1\" class=\"dataframe\">\n",
              "  <thead>\n",
              "    <tr style=\"text-align: right;\">\n",
              "      <th></th>\n",
              "      <th>clean_teks</th>\n",
              "      <th>label</th>\n",
              "    </tr>\n",
              "  </thead>\n",
              "  <tbody>\n",
              "    <tr>\n",
              "      <th>0</th>\n",
              "      <td>voucher voucher gofood ya minimal beli ribu la...</td>\n",
              "      <td>1</td>\n",
              "    </tr>\n",
              "    <tr>\n",
              "      <th>1</th>\n",
              "      <td>butuh voucher gofood gf</td>\n",
              "      <td>1</td>\n",
              "    </tr>\n",
              "    <tr>\n",
              "      <th>2</th>\n",
              "      <td>hidup lomba lawan teman lomba lawan hujan biar...</td>\n",
              "      <td>1</td>\n",
              "    </tr>\n",
              "    <tr>\n",
              "      <th>3</th>\n",
              "      <td>voucher gofood minimal beli ribu</td>\n",
              "      <td>1</td>\n",
              "    </tr>\n",
              "    <tr>\n",
              "      <th>4</th>\n",
              "      <td>gofood ya jam gin</td>\n",
              "      <td>1</td>\n",
              "    </tr>\n",
              "    <tr>\n",
              "      <th>...</th>\n",
              "      <td>...</td>\n",
              "      <td>...</td>\n",
              "    </tr>\n",
              "    <tr>\n",
              "      <th>985</th>\n",
              "      <td>gofood ongkirnya mahal makan</td>\n",
              "      <td>2</td>\n",
              "    </tr>\n",
              "    <tr>\n",
              "      <th>986</th>\n",
              "      <td>gofood tokped track driverny sihh kasih bintan...</td>\n",
              "      <td>2</td>\n",
              "    </tr>\n",
              "    <tr>\n",
              "      <th>987</th>\n",
              "      <td>mohon maaf serius ongkir gofood qmall rumah ri...</td>\n",
              "      <td>2</td>\n",
              "    </tr>\n",
              "    <tr>\n",
              "      <th>988</th>\n",
              "      <td>wuadu gofood promo pakai paylater ribet batttt</td>\n",
              "      <td>2</td>\n",
              "    </tr>\n",
              "    <tr>\n",
              "      <th>989</th>\n",
              "      <td>tahan tahanin biar gajajan gofood alias mahal ...</td>\n",
              "      <td>2</td>\n",
              "    </tr>\n",
              "  </tbody>\n",
              "</table>\n",
              "<p>990 rows × 2 columns</p>\n",
              "</div>\n",
              "      <button class=\"colab-df-convert\" onclick=\"convertToInteractive('df-d130b5a3-3281-4067-85fe-6ab59bf43449')\"\n",
              "              title=\"Convert this dataframe to an interactive table.\"\n",
              "              style=\"display:none;\">\n",
              "        \n",
              "  <svg xmlns=\"http://www.w3.org/2000/svg\" height=\"24px\"viewBox=\"0 0 24 24\"\n",
              "       width=\"24px\">\n",
              "    <path d=\"M0 0h24v24H0V0z\" fill=\"none\"/>\n",
              "    <path d=\"M18.56 5.44l.94 2.06.94-2.06 2.06-.94-2.06-.94-.94-2.06-.94 2.06-2.06.94zm-11 1L8.5 8.5l.94-2.06 2.06-.94-2.06-.94L8.5 2.5l-.94 2.06-2.06.94zm10 10l.94 2.06.94-2.06 2.06-.94-2.06-.94-.94-2.06-.94 2.06-2.06.94z\"/><path d=\"M17.41 7.96l-1.37-1.37c-.4-.4-.92-.59-1.43-.59-.52 0-1.04.2-1.43.59L10.3 9.45l-7.72 7.72c-.78.78-.78 2.05 0 2.83L4 21.41c.39.39.9.59 1.41.59.51 0 1.02-.2 1.41-.59l7.78-7.78 2.81-2.81c.8-.78.8-2.07 0-2.86zM5.41 20L4 18.59l7.72-7.72 1.47 1.35L5.41 20z\"/>\n",
              "  </svg>\n",
              "      </button>\n",
              "      \n",
              "  <style>\n",
              "    .colab-df-container {\n",
              "      display:flex;\n",
              "      flex-wrap:wrap;\n",
              "      gap: 12px;\n",
              "    }\n",
              "\n",
              "    .colab-df-convert {\n",
              "      background-color: #E8F0FE;\n",
              "      border: none;\n",
              "      border-radius: 50%;\n",
              "      cursor: pointer;\n",
              "      display: none;\n",
              "      fill: #1967D2;\n",
              "      height: 32px;\n",
              "      padding: 0 0 0 0;\n",
              "      width: 32px;\n",
              "    }\n",
              "\n",
              "    .colab-df-convert:hover {\n",
              "      background-color: #E2EBFA;\n",
              "      box-shadow: 0px 1px 2px rgba(60, 64, 67, 0.3), 0px 1px 3px 1px rgba(60, 64, 67, 0.15);\n",
              "      fill: #174EA6;\n",
              "    }\n",
              "\n",
              "    [theme=dark] .colab-df-convert {\n",
              "      background-color: #3B4455;\n",
              "      fill: #D2E3FC;\n",
              "    }\n",
              "\n",
              "    [theme=dark] .colab-df-convert:hover {\n",
              "      background-color: #434B5C;\n",
              "      box-shadow: 0px 1px 3px 1px rgba(0, 0, 0, 0.15);\n",
              "      filter: drop-shadow(0px 1px 2px rgba(0, 0, 0, 0.3));\n",
              "      fill: #FFFFFF;\n",
              "    }\n",
              "  </style>\n",
              "\n",
              "      <script>\n",
              "        const buttonEl =\n",
              "          document.querySelector('#df-d130b5a3-3281-4067-85fe-6ab59bf43449 button.colab-df-convert');\n",
              "        buttonEl.style.display =\n",
              "          google.colab.kernel.accessAllowed ? 'block' : 'none';\n",
              "\n",
              "        async function convertToInteractive(key) {\n",
              "          const element = document.querySelector('#df-d130b5a3-3281-4067-85fe-6ab59bf43449');\n",
              "          const dataTable =\n",
              "            await google.colab.kernel.invokeFunction('convertToInteractive',\n",
              "                                                     [key], {});\n",
              "          if (!dataTable) return;\n",
              "\n",
              "          const docLinkHtml = 'Like what you see? Visit the ' +\n",
              "            '<a target=\"_blank\" href=https://colab.research.google.com/notebooks/data_table.ipynb>data table notebook</a>'\n",
              "            + ' to learn more about interactive tables.';\n",
              "          element.innerHTML = '';\n",
              "          dataTable['output_type'] = 'display_data';\n",
              "          await google.colab.output.renderOutput(dataTable, element);\n",
              "          const docLink = document.createElement('div');\n",
              "          docLink.innerHTML = docLinkHtml;\n",
              "          element.appendChild(docLink);\n",
              "        }\n",
              "      </script>\n",
              "    </div>\n",
              "  </div>\n",
              "  "
            ]
          },
          "metadata": {},
          "execution_count": 43
        }
      ]
    },
    {
      "cell_type": "code",
      "source": [
        "data = data.dropna(axis=1)"
      ],
      "metadata": {
        "id": "idymNMmcYczk"
      },
      "execution_count": null,
      "outputs": []
    },
    {
      "cell_type": "code",
      "source": [
        "# Buat data uji, data latih, dan data validasi\n",
        "from sklearn.model_selection import train_test_split\n",
        "\n",
        "data_train, data_test = train_test_split(data, test_size=0.2, random_state=5)\n",
        "data_train, data_val = train_test_split(data_train, test_size=0.25, random_state=5)"
      ],
      "metadata": {
        "id": "R1M3Ndkq0-SS"
      },
      "execution_count": null,
      "outputs": []
    },
    {
      "cell_type": "code",
      "source": [
        "# Lihat shape dari masing-masing data\n",
        "print(data_train.shape)\n",
        "print(data_val.shape)\n",
        "print(data_test.shape)"
      ],
      "metadata": {
        "id": "3x1h9SgU1LqT",
        "colab": {
          "base_uri": "https://localhost:8080/"
        },
        "outputId": "22c265c6-ef03-47f1-e215-557e15f4f00a"
      },
      "execution_count": null,
      "outputs": [
        {
          "output_type": "stream",
          "name": "stdout",
          "text": [
            "(594, 2)\n",
            "(198, 2)\n",
            "(198, 2)\n"
          ]
        }
      ]
    },
    {
      "cell_type": "code",
      "source": [
        "# Pisahkan kolom fitur dan target (label)\n",
        "trainX = np.array(data_train.iloc[:, 0])\n",
        "trainY = np.array(data_train.iloc[:, 1])\n",
        "\n",
        "testX = np.array(data_test.iloc[:, 0])\n",
        "testY = np.array(data_test.iloc[:, 1])\n",
        "\n",
        "valX = np.array(data_val.iloc[:, 0])\n",
        "valY = np.array(data_val.iloc[:, 1])"
      ],
      "metadata": {
        "id": "1CYYY05n1RDJ"
      },
      "execution_count": null,
      "outputs": []
    },
    {
      "cell_type": "code",
      "source": [
        "# One-hot encoding\n",
        "\n",
        "trainY = pd.get_dummies(trainY).values\n",
        "testY = pd.get_dummies(testY).values\n",
        "valY = pd.get_dummies(valY).values"
      ],
      "metadata": {
        "id": "7ynl_HrX_6qq"
      },
      "execution_count": null,
      "outputs": []
    },
    {
      "cell_type": "code",
      "source": [
        "print(trainY.shape)\n",
        "print(testY.shape)\n",
        "print(valY.shape)"
      ],
      "metadata": {
        "id": "AniINOoFALuF",
        "colab": {
          "base_uri": "https://localhost:8080/"
        },
        "outputId": "1ff61874-9d06-45f1-9883-cfb092e8c23c"
      },
      "execution_count": null,
      "outputs": [
        {
          "output_type": "stream",
          "name": "stdout",
          "text": [
            "(594, 2)\n",
            "(198, 2)\n",
            "(198, 2)\n"
          ]
        }
      ]
    },
    {
      "cell_type": "code",
      "source": [
        "trainY"
      ],
      "metadata": {
        "id": "WzyY5ZVBAcON",
        "colab": {
          "base_uri": "https://localhost:8080/"
        },
        "outputId": "53cd9f6e-bbe6-4dd0-da8c-e147beb961fa"
      },
      "execution_count": null,
      "outputs": [
        {
          "output_type": "execute_result",
          "data": {
            "text/plain": [
              "array([[0, 1],\n",
              "       [1, 0],\n",
              "       [1, 0],\n",
              "       ...,\n",
              "       [1, 0],\n",
              "       [1, 0],\n",
              "       [0, 1]], dtype=uint8)"
            ]
          },
          "metadata": {},
          "execution_count": 50
        }
      ]
    },
    {
      "cell_type": "markdown",
      "source": [
        "### Tokenizing Data"
      ],
      "metadata": {
        "id": "usvl5kBgxEvK"
      }
    },
    {
      "cell_type": "code",
      "source": [
        "'''\n",
        "Proses vektorisasi teks dengan mengubah setiap teks menjadi token urutan bilangan int (setiap bilangan int menjadi indeks token dalam dictionary)\n",
        "'''\n",
        "from keras.preprocessing.text import Tokenizer"
      ],
      "metadata": {
        "id": "ZLBBX-0vUYG2"
      },
      "execution_count": null,
      "outputs": []
    },
    {
      "cell_type": "code",
      "source": [
        "NUM_WORDS = 100       # Frekuensi kemunculan kata. Hanya num_words-1 yang akan disimpan pada dictionary. Berarti kata dengan kemunculan >=100 tidak digunakan.\n",
        "OOV_TOKEN = '<unk>'   # Token khusus untuk mengganti kata yang tidak terdaftar dalam dictionary.\n",
        "\n",
        "tokenizer = Tokenizer(num_words=100, oov_token=OOV_TOKEN, lower=True)\n",
        "tokenizer.fit_on_texts(trainX)\n",
        "\n",
        "# Tambahkan token padding untuk menyamakan ukuran dimensi fitur input ke LSTM\n",
        "tokenizer.word_index['<pad>'] = 0\n",
        "tokenizer.index_word[0] = '<pad>'\n",
        "\n",
        "word_index = tokenizer.word_index"
      ],
      "metadata": {
        "id": "ykzsLeWH1pfs"
      },
      "execution_count": null,
      "outputs": []
    },
    {
      "cell_type": "code",
      "source": [
        "# Lihat dictionary yang telah dibuat proses tokenisasi\n",
        "print(word_index)"
      ],
      "metadata": {
        "id": "Xh30I3Dz35Zx",
        "colab": {
          "base_uri": "https://localhost:8080/"
        },
        "outputId": "a40ef13b-03c3-4081-bcf9-fda13a6a1b04"
      },
      "execution_count": null,
      "outputs": [
        {
          "output_type": "stream",
          "name": "stdout",
          "text": [
            "{'<unk>': 1, 'gofood': 2, 'voucher': 3, 'promo': 4, 'gojekindonesia': 5, 'ya': 6, 'gojek': 7, 'akun': 8, 'bantu': 9, 'kena': 10, 'banget': 11, 'halo': 12, 'kode': 13, 'mohon': 14, 'nyaman': 15, 'banned': 16, 'soft': 17, 'terima': 18, 'makan': 19, 'kasih': 20, 'aktif': 21, 'claim': 22, 'goridegocargofood': 23, 'ribu': 24, 'mahal': 25, 'pesan': 26, 'jam': 27, 'beli': 28, 'ongkir': 29, 'enak': 30, 'diskon': 31, 'order': 32, 'pakai': 33, 'lapar': 34, 'pajak': 35, 'admin': 36, 'potong': 37, 'gf': 38, 'pas': 39, 'flash': 40, 'sale': 41, 'goco': 42, 'min': 43, 'resto': 44, 'guys': 45, 'terimakasih': 46, 'biaya': 47, 'error': 48, 'hilang': 49, 'masuk': 50, 'harga': 51, 'deh': 52, 'driver': 53, 'gratis': 54, 'tau': 55, 'langsung': 56, 'rumah': 57, 'habis': 58, 'malas': 59, 'softbanned': 60, 'orang': 61, 'mulu': 62, 'coba': 63, 'tolong': 64, 'nasi': 65, 'malam': 66, 'gocar': 67, 'masak': 68, 'nunggu': 69, 'shopeefood': 70, 'wtb': 71, 'grabfood': 72, 'mcd': 73, 'wts': 74, 'minimal': 75, 'yaa': 76, 'goride': 77, 'ongkirnya': 78, 'mending': 79, 'kali': 80, 'bayar': 81, 'indomie': 82, 'ambil': 83, 'biar': 84, 'hujan': 85, 'butuh': 86, 'suka': 87, 'tuh': 88, 'minggu': 89, 'muncul': 90, 'paylater': 91, 'mesen': 92, 'wkwk': 93, 'cashback': 94, 'gila': 95, 'gin': 96, 'layan': 97, 'bener': 98, 'restonya': 99, 'sih': 100, 'gopay': 101, 'kerja': 102, 'cek': 103, 'goreng': 104, 'siang': 105, 'abang': 106, 'yaaa': 107, 'mixue': 108, 'aplikasi': 109, 'sayang': 110, 'allah': 111, 'tibatiba': 112, 'kah': 113, 'drivernya': 114, 'seblak': 115, 'jasa': 116, 'boros': 117, 'menu': 118, 'amp': 119, 'informasi': 120, 'buka': 121, 'porsi': 122, 'nyari': 123, 'eh': 124, 'bikin': 125, 'menit': 126, 'milik': 127, 'sedia': 128, 'all': 129, 'saldo': 130, 'motong': 131, 'murah': 132, 'ayam': 133, 'emang': 134, 'ribet': 135, 'kopi': 136, 'cepat': 137, 'thank': 138, 'gofoodshopeefood': 139, 'sender': 140, 'pagi': 141, 'turun': 142, 'hallo': 143, 'goridegofood': 144, 'asa': 145, 'kenyang': 146, 'ko': 147, 'berfikir': 148, 'pen': 149, 'jalan': 150, 'scroll': 151, 'sore': 152, 'gosend': 153, 'mama': 154, 'sate': 155, 'lihat': 156, 'or': 157, 'full': 158, 't': 159, 'tidur': 160, 'promonya': 161, 'mager': 162, 'si': 163, 'kangen': 164, 'kos': 165, 'ngotak': 166, 'yaallah': 167, 'kirim': 168, 'bebas': 169, 'nyata': 170, 'mood': 171, 'mari': 172, 'an': 173, 'klaim': 174, 'hemat': 175, 'up': 176, 'ni': 177, 'x': 178, 'cancel': 179, 'kaya': 180, 'ubah': 181, 'asin': 182, 'bumbu': 183, 'bye': 184, 'nahan': 185, 'pantengin': 186, 'yuu': 187, 'ready': 188, 'starting': 189, 'available': 190, 'at': 191, 'pm': 192, 'goler': 193, 'hidup': 194, 'pulang': 195, 'sumpah': 196, 'jual': 197, 'maksimal': 198, 'wa': 199, 'bgtt': 200, 'jakarta': 201, 'eror': 202, 'tinggal': 203, 'lumayan': 204, 'barusan': 205, 'wow': 206, 'pilih': 207, 'fitur': 208, 'jajan': 209, 'apa': 210, 'tutup': 211, 'mantap': 212, 'pelit': 213, 'haloo': 214, 'gofoodgoride': 215, 'maaf': 216, 'delivery': 217, 'cmn': 218, 'ngekos': 219, 'rekomendasi': 220, 'tia': 221, 'online': 222, 'senang': 223, 'miskin': 224, 'motor': 225, 'gais': 226, 'mengclaim': 227, 'dah': 228, 'tumben': 229, 'wkwkwkwkwk': 230, 'sakit': 231, 'beda': 232, 'rebu': 233, 'goridegocargofoodgosend': 234, 'kl': 235, 'gaco': 236, 'cuy': 237, 'd': 238, 'tanggal': 239, 'daritadi': 240, 'nge': 241, 'lucu': 242, 'df': 243, 'total': 244, 'nungguin': 245, 'berat': 246, 'isi': 247, 'bandung': 248, 'mayan': 249, 'bilang': 250, 'yumyum': 251, 'besok': 252, 'respon': 253, 'sistem': 254, 'papa': 255, 'pesta': 256, 'sungguh': 257, 'untung': 258, 'huhu': 259, 'susah': 260, 'domisili': 261, 'kabarin': 262, 'jabodetabek': 263, 'only': 264, 'kfc': 265, 'parkir': 266, 'apps': 267, 'server': 268, 'gofoodgoridegocar': 269, 'shopee': 270, 'food': 271, 'kesel': 272, 'subuh': 273, 'ketoprak': 274, 'daerah': 275, 'ku': 276, 'katsu': 277, 'es': 278, 'samsek': 279, 'bawa': 280, 'capek': 281, 'ajaa': 282, 'kemarin': 283, 'anak': 284, 'geprek': 285, 'kamar': 286, 'selesai': 287, 'seret': 288, 'gofoodgrabfood': 289, 'tukang': 290, 'sayur': 291, 'alfamart': 292, 'snacktok': 293, 'upnjkt': 294, 'upn': 295, 'hehe': 296, 'promoan': 297, 'restoran': 298, 'nerima': 299, 'mati': 300, 'pol': 301, 'y': 302, 'kemaren': 303, 'cari': 304, 'tukar': 305, 'mampus': 306, 'bittersweet': 307, 'via': 308, 'servis': 309, 'surabaya': 310, 'netflix': 311, 'mode': 312, 'kayak': 313, 'duh': 314, 'nyoba': 315, 'war': 316, 'jastip': 317, 'shopefood': 318, 'mah': 319, 'anj': 320, 'gara': 321, 'plus': 322, 'tokped': 323, 'sihh': 324, 'tiket': 325, 'tetangga': 326, 'dehhhh': 327, 'bang': 328, 'yak': 329, 'foto': 330, 'dibatalin': 331, 'orderin': 332, 'dikosan': 333, 'bonus': 334, 'dapur': 335, 'wilayah': 336, 'bal': 337, 'wita': 338, 'wib': 339, 'gembus': 340, 'hello': 341, 'jbrfess': 342, 'kepalang': 343, 'gemeteran': 344, 'hwhw': 345, 'rela': 346, 'ngantuk': 347, 'pick': 348, 'iklan': 349, 'sahabat': 350, 'kedok': 351, 'self': 352, 'hadiah': 353, 'ngepaper': 354, 'deadline': 355, 'paper': 356, 'header': 357, 'kasur': 358, 'bom': 359, 'mandi': 360, 'bengangbengong': 361, 'ngegumam': 362, 'mashaallah': 363, 'nang': 364, 'cerita': 365, 'alami': 366, 'biarpun': 367, 'tanoshii': 368, 'gass': 369, 'flashsale': 370, 'mureh': 371, 'banyakk': 372, 'klean': 373, 'samain': 374, 'ichiban': 375, 'ygy': 376, 'salmon': 377, 'takoyakinya': 378, 'rendang': 379, 'ice': 380, 'cream': 381, 'boba': 382, 'dcrepes': 383, 'fml': 384, 'ttp': 385, 'kabobs': 386, 'vc': 387, 'grab': 388, 'goridegocar': 389, 'sengaja': 390, 'hai': 391, 'alias': 392, 'wawwww': 393, 'pastaria': 394, 'naspad': 395, 'maaaaaaa': 396, 'generasi': 397, 'sms': 398, 'anggep': 399, 'romantis': 400, 'modal': 401, 'langgan': 402, 'bingung': 403, 'anying': 404, 'benerrrrr': 405, 'enakk': 406, 'wkwkkwkw': 407, 'defisit': 408, 'kalori': 409, 'my': 410, 'ass': 411, 'coin': 412, 'pizza': 413, 'haru': 414, 'jarang': 415, 'coffee': 416, 'open': 417, 'khusus': 418, 'avail': 419, 'slot': 420, 'hargaresto': 421, 'batal': 422, 'amit': 423, 'cbnya': 424, 'bangun': 425, 'gercep': 426, 'bab': 427, 'ngemil': 428, 'yah': 429, 'moga': 430, 'girlbos': 431, 'bas': 432, 'leyeh': 433, 'yu': 434, 'pikir': 435, 'uang': 436, 'catering': 437, 'lauk': 438, 'warung': 439, 'hiks': 440, 'variasi': 441, 'drop': 442, 'datengnya': 443, 'chat': 444, 'izin': 445, 'vocher': 446, 'sp': 447, 'njir': 448, 'sadar': 449, 'bayangin': 450, 'kotak': 451, 'bangsat': 452, 'kvoucher': 453, 'yuk': 454, 'sedih': 455, 'kosan': 456, 'oyyy': 457, 'la': 458, 'magelangan': 459, 'mas': 460, 'me': 461, 'rice': 462, 'benerr': 463, 'ajaaa': 464, 'nih': 465, 'jarak': 466, 'teh': 467, 'cocok': 468, 'nama': 469, 'nayla': 470, 'istri': 471, 'flashback': 472, 'kebab': 473, 'bodoh': 474, 'tidak': 475, 'gang': 476, 'sayaa': 477, 'wkwkwk': 478, 'lemes': 479, 'sushi': 480, 'masukin': 481, 'yoga': 482, 'alih': 483, 'gambar': 484, 'pecel': 485, 'coinnya': 486, 'salah': 487, 'muahal': 488, 'tunai': 489, 'tambahin': 490, 'jujur': 491, 'gakuat': 492, 'masakan': 493, 'buset': 494, 'gofoodgocargoride': 495, 'mission': 496, 'kota': 497, 'ges': 498, 'sebelas': 499, 'bbm': 500, 'bosen': 501, 'penasaran': 502, 'apresiasi': 503, 'inovasi': 504, 'yaaaa': 505, 'khas': 506, 'kacang': 507, 'gemesss': 508, 'racik': 509, 'spertinya': 510, 'profil': 511, 'cake': 512, 'daster': 513, 'mbak': 514, 'bakso': 515, 'lomba': 516, 'lawan': 517, 'apply': 518, 'kirain': 519, 'pku': 520, 'ealah': 521, 'servernya': 522, 'pngin': 523, 'nasional': 524, 'bg': 525, 'burgerboba': 526, 'lihatin': 527, 'konten': 528, 'trejo': 529, 'badan': 530, 'skrgg': 531, 'hadehhhh': 532, 'lemper': 533, 'holland': 534, 'bakery': 535, 'dear': 536, 'butter': 537, 'lingkar': 538, 're': 539, 'iya': 540, 'hamba': 541, 'kedai': 542, 'seblaknya': 543, 'maeman': 544, 'duarr': 545, 'kurir': 546, 'alfagit': 547, 'alfagift': 548, 'idn': 549, 'super': 550, 'much': 551, 'sebenernya': 552, 'tiktok': 553, 'shop': 554, 'iseng': 555, 'ecek': 556, 'belik': 557, 'tipu': 558, 'monthly': 559, 'lapor': 560, 'dips': 561, 'koin': 562, 'yaaastagaa': 563, 'begooo': 564, 'dipastiin': 565, 'cok': 566, 'ngasal': 567, 'taik': 568, 'tunggu': 569, 'wifi': 570, 'suara': 571, 'rombong': 572, 'knalpot': 573, 'nggatau': 574, 'diapain': 575, 'berisikkk': 576, 'printilan': 577, 'gonta': 578, 'ganti': 579, 'servicenya': 580, 'suruh': 581, 'double': 582, 'hmmmmmmmmmmmmmmmmmmmmmmmmmm': 583, 'manismanis': 584, 'hotel': 585, 'piring': 586, 'sendok': 587, 'room': 588, 'grabgofood': 589, 'wokwokwok': 590, 'sft': 591, 'patah': 592, 'nitip': 593, 'roko': 594, 'lempar': 595, 'yaallahhhhhh': 596, 'anzink': 597, 'cantik': 598, 'auto': 599, 'useless': 600, 'shut': 601, 'im': 602, 'having': 603, 'a': 604, 'rough': 605, 'padang': 606, 'ongkos': 607, 'datangggggg': 608, 'pacar': 609, 'brli': 610, 'hei': 611, 'tolongin': 612, 'gohek': 613, 'tangggal': 614, 'batas': 615, 'kadaluarsanya': 616, 'diem': 617, 'ruang': 618, 'tamu': 619, 'weyyy': 620, 'gua': 621, 'derita': 622, 'kabupaten': 623, 'atuh': 624, 'anw': 625, 'bangets': 626, 'praktikum': 627, 'bete': 628, 'cowok': 629, 'diitung': 630, 'marugame': 631, 'udon': 632, 'track': 633, 'driverny': 634, 'bintang': 635, 'jenis': 636, 'lambat': 637, 'situ': 638, 'ujung': 639, 'ngeselin': 640, 'woi': 641, 'buang': 642, 'konser': 643, 'pin': 644, 'melulu': 645, 'anjerrr': 646, 'garagara': 647, 'sianjing': 648, 'ngomongnya': 649, 'slayyy': 650, 'hahaha': 651, 'menipiz': 652, 'vibes': 653, 'dengerin': 654, 'boypablo': 655, 'ngudut': 656, 'ig': 657, 'minbelnya': 658, 'gaaa': 659, 'bangkrut': 660, 'paket': 661, 'abis': 662, 'jugaa': 663, 'komisi': 664, 'merchant': 665, 'bersih': 666, 'rugi': 667, 'saranin': 668, 'dungsss': 669, 'kenyaaang': 670, 'tingkyuuu': 671, 'gilee': 672, 'flop': 673, 'semenjak': 674, 'juragan': 675, 'gomart': 676, 'parah': 677, 'timbang': 678, 'taraaa': 679, 'kg': 680, 'gedee': 681, 'jamur': 682, 'syok': 683, 'onkiir': 684, 'kuliner': 685, 'pd': 686, 'elahh': 687, 'ancam': 688, 'juta': 689, 'sooo': 690, 'meni': 691, 'pasang': 692, 'belanja': 693, 'paksa': 694, 'kwetiau': 695, 'jancok': 696, 'dibiarin': 697, 'sen': 698, 'bekal': 699, 'mauu': 700, 'tega': 701, 'duit': 702, 'lipat': 703, 'asli': 704, 'definisi': 705, 'dipakein': 706, 'wuadu': 707, 'batttt': 708, 'gaberasa': 709, 'banding': 710, 'yaelah': 711, 'darahudh': 712, 'arghhh': 713, 'sfood': 714, 'gfood': 715, 'pergok': 716, 'ibun': 717, 'berkat': 718, 'baca': 719, 'nurutin': 720, 'notes': 721, 'matcha': 722, 'astaghfirullah': 723, 'senin': 724, 'makas': 725, 'ka': 726, 'syukur': 727, 'dooong': 728, 'saran': 729, 'mampir': 730, 'sbucks': 731, 'point': 732, 'tangan': 733, 'gatal': 734, 'bngt': 735, 'mbanking': 736, 'dewasa': 737, 'milih': 738, 'roti': 739, 'bakar': 740, 'terang': 741, 'gula': 742, 'bedain': 743, 'dine': 744, 'contoh': 745, 'burjo': 746, 'orak': 747, 'arik': 748, 'tulis': 749, 'anjirrr': 750, 'trims': 751, 'thread': 752, 'dapetin': 753, 'mie': 754, 'teror': 755, 'waw': 756, 'magic': 757, 'pc': 758, 'heran': 759, 'area': 760, 'toilet': 761, 'kaan': 762, 'eeh': 763, 'kelar': 764, 'jelek': 765, 'sub': 766, 'antri': 767, 'aduch': 768, 'bungkus': 769, 'didik': 770, 'tangga': 771, 'duga': 772, 'intrumen': 773, 'ngapa': 774, 'hubung': 775, 'ngerangkap': 776, 'should': 777, 'be': 778, 'bengong': 779, 'dalem': 780, 'mobil': 781, 'terbang': 782, 'lemas': 783, 'daya': 784, 'rusak': 785, 'dampe': 786, 'ojolnya': 787, 'asw': 788, 'rek': 789, 'kambing': 790, 'its': 791, 'keburu': 792, 'euy': 793, 'yh': 794, 'gas': 795, 'tegal': 796, 'kendara': 797, 'datengdateng': 798, 'hainan': 799, 'sophia': 800, 'latjuba': 801, 'struggle': 802, 'rantau': 803, 'cm': 804, 'perkara': 805, 'aaaaaa': 806, 'woii': 807, 'lohhhh': 808, 'alamat': 809, 'kembalu': 810, 'app': 811, 'lelet': 812, 'lamaaasyaaa': 813, 'dingin': 814, 'selamat': 815, 'bangettt': 816, 'pokoknyawkwk': 817, 'card': 818, 'koq': 819, 'gopaycoin': 820, 'settingnya': 821, 'qris': 822, 'kocak': 823, 'cinnamon': 824, 'rolls': 825, 'cadbury': 826, 'layer': 827, 'sam': 828, 'jasdor': 829, 'gapunya': 830, 'temen': 831, 'ajak': 832, 'joinan': 833, 'nyamperin': 834, 'toko': 835, 'maps': 836, 'adaaa': 837, 'askrl': 838, 'blokir': 839, 'csnya': 840, 'worth': 841, 'it': 842, 'jogja': 843, 'mantul': 844, 'makasii': 845, 'sholat': 846, 'flashh': 847, 'yyy': 848, 'sadis': 849, 'ngehedon': 850, 'smuanya': 851, 'minum': 852, 'dehh': 853, 'ryujin': 854, 'bowl': 855, 'truffle': 856, 'gyudon': 857, 'sial': 858, 'tagih': 859, 'affordable': 860, 'mahasiswa': 861, 'ge': 862, 'lucuuu': 863, 'suram': 864, 'ye': 865, 'bat': 866, 'yekan': 867, 'banter': 868, 'tekor': 869, 'pulih': 870, 'daftar': 871, 'idup': 872, 'sertifikasi': 873, 'kontol': 874, 'main': 875, 'mhs': 876, 'wkwkw': 877, 'mehong': 878, 'shayy': 879, 'hitung': 880, 'bapakny': 881, 'sabar': 882, 'benarbnr': 883, 'peak': 884, 'idiot': 885, 'momentwteef': 886, 'bgstt': 887, 'ngaku': 888, 'tandain': 889, 'lantai': 890, 'minus': 891, 'rada': 892, 'estimasi': 893, 'google': 894, 'november': 895, 'start': 896, 'ujicoba': 897, 'medan': 898, 'laperrrr': 899, 'bca': 900, 'keluarrr': 901, 'hmmmm': 902, 'suami': 903, 'jajanny': 904, 'sesal': 905, 'bli': 906, 'blik': 907, 'siklus': 908, 'setan': 909, 'laparrrrr': 910, 'adaa': 911, 'promoo': 912, 'hiksss': 913, 'ngadingadi': 914, 'sebel': 915, 'rewel': 916, 'mehongg': 917, 'pakabar': 918, 'tim': 919, 'dispenser': 920, 'air': 921, 'jir': 922, 'tawarin': 923, 'sebutin': 924, 'ayok': 925, 'kakak': 926, 'bebek': 927, 'madura': 928, 'lapernya': 929, 'recommended': 930, 'basi': 931, 'sehh': 932, 'paham': 933, 'kann': 934, 'laperrrrrr': 935, 'stress': 936, 'begadang': 937, 'tugas': 938, 'proposal': 939, 'ramen': 940, 'indomaret': 941, 'unila': 942, 'jakiablesender': 943, 'lupa': 944, 'voucheralamat': 945, 'ikhlas': 946, 'amal': 947, 'sedekah': 948, 'emosiii': 949, 'i': 950, 'love': 951, 'goputshopiput': 952, 'busy': 953, 'highly': 954, 'recommend': 955, 'ququru': 956, 'dharmawangsa': 957, 'daging': 958, 'slice': 959, 'beef': 960, 'riah': 961, 'kapok': 962, 'dagang': 963, 'homemade': 964, 'drama': 965, 'episode': 966, 'keluh': 967, 'kendari': 968, 'kasihan': 969, 'nyatolonglah': 970, 'ilangin': 971, 'opsi': 972, 'gofoodin': 973, 'kontak': 974, 'gojektech': 975, 'bangeet': 976, 'anyingg': 977, 'grgr': 978, 'obat': 979, 'komplain': 980, 'temu': 981, 'harta': 982, 'karun': 983, 'lidah': 984, 'real': 985, 'dessert': 986, 'mango': 987, 'sticky': 988, 'nalar': 989, 'topup': 990, 'dana': 991, 'sksjsksk': 992, 'galagi': 993, 'senank': 994, 'upto': 995, 'bensu': 996, 'box': 997, 'teguk': 998, 'transaksi': 999, 'bank': 1000, 'jago': 1001, 'coinsnya': 1002, 'ngeh': 1003, 'bau': 1004, 'dibales': 1005, 'dicancel': 1006, 'weh': 1007, 'pisang': 1008, 'huft': 1009, 'neduh': 1010, 'indoapril': 1011, 'bapakbapak': 1012, 'telepon': 1013, 'narkobanya': 1014, 'hatihati': 1015, 'berangkat': 1016, 'dikos': 1017, 'nelen': 1018, 'manifestasi': 1019, 'yalaah': 1020, 'oke': 1021, 'putus': 1022, 'banjir': 1023, 'ngajar': 1024, 'prefer': 1025, 'hit': 1026, 'on': 1027, 'dm': 1028, 'pulsa': 1029, 'gaes': 1030, 'bedaaaa': 1031, 'bedaaa': 1032, 'loh': 1033, 'tua': 1034, 'kakek': 1035, 'muda': 1036, 'jadwal': 1037, 'sederhana': 1038, 'lazzato': 1039, 'hp': 1040, 'serius': 1041, 'qmall': 1042, 'astagfirullah': 1043, 'kecilll': 1044, 'klik': 1045, 'ongkirnyamahal': 1046, 'ganteng': 1047, 'rapih': 1048, 'rambut': 1049, 'awur': 1050, 'gembel': 1051, 'buru': 1052, 'tercepet': 1053, 'laparr': 1054, 'multifandom': 1055, 'karyawan': 1056, 'pusing': 1057, 'ibuk': 1058, 'booster': 1059, 'tah': 1060, 'tong': 1061, 'sampah': 1062, 'emak': 1063, 'yakali': 1064, 'bo': 1065, 'down': 1066, 'bareng': 1067, 'malemmm': 1068, 'sampenya': 1069, 'skg': 1070, 'dikid': 1071, 'kartu': 1072, 'teman': 1073, 'sempet': 1074, 'kritis': 1075, 'promotolong': 1076, 'bruh': 1077, 'telat': 1078, 'polll': 1079, 'taon': 1080, 'hshsh': 1081, 'martabak': 1082, 'yasaya': 1083, 'basic': 1084, 'kentang': 1085, 'persen': 1086, 'maks': 1087, 'dibio': 1088, 'gilir': 1089, 'tai': 1090, 'fess': 1091, 'batu': 1092, 'keren': 1093, 'shopfood': 1094, 'not': 1095, 'responding': 1096, 'update': 1097, 'asik': 1098, 'kurung': 1099, 'ajhh': 1100, 'carbonara': 1101, 'everydayyy': 1102, 'ih': 1103, 'nangisss': 1104, '<pad>': 0}\n"
          ]
        }
      ]
    },
    {
      "cell_type": "code",
      "source": [
        "len(word_index)"
      ],
      "metadata": {
        "id": "DEWzlO605JPi",
        "colab": {
          "base_uri": "https://localhost:8080/"
        },
        "outputId": "ddb78dc0-a4a8-40ab-9d84-c66766fb7f0d"
      },
      "execution_count": null,
      "outputs": [
        {
          "output_type": "execute_result",
          "data": {
            "text/plain": [
              "1105"
            ]
          },
          "metadata": {},
          "execution_count": 54
        }
      ]
    },
    {
      "cell_type": "markdown",
      "source": [
        "### Text to Sequences"
      ],
      "metadata": {
        "id": "5cXP49b13LKF"
      }
    },
    {
      "cell_type": "code",
      "source": [
        "'''\n",
        "Proses mengubah token teks menjadi urutan bilangan int.\n",
        "'''\n",
        "train_seqs = tokenizer.texts_to_sequences(trainX)\n",
        "val_seqs = tokenizer.texts_to_sequences(valX)\n",
        "test_seqs = tokenizer.texts_to_sequences(testX)"
      ],
      "metadata": {
        "id": "sXaf2n-63OoD"
      },
      "execution_count": null,
      "outputs": []
    },
    {
      "cell_type": "code",
      "source": [
        "# Lihat hasil dari text to sequences\n",
        "# Setiap bilang int merujuk pada indeks token yang ada dalam dictionary\n",
        "print(train_seqs)"
      ],
      "metadata": {
        "id": "AbGqHzwq30p1",
        "colab": {
          "base_uri": "https://localhost:8080/"
        },
        "outputId": "d1cd91af-7986-4889-dda3-a5a690675971"
      },
      "execution_count": null,
      "outputs": [
        {
          "output_type": "stream",
          "name": "stdout",
          "text": [
            "[[2, 2, 1, 1, 48, 5], [1, 2, 55, 87], [1, 2, 19, 1, 1, 1, 1, 1, 1], [12, 5, 8, 10, 17, 16, 3, 23, 22, 13, 4, 14, 9, 15, 21, 7, 18, 20], [88, 98, 2, 48], [40, 41, 49], [1, 98, 66, 89, 1, 2, 1, 1, 1, 1], [40, 41, 2, 27, 1, 31, 6], [5, 1, 11, 3, 2], [12, 5, 8, 10, 17, 16, 6, 3, 23, 50, 3, 99, 22, 13, 4, 14, 9, 15, 21, 7, 18, 20], [12, 5, 8, 10, 17, 16, 6, 3, 23, 22, 13, 4, 14, 9, 15, 21, 7, 18, 20], [30, 1, 6, 2], [59, 11, 29, 2, 11, 1, 1, 4], [1, 1, 1, 2, 51], [1, 5, 8, 7, 10, 60, 1, 3, 89, 1, 67, 14, 9, 36, 18, 20], [43, 26, 2, 18, 1, 1, 1, 26, 5], [33, 2, 1], [1, 1, 1, 28, 29, 2, 1, 1, 1, 51, 1, 29, 25, 29, 1], [72, 2, 1, 31], [1, 1, 1, 66, 2, 73], [3, 72, 2, 3, 37, 78], [79, 2, 1, 1, 1, 56, 1], [1, 1, 1, 78, 25], [61, 1, 1, 1, 1, 1, 2, 1, 1, 1, 1, 1, 1, 1, 1, 1, 1, 57, 4, 1, 29, 1, 1], [2, 27], [1, 28, 1, 1, 1, 1, 1, 1, 2, 1, 56, 1], [33, 1, 2, 80, 10, 1], [1, 1, 1, 1, 44, 2, 28, 30, 1, 1], [1, 1, 2], [3, 2, 38], [58, 1, 1, 1, 1, 11, 1, 33, 2], [12, 5, 8, 10, 17, 16, 6, 3, 23, 22, 13, 4, 14, 9, 15, 21, 7, 18, 20], [2, 48, 1], [45, 55, 1, 1, 4, 19, 1, 52, 55], [3, 2, 32, 1], [1, 4, 1, 2, 6, 1, 34, 59], [55, 1, 1, 1, 33, 81, 2, 1, 1, 11, 39, 1, 1], [2, 1, 1, 1, 1, 1, 27, 1, 1, 1, 5], [1, 89, 11, 52, 1, 1, 1, 1, 1, 1, 1, 1, 1, 1, 1, 1, 68, 59, 2, 4, 1, 1], [1, 28, 19, 56, 51, 24, 2, 1, 24, 32, 35, 1], [32, 2, 27, 1, 1, 53, 1, 1, 11, 5, 1, 69, 1, 53, 62], [69, 2, 55, 53, 1, 32, 19, 1, 1], [32, 2, 1, 6], [2, 28, 1, 1], [12, 45, 1, 88, 4, 2, 63, 24, 6, 27, 1], [1, 19, 1, 2, 1, 1, 1, 1, 1, 1], [1, 1, 1, 31, 19, 1, 1, 1, 18, 20], [12, 5, 8, 10, 17, 16, 3, 23, 1, 13, 4, 14, 9, 15, 21, 7, 18, 20], [1, 32, 2, 24, 81, 24], [1, 26, 2, 1, 1], [1, 36, 5, 8, 10, 1, 16, 3, 1, 13, 4, 1, 90, 1, 64, 9, 6, 15, 7, 46], [2, 1, 1, 1, 11, 1, 1, 1, 19, 1], [47, 2, 70, 25, 11, 1], [2, 73, 68, 82], [1, 11, 2, 4], [3, 2, 38], [2, 25, 11, 1], [12, 5, 8, 10, 17, 16, 3, 23, 22, 13, 4, 14, 9, 15, 21, 7, 46], [71, 3, 1, 37], [28, 2, 1, 1, 11, 1, 1, 1, 1, 1, 1, 1, 1, 1, 1], [30, 2, 6], [2, 65, 1, 1, 1, 1, 52], [2, 1, 11], [1, 1, 2, 25, 25], [2, 1], [61, 1, 30, 2], [45, 1, 40, 41, 2, 33, 31, 91, 49, 88, 3, 91, 90, 31, 91, 45], [2, 1], [12, 5, 8, 10, 17, 16, 6, 3, 23, 50, 3, 99, 22, 13, 4, 14, 9, 15, 21, 7, 18, 20], [89, 1, 2, 6], [1, 26, 2, 1, 1, 56, 1, 1], [12, 5, 8, 10, 17, 16, 3, 1, 22, 13, 4, 14, 9, 15, 21, 7, 18, 20], [12, 5, 8, 10, 17, 16, 3, 23, 22, 13, 4, 14, 9, 15, 21, 7, 18, 20], [1, 5, 1, 3, 4, 1, 2, 49, 1, 1, 1], [92, 2, 1, 1, 1], [1, 27, 2, 48, 62, 93, 1], [79, 1, 1, 2, 25], [1, 51, 2, 1, 1, 1, 25, 1], [74, 3, 2, 31, 37, 24, 75, 28, 24, 37, 29, 35, 24, 1], [1, 4, 2], [3, 2, 1, 11, 33, 1, 1], [1, 61, 1, 32, 2, 78], [1, 1, 26, 2, 1, 4], [1, 2, 25, 11, 19, 1, 57, 1], [1, 1, 1, 1, 1, 19, 80, 1, 2], [1, 2, 1], [3, 2, 32, 1], [12, 36, 5, 8, 10, 17, 16, 6, 3, 23, 22, 13, 4, 14, 9, 15, 21, 7, 18, 20], [71, 1, 1, 2, 94, 1, 31, 76], [2, 1, 1, 6], [2, 1, 1, 1, 1, 20, 1, 1], [55, 29, 2, 1, 1, 1, 1, 25], [1, 2, 98], [32, 2, 53, 1, 1, 1, 1, 1, 1, 93, 1, 11, 1, 83, 32, 1, 1, 1, 84, 1, 27], [92, 2, 27, 1, 1, 1, 1], [1, 1, 2], [1, 7, 1, 1, 2, 57, 1, 1], [70, 78, 25, 1, 79, 2], [1, 1, 2, 1, 1, 1, 83, 1, 6], [2, 1, 1], [1, 2, 53, 1, 85], [1, 69, 2, 55, 1], [53, 2, 1, 1, 11, 1], [12, 36, 5, 8, 10, 17, 16, 6, 3, 23, 22, 13, 4, 14, 9, 15, 21, 7, 18, 20], [12, 36, 5, 8, 10, 17, 16, 6, 3, 23, 22, 13, 4, 14, 9, 15, 21, 7, 18, 20], [12, 5, 8, 10, 17, 16, 6, 3, 23, 50, 3, 99, 22, 13, 4, 14, 9, 15, 21, 7, 18, 20], [4, 3, 2, 43, 24], [1, 11, 1, 2, 1, 1], [1, 11, 1, 66, 1, 1, 1, 1, 1, 1, 92, 28, 2], [2, 19, 1, 1, 6, 1], [12, 5, 8, 10, 17, 16, 3, 23, 22, 13, 4, 14, 9, 15, 21, 7, 18, 20], [71, 3, 3, 2, 1, 24, 38, 1], [93, 1, 58, 2, 1, 1, 1], [1, 4, 2, 1, 1, 27, 1, 1, 6, 45], [1, 2, 4], [69, 1, 1, 2, 1, 62], [86, 3, 2, 1], [30, 2, 76], [1, 2, 1, 70, 1, 19, 1, 51, 24, 29, 95, 1], [95, 1, 2, 88, 11, 31, 4, 1, 1, 11, 1], [1, 1, 1, 19, 1, 2, 1, 1, 1, 1, 1], [2, 80, 6, 1, 1, 1, 1], [2, 80, 6, 1, 1, 1, 1], [12, 5, 8, 10, 17, 16, 3, 23, 22, 13, 4, 14, 9, 15, 21, 7, 18, 20], [1, 69, 2, 28, 27], [57, 2], [1, 1, 1, 1, 2], [92, 2, 6, 30], [2, 1, 1], [2, 1, 11], [2, 31, 44], [1, 1, 8, 3, 1, 6, 1, 11], [1, 1, 1, 1, 4, 2], [12, 5, 8, 10, 17, 16, 3, 23, 22, 13, 4, 14, 9, 15, 21, 7, 18, 20], [1, 2, 1], [3, 2, 37, 1], [69, 2, 1], [1, 2, 1, 1, 1, 1, 1, 66, 1, 1, 1], [39, 57, 19, 2, 39, 19, 2], [1, 45, 1, 1, 1, 1, 3, 2, 77, 67, 1, 1, 1, 1, 1, 1, 1], [1, 1, 54, 1, 2, 24, 93, 1, 85, 1, 1], [1, 2, 1, 1, 1, 1, 1, 1, 1, 1, 30, 11, 6, 1, 46], [1, 1, 11, 2, 19, 30, 19, 1, 1, 61, 1], [1, 52, 2], [1, 2, 27, 96, 1, 78, 25], [12, 5, 8, 10, 60, 6, 3, 23, 22, 13, 4, 14, 9, 15, 21, 7, 18, 20], [1, 1, 1, 30, 1, 28, 1, 93, 1, 98, 1, 6, 1, 1, 1, 1, 1, 1, 1, 1], [31, 44, 2, 1, 1, 1, 1, 1, 68], [58, 19, 82, 1, 1, 1, 1, 1, 2, 1, 1], [40, 41, 2, 27, 1, 31, 6], [86, 11, 2], [86, 3, 2, 38], [2, 1, 1, 25, 11], [34, 29, 2, 70, 25, 11, 76], [29, 2, 25], [1, 1, 1, 1, 19, 2, 19, 1], [1, 5, 8, 7, 10, 60, 1, 3, 89, 1, 67, 14, 9, 36, 18, 20], [34, 11, 2, 6, 30], [12, 5, 8, 10, 17, 16, 3, 23, 22, 13, 4, 14, 9, 15, 21, 7, 18, 20], [1, 30, 2, 1, 52, 1, 1, 1, 73], [26, 2, 27, 66, 1, 1, 1, 11, 6, 27, 19, 34, 1, 24, 25, 11, 4, 1, 26, 1], [71, 1, 2, 37], [31, 19, 27, 96, 1, 2, 6], [12, 5, 8, 7, 10, 60, 3, 1, 2, 50, 13, 3, 4, 14, 1, 9, 6, 18, 20], [2, 25, 11, 1], [1, 2, 53, 83, 26, 1, 69, 6, 1, 1, 11, 1, 1, 1, 53, 1, 26, 50], [1, 11, 2], [1, 51, 2, 1, 1], [1, 2, 1, 76, 27, 48, 39, 26, 63, 1], [1, 4, 2], [3, 2, 32, 1], [26, 19, 1, 85, 1, 26, 1, 85], [33, 1, 1, 1, 1, 1, 51, 1, 2, 25, 11], [1, 43, 5, 8, 10, 17, 16, 3, 1, 22, 13, 4, 14, 9, 15, 21, 7, 18, 20], [1, 1, 1, 2, 19], [34, 11, 2, 1], [70, 78, 25, 1, 79, 2], [70, 2, 1, 1, 3, 1], [1, 2, 4, 33, 91, 1, 1], [1, 28, 1, 2, 24, 94, 24, 1, 1, 1], [1, 2, 30, 27, 96], [1, 1, 28, 1, 24, 63, 33, 2, 1], [3, 2, 24, 1, 37, 1, 72], [1, 2, 4, 33, 91, 4, 1, 29], [1, 6, 2, 1, 1, 19, 30, 1], [1, 1, 1, 1, 19, 1, 1, 1, 2], [45, 7, 48, 76, 39, 27, 40, 41, 2, 49, 1, 1, 49, 1, 8, 1, 1, 1], [2, 4], [12, 5, 8, 10, 17, 16, 3, 23, 1, 1, 1, 22, 13, 4, 14, 9, 15, 21, 7, 46], [12, 5, 8, 10, 17, 16, 3, 23, 1, 13, 4, 14, 9, 15, 21, 7, 18, 20], [27, 1, 2, 5, 48, 62, 6, 31, 33], [1, 2, 30, 27, 96], [19, 1, 1, 2, 25, 11], [1, 1, 2, 1, 58, 52], [1, 44, 1, 1, 1, 1, 26, 2, 72], [12, 5, 8, 10, 17, 16, 3, 23, 50, 3, 99, 22, 13, 4, 14, 9, 15, 21, 7, 18, 20], [1, 2, 1, 1], [12, 5, 8, 10, 17, 16, 3, 23, 22, 13, 4, 14, 9, 15, 21, 7, 18, 20], [1, 2, 1, 1, 1], [59, 68, 26, 2, 1], [34, 1, 19, 2, 1, 1, 80, 1], [1, 1, 1, 1, 1, 4, 2, 94, 1, 56, 32], [1, 19, 1, 1, 2, 1, 1], [1, 6, 1, 9, 32, 87, 1, 52, 1, 32, 2, 32, 53, 1, 11, 32], [45, 1, 58, 62, 6, 2], [12, 5, 8, 10, 17, 16, 3, 23, 1, 1, 1, 22, 13, 4, 14, 9, 15, 21, 7, 46], [3, 2, 59, 1, 93, 1], [12, 36, 5, 8, 10, 17, 16, 6, 3, 23, 22, 13, 4, 14, 9, 15, 21, 7, 18, 20], [1, 19, 1, 20, 1, 19, 1, 2], [12, 5, 8, 10, 17, 16, 3, 23, 22, 13, 4, 14, 9, 15, 21, 7, 18, 20], [12, 5, 8, 10, 17, 16, 6, 3, 23, 22, 13, 4, 14, 9, 15, 21, 7, 18, 20], [1, 1, 1, 1, 1, 1, 1, 28, 1, 1, 1, 1, 1, 11, 2], [12, 5, 8, 10, 17, 16, 3, 23, 22, 13, 4, 14, 9, 15, 21, 7, 46], [12, 36, 5, 8, 10, 17, 16, 6, 3, 23, 22, 13, 4, 14, 9, 15, 21, 7, 18, 20], [2, 73, 68, 82], [1, 54, 29, 2, 1, 1], [74, 3, 2, 4, 31, 1, 24, 75, 28, 24, 54, 29, 1, 1, 1, 44, 38, 75, 28, 24, 35, 24, 1, 76, 56, 1, 14, 1, 49], [1, 1, 32, 2, 1, 1, 1, 38, 37, 1, 42, 1, 1, 35, 24, 1, 1, 1, 1, 74, 3, 2, 42], [26, 2, 1, 1, 6, 33, 1, 55, 39, 1, 1], [1, 1, 2, 1, 1, 1, 1, 1, 1], [12, 5, 8, 10, 17, 16, 3, 23, 22, 13, 4, 14, 9, 15, 21, 7, 46], [12, 5, 8, 10, 17, 16, 3, 23, 22, 13, 4, 14, 9, 15, 21, 7, 18, 20], [40, 41, 2, 27, 6, 27, 1, 44], [19, 2, 25, 1, 96, 6, 63, 1, 39, 1, 1, 1, 1, 1, 1, 24, 39, 26, 2, 1, 24, 47, 97, 1], [2, 48, 6, 5], [1, 25, 73, 98, 1, 88, 25], [7, 48, 62, 1, 26, 2], [12, 5, 8, 3, 23, 76, 14, 9, 15, 21, 7, 1], [1, 2, 19, 1], [1, 1, 19, 1, 4, 2], [1, 11, 4, 2, 1, 1, 54, 29, 43, 28, 24, 39, 1, 73, 49, 54, 29, 1, 1], [74, 38, 35, 24, 54, 29, 2, 1, 6], [12, 5, 8, 10, 17, 16, 3, 23, 22, 13, 4, 14, 9, 15, 21, 7, 1, 43], [3, 2, 32, 1], [1, 72, 2, 70, 1, 88, 1, 1, 27, 26, 19, 58, 26, 56, 1, 1, 1, 1, 1, 1, 19], [12, 5, 8, 10, 60, 6, 3, 23, 22, 13, 4, 14, 9, 15, 21, 7, 18, 20], [1, 5, 8, 7, 10, 60, 1, 3, 89, 1, 67, 14, 9, 36, 18, 20], [3, 2, 38], [1, 2, 1], [12, 5, 8, 10, 17, 16, 3, 23, 22, 13, 4, 14, 9, 15, 21, 7, 1, 43], [12, 5, 8, 10, 17, 16, 3, 23, 22, 13, 4, 14, 9, 15, 21, 7, 18, 20], [31, 2, 1, 1, 2, 1, 24], [2, 29, 24, 1, 1], [19, 59, 1, 2, 1, 78, 47, 97, 47, 1, 47, 1, 47, 1, 47, 57, 1, 47, 1, 47], [87, 11, 1, 1, 2], [2, 1, 11, 31, 1, 1, 1, 52, 84, 2, 1, 25, 56, 28], [12, 5, 64, 53, 2, 1], [53, 7, 70, 1, 1, 1, 16, 83, 32, 2, 70], [72, 2, 1, 11, 1], [4, 2, 1, 27], [1, 1, 1, 1, 2], [1, 1, 1, 86, 1, 2, 1, 1, 1, 1], [12, 5, 8, 10, 17, 16, 6, 3, 23, 22, 13, 4, 14, 9, 15, 21, 7, 18, 20], [30, 2, 27, 96], [1, 1, 1, 1, 44, 2, 28, 30, 1, 1], [1, 6, 2, 1, 1, 47, 97, 1, 1, 24, 1, 1, 1], [1, 1, 1, 1, 30, 2, 1], [12, 5, 1, 2, 1, 53, 19, 1, 1, 19, 61, 1], [12, 5, 8, 10, 17, 16, 3, 23, 22, 13, 4, 14, 9, 15, 21, 7, 18, 20], [1, 1, 2, 26, 1, 1, 1, 6], [19, 34, 2, 73], [1, 1, 19, 2, 1, 1], [1, 3, 54, 29, 2], [61, 61, 1, 2, 25, 4, 19], [1, 40, 41, 2, 1], [1, 2, 56, 1, 1, 31, 49], [1, 2, 1, 70, 1, 19, 1, 51, 24, 29, 95, 1], [12, 5, 8, 10, 17, 16, 3, 1, 22, 13, 4, 14, 9, 15, 7, 18, 20], [34, 11, 2, 1, 39, 26], [58, 1, 2], [79, 1, 28, 1, 1, 1, 6, 1, 1, 1, 1, 1, 87, 1, 2, 1, 1, 1, 1, 1], [3, 3, 2, 6, 75, 28, 24, 34, 11, 1], [53, 2, 1, 34, 1, 1], [1, 1, 1, 2, 11, 1, 73], [1, 2, 65, 1], [86, 3, 37, 51, 26, 19, 1, 2, 1, 1, 1, 35, 6], [1, 1, 1, 1, 1, 4, 2], [1, 1, 1, 1, 1, 19, 2, 1, 11, 1, 1, 31], [32, 2, 1, 6], [69, 2, 11, 1, 1], [1, 2, 1], [87, 1, 53, 2, 1, 1, 1, 1], [47, 97, 2, 25], [12, 5, 1, 8, 7, 10, 60, 6, 3, 77, 67, 2, 50, 13, 1, 4, 64, 9, 46], [12, 5, 8, 10, 17, 16, 3, 77, 67, 2, 50, 3, 99, 22, 13, 4, 14, 9, 15, 21, 1, 7, 18, 20], [2, 1, 42], [55, 79, 2], [12, 5, 8, 7, 10, 60, 3, 1, 2, 50, 13, 3, 4, 14, 1, 9, 6, 18, 20], [1, 2, 1, 11], [1, 66, 66, 69, 2, 1], [2, 85], [1, 2, 37, 1, 11], [2, 1, 4, 90], [68, 85, 2, 25, 34, 1], [2, 1, 1, 1], [1, 32, 2, 33, 1, 1, 1, 1, 9, 1, 84, 1, 42, 1, 1, 42, 24], [43, 5, 3, 1, 49, 3, 2, 3, 1, 1], [1, 2, 47, 97, 19, 47, 97], [1, 2, 1, 11, 1, 28, 1, 65, 1, 1, 1, 1, 1, 1, 1, 24, 29, 1], [74, 3, 2, 37, 1, 1, 1], [1, 34, 32, 2, 19, 1, 1], [2, 78, 25, 19], [45, 40, 41, 2, 63, 1, 27, 1, 27], [3, 3, 2, 1, 63, 42, 38], [30, 2, 6], [1, 29, 2, 25, 11], [1, 1, 2, 38, 37, 1, 42, 35, 24, 1, 44, 51, 1, 74, 3, 2, 1, 42], [1, 1, 1, 1, 1, 1, 2], [1, 2, 25, 98, 1, 1, 1, 1], [29, 2, 25, 11, 1], [12, 36, 5, 8, 10, 17, 16, 3, 23, 64, 9, 6, 15, 7, 18, 20], [1, 1, 1, 19, 1, 1, 2], [4, 2, 16, 1, 1, 1, 1, 19, 30], [1, 1, 2, 1, 1, 1], [1, 44, 40, 41, 2, 1, 1, 1, 1, 1], [93, 2], [1, 2, 69, 1, 1, 1, 1], [2], [1, 1, 2, 1, 1], [1, 4, 2, 1, 1, 27, 1, 1, 6, 45], [12, 5, 8, 10, 17, 16, 6, 3, 23, 22, 13, 4, 14, 9, 15, 21, 7, 18, 20], [86, 3, 37, 51, 26, 19, 1, 2, 1, 1, 1, 35, 6], [12, 36, 5, 1, 8, 7, 10, 60, 6, 3, 77, 67, 2, 50, 13, 1, 4, 64, 9, 46], [12, 5, 8, 10, 17, 16, 3, 23, 1, 13, 4, 14, 9, 15, 21, 7, 18, 20], [8, 2, 1, 10, 17, 16, 1], [1, 1, 1, 2, 1, 1], [89, 83, 19, 1, 2], [1, 26, 2, 1, 1], [2, 54, 1, 11], [6, 1, 1, 19, 2, 1, 1], [2, 1, 1], [12, 5, 8, 10, 17, 16, 3, 1, 22, 13, 4, 14, 9, 15, 21, 7, 18, 20], [34, 1, 19, 2, 1, 1, 80, 1], [1, 1, 1, 2, 1, 1], [1, 32, 2, 29, 6, 51, 1], [63, 2, 1, 1, 1, 1, 1, 30, 11, 1], [95, 6, 26, 2, 34, 1], [12, 36, 5, 8, 10, 17, 16, 6, 3, 23, 22, 13, 4, 14, 9, 15, 21, 7, 18, 20], [1, 1, 2], [1, 2, 1, 1, 2, 1], [1, 2, 1], [68, 2, 1, 9, 6], [12, 5, 8, 10, 17, 16, 6, 3, 23, 50, 3, 99, 22, 13, 4, 14, 9, 15, 21, 7, 18, 20], [55, 79, 2], [70, 72, 2, 1, 1, 1, 4, 1, 1], [12, 5, 8, 10, 17, 16, 6, 3, 23, 50, 3, 99, 22, 13, 4, 14, 9, 15, 21, 7, 18, 20], [2, 25, 11], [1, 58, 83, 2, 1], [71, 3, 2, 31], [2, 1, 1, 1, 1, 44, 78, 1, 4, 1, 1, 1, 1, 1, 4, 29, 24], [12, 5, 8, 10, 17, 16, 6, 3, 23, 22, 13, 4, 14, 9, 15, 21, 7, 18, 20], [2, 1, 1, 1, 11, 95, 1, 1, 24], [34, 1, 1, 2], [2, 62, 1], [12, 5, 64, 9, 8, 10, 17, 16, 1, 1, 4, 4, 2, 77, 1, 8, 1, 1, 1, 1, 7, 18, 20], [44, 1, 1, 1, 1, 1, 1, 2], [7, 2, 1, 1, 1, 1, 1], [81, 2, 1, 1, 1, 1, 1, 1, 1, 1], [40, 41, 2, 1, 31, 1], [1, 2, 1, 61, 1, 1, 39, 1, 1, 6, 1], [3, 2], [55, 1, 1, 1, 2, 1, 47, 1, 54, 1, 1, 1, 1, 1, 1, 54, 39, 1, 1, 1, 1, 1, 1, 1], [1, 1, 2, 31, 1, 59, 1, 1], [26, 19, 2, 51, 24, 19, 51, 24, 1, 26], [12, 5, 8, 10, 17, 16, 3, 23, 1, 1, 1, 22, 13, 4, 14, 9, 15, 21, 7, 46], [2, 1, 1], [59, 11, 4, 2, 1, 31, 1, 29, 1, 35], [2, 25, 29, 1], [1, 2, 1, 65, 1, 92, 1, 1, 18, 92, 81], [3, 72, 1, 2, 3, 54, 29, 1, 1, 1], [1, 1, 1, 30, 1, 28, 1, 93, 1, 98, 1, 6, 1, 1, 1, 1, 1, 1, 1, 1], [1, 1, 19, 6, 2, 25, 11], [28, 1, 2, 1, 19, 1, 1, 1, 1, 1, 1, 1], [1, 2, 1, 1, 1], [12, 5, 8, 10, 17, 16, 6, 3, 23, 22, 13, 4, 14, 9, 15, 21, 7, 18, 20], [7, 1, 34, 11, 86, 2, 1, 26, 5], [1, 11, 26, 2, 1, 1, 11, 50, 1, 1], [2, 1], [12, 5, 8, 10, 17, 16, 3, 23, 22, 13, 4, 14, 9, 15, 21, 7, 18, 20], [1, 1, 29, 2, 25, 6], [74, 3, 3, 2, 1, 24, 43, 24, 35, 24, 1, 33, 40, 41, 1, 42, 35, 24, 42, 1, 1], [3, 72, 1, 2, 3, 54, 29, 1, 1, 1], [1, 1, 26, 2, 64, 1], [1, 1, 88, 1, 2], [1, 4, 2, 81, 33, 91], [71, 2, 44, 40, 41, 37, 42, 38], [12, 5, 8, 10, 17, 16, 3, 23, 22, 13, 4, 14, 9, 15, 21, 7, 18, 20], [1, 45, 1, 1, 1, 1, 3, 2, 77, 67, 1, 1, 1, 1, 1, 1, 1], [12, 5, 8, 10, 17, 16, 3, 23, 22, 13, 4, 14, 9, 15, 21, 7, 46], [12, 36, 5, 8, 10, 17, 16, 3, 23, 13, 4, 1, 90, 1, 64, 9, 6, 15, 7, 18, 20], [1, 2, 1, 1, 1, 1, 1, 66, 1, 1, 1], [12, 5, 8, 10, 17, 16, 3, 1, 22, 13, 4, 14, 9, 15, 21, 7, 18, 20], [71, 3, 2, 38], [1, 3, 2, 31, 1, 1, 75, 28, 1, 35], [1, 34, 32, 2, 19, 1, 1], [71, 3, 2, 1, 86, 1], [1, 1, 87, 2, 66, 1], [2, 1, 1, 30, 11], [1, 2, 1], [12, 5, 8, 10, 17, 16, 3, 23, 1, 1, 1, 22, 13, 4, 14, 9, 15, 21, 7, 18, 20], [1, 39, 2, 1], [1, 11, 1, 34, 1, 26, 2, 65, 1, 1, 11, 39, 65, 1, 1, 1, 1, 1, 1, 1, 1], [2, 19, 1, 1, 6, 1], [57, 1, 2, 62, 2, 80, 1], [74, 3, 2, 4, 31, 1, 24, 75, 28, 24, 54, 29, 1, 1, 1, 44, 38, 75, 28, 24, 35, 24, 1, 76, 56, 1, 14, 1, 49], [6, 2, 19, 30, 1, 25, 78, 1], [12, 5, 8, 10, 17, 16, 3, 1, 22, 13, 4, 14, 9, 15, 7, 18, 20], [11, 1, 1, 1, 1, 1, 1, 27, 1, 1, 1, 1, 1, 1, 1, 11, 2, 25], [12, 5, 8, 10, 17, 16, 3, 23, 22, 13, 4, 14, 9, 15, 21, 7, 18, 20], [12, 43, 5, 8, 10, 60, 6, 3, 77, 2, 67, 1, 13, 4, 64, 9, 6, 15, 7, 1], [58, 1, 1, 2, 1, 1, 1], [28, 19, 1, 1, 1, 6, 1, 1, 1, 11], [74, 3, 2, 4, 31, 1, 24, 75, 28, 24, 54, 29, 1, 1, 1, 44, 38, 75, 28, 24, 35, 24, 1, 76, 56, 1, 14, 1, 49], [34, 11, 2, 1], [43, 8, 7, 3, 2, 1, 11, 1, 1, 59, 4, 5], [32, 2, 94, 1, 1, 1], [28, 19, 2, 1, 33, 1, 94, 6, 1, 1, 1, 1, 1, 1], [2, 27, 1, 1, 1, 48], [1, 1, 7, 2, 1, 1, 1], [93, 1, 58, 2, 1, 1, 1], [2, 68, 65, 25, 1], [1, 2], [1, 1, 2, 1, 48, 26, 6, 4], [1, 1, 1, 1, 1, 28, 2, 1, 30, 11, 68, 19, 1, 1, 1, 1, 28, 52, 1, 1, 30], [2, 85], [1, 1, 52, 26, 26, 1, 1, 79, 2, 72, 1, 11, 1], [1, 1, 2, 1, 1, 1], [1, 18, 2, 81, 1, 26, 81, 1, 53, 1, 5, 1, 1, 81, 1, 97, 2], [1, 2, 1, 1, 2, 1], [2, 4, 40, 41, 1], [12, 5, 8, 10, 17, 16, 3, 23, 22, 13, 4, 14, 9, 15, 21, 7, 18, 20], [12, 5, 8, 10, 17, 16, 3, 1, 22, 13, 4, 14, 9, 15, 7, 18, 20], [2, 1, 1, 1, 61, 84, 1, 1, 1, 1, 18, 1], [12, 5, 8, 10, 17, 16, 3, 23, 50, 3, 99, 22, 13, 4, 14, 9, 15, 21, 7, 18, 20], [1, 1, 1, 2, 19], [1, 34, 32, 2, 19, 1, 1], [12, 5, 8, 10, 17, 16, 6, 3, 23, 22, 13, 4, 14, 9, 15, 21, 7, 18, 20], [1, 1, 2, 1, 11, 1, 1], [1, 1, 1, 34, 2, 80, 6], [3, 2, 75, 28, 24, 24, 35, 24], [12, 5, 1, 26, 1, 39, 2, 1, 1, 27, 6], [1, 2, 1, 1, 1, 1, 1, 1, 1, 1, 30, 11, 6, 1, 46], [95, 6, 1, 1, 65, 30, 88, 1, 1, 11, 1, 1, 1, 1, 1, 1, 57, 1, 4, 2, 94, 1], [12, 36, 5, 8, 10, 17, 16, 6, 3, 23, 22, 13, 4, 14, 9, 15, 21, 7, 18, 20], [1, 44, 2, 1, 1], [1, 35, 2, 25, 11, 1, 1], [40, 41, 2, 48, 62, 1, 27], [12, 43, 5, 8, 10, 60, 3, 1, 1, 13, 4, 1, 90, 1, 64, 9, 6, 15, 7, 18, 20], [1, 2, 19, 65, 1, 1, 1, 1, 1, 1, 65, 1, 1], [12, 5, 8, 10, 17, 16, 3, 1, 22, 13, 4, 14, 9, 15, 21, 7, 18, 20], [7, 3, 2, 52], [2, 83, 6], [1, 1, 1, 2, 19], [1, 1, 1, 84, 2], [12, 5, 8, 10, 17, 16, 6, 3, 23, 22, 13, 4, 14, 9, 15, 21, 7, 18, 20], [1, 45, 1, 1, 1, 1, 3, 2, 77, 67, 1, 1, 1, 1, 1, 1, 1], [4, 2, 49, 1, 39, 1, 1, 33, 1, 56, 49, 1, 28, 19], [1, 26, 1, 1, 2, 1], [2, 27, 87, 4, 52, 1], [1, 4, 2, 27, 1, 1, 31, 1], [1, 1, 4, 2, 94, 42, 1, 24, 24, 42, 95, 1, 65, 1, 1, 1, 1, 24, 1, 24], [1, 1, 32, 2, 1, 1, 1, 38, 37, 1, 42, 1, 1, 35, 24, 1, 1, 1, 1, 74, 3, 2, 42], [1, 2, 33, 1, 1, 1, 1, 33, 6, 1, 1, 1], [1, 3, 2, 24, 1], [1, 1, 11, 2, 19, 30, 19, 1, 1, 61, 1], [12, 5, 8, 10, 17, 16, 6, 3, 23, 22, 13, 4, 14, 9, 15, 21, 7, 18, 20], [70, 2, 1, 31], [26, 2, 34, 11, 1, 1, 1, 1, 27, 69, 1], [1, 2, 11, 1, 1, 1, 1, 1, 1], [1, 1, 1, 84, 2], [12, 43, 5, 8, 10, 60, 3, 1, 1, 13, 4, 1, 90, 1, 64, 9, 6, 15, 7, 18, 20], [2, 6, 27, 96], [1, 1, 1, 1, 1, 19, 32, 19, 2, 1, 1, 1], [1, 19, 1, 19, 2, 25, 1, 11, 1, 1, 1, 84, 1, 19, 1, 1, 1, 59, 1, 55, 1, 1], [58, 19, 82, 1, 1, 1, 1, 1, 2, 1, 1], [1, 1, 1, 1, 2, 25], [1, 1, 1, 2], [12, 36, 5, 8, 10, 17, 16, 6, 3, 23, 22, 13, 4, 14, 9, 15, 21, 7, 18, 20], [1, 2], [1, 1, 2], [1, 2, 1, 1, 25, 11, 1, 11], [1, 2, 48, 62], [12, 36, 5, 8, 10, 17, 16, 6, 3, 23, 22, 13, 4, 14, 9, 15, 21, 7, 18, 20], [1, 1, 2], [2, 79, 28, 82, 1, 1], [1, 82, 1, 2, 1, 63, 1, 1, 1, 82, 1, 1, 1, 1, 1, 1, 1], [8, 40, 41, 2], [34, 66, 1, 1, 1, 1, 2], [3, 3, 2, 6, 75, 28, 24, 34, 11, 1], [30, 2, 6], [1, 82, 1, 2, 1, 63, 1, 1, 1, 82, 1, 1, 1, 1, 1, 1, 1], [79, 2, 19, 1], [95, 27, 69, 2], [71, 3, 2, 1, 38, 1, 1, 1, 1, 1, 1], [2, 1, 1, 1, 11, 95, 1, 1, 24], [12, 5, 8, 10, 17, 16, 3, 23, 1, 1, 1, 22, 13, 4, 14, 9, 15, 21, 7, 46], [1, 1, 29, 2, 25, 11], [12, 5, 8, 10, 17, 16, 33, 3, 23, 1, 13, 4], [1, 1, 26, 2, 61, 1, 1, 1, 11, 1, 1, 61, 80, 1, 1, 11, 1, 1], [1, 1, 1, 1, 1, 4, 2, 94, 1, 56, 32], [89, 1, 2, 1, 1, 1], [1, 4, 2, 27, 1, 1, 31, 1], [1, 2, 1, 65, 1, 92, 1, 1, 18, 92, 81], [19, 34, 2, 73], [65, 1, 2, 25], [1, 40, 41, 2, 27, 1], [12, 5, 8, 10, 60, 6, 3, 23, 22, 13, 4, 14, 9, 15, 21, 7, 18, 20], [12, 36, 5, 8, 10, 17, 16, 6, 3, 23, 22, 13, 4, 14, 9, 15, 21, 7, 18, 20], [87, 11, 97, 2, 1, 1, 7, 1, 1], [2, 4, 1], [14, 1, 1, 29, 2, 1, 57, 24, 35, 24, 24, 47, 1, 1, 7, 1], [12, 5, 8, 10, 17, 16, 3, 23, 22, 13, 4, 14, 9, 15, 21, 7, 46], [4, 2, 1, 6, 1, 63, 1], [2, 33, 1, 1], [1, 45, 1, 1, 1, 1, 3, 2, 77, 67, 1, 1, 1, 1, 1, 1, 1], [58, 1, 1, 2, 1, 1, 66], [2, 1, 11, 1, 1, 1, 11], [1, 2, 1, 6, 1, 61, 1, 1, 33, 1, 1, 1, 1, 6, 1], [2, 31, 1, 1], [1, 28, 1, 2, 24, 94, 24, 1, 1, 1], [2, 1, 1], [2, 30, 27, 96, 1, 1], [12, 5, 8, 10, 17, 16, 3, 23, 22, 13, 4, 14, 9, 15, 21, 7, 18, 20], [28, 2, 52, 19, 57, 1, 1], [71, 3, 2, 38], [1, 73, 1, 1, 11, 32, 2, 72, 50], [45, 1, 40, 41, 2, 33, 31, 91, 49, 88, 3, 91, 90, 31, 91, 45], [1, 1, 1, 1, 19, 1, 1, 1, 2], [39, 1, 1, 1, 1, 57, 2], [86, 1, 2, 30], [47, 97, 2, 25, 11, 1], [12, 5, 8, 10, 17, 16, 3, 23, 22, 13, 4, 14, 9, 15, 21, 7, 18, 20], [12, 36, 5, 8, 10, 17, 16, 3, 23, 13, 4, 1, 90, 1, 64, 9, 6, 15, 7, 18, 20], [68, 2, 1, 9, 6], [2, 48, 1], [1, 59, 11, 2, 29, 25, 51, 1], [34, 11, 2, 6, 30], [58, 1, 1, 2, 1, 1, 1], [1, 2, 27, 96, 83, 1, 1, 1, 1, 84, 1, 1, 1, 1, 1], [3, 2, 37, 35], [1, 1, 62, 2], [1, 1, 87, 1, 19, 1, 2, 28, 1, 57], [1, 4, 2, 49], [71, 3, 2, 31], [2, 1, 1], [2, 11, 1, 92, 1], [3, 2, 1, 63, 42], [1, 1, 1, 34, 2, 80, 6], [1, 2, 25, 11, 1, 1, 1], [2, 73, 68, 82], [12, 5, 8, 10, 17, 16, 3, 23, 22, 13, 4, 14, 9, 15, 21, 7, 18, 20], [12, 5, 8, 10, 17, 16, 6, 3, 23, 22, 13, 4, 14, 9, 15, 21, 7, 18, 20], [43, 5, 26, 2, 1, 1, 37, 43, 33, 1, 81, 1, 37, 1, 26], [1, 1, 1, 1, 1, 1, 85, 84, 1, 26, 2], [2, 48, 27, 1], [12, 5, 8, 10, 17, 16, 3, 77, 2, 67, 1, 13, 1, 9, 6, 15, 7, 18, 20], [1, 2, 19, 1], [12, 5, 8, 10, 17, 16, 3, 23, 22, 13, 4, 14, 9, 15, 21, 7, 18, 20], [1, 2, 31], [2, 29, 24, 1, 1], [26, 2, 1, 27, 1, 1], [12, 36, 5, 8, 10, 17, 16, 6, 3, 23, 22, 13, 4, 14, 9, 15, 21, 7, 18, 20], [43, 64, 6, 8, 1, 4, 44, 2, 89, 5], [1, 1, 1, 8, 7, 4, 2, 1, 1], [2, 59, 83, 1], [20, 3, 2, 62, 77, 1, 1], [2, 1, 85], [12, 36, 5, 8, 10, 17, 16, 1, 3, 1, 14, 9, 15, 21, 1, 7, 46], [71, 3, 2, 38], [30, 2, 76, 3, 1, 33, 1, 1], [8, 1, 83, 32], [1, 26, 2, 1, 1, 30, 11, 26, 1], [12, 5, 8, 10, 17, 16, 3, 23, 22, 13, 4, 14, 9, 15, 21, 7, 18, 20], [74, 3, 2, 37, 1, 1, 24, 54, 29, 56, 1, 1, 6, 35], [2, 4, 62, 39, 1, 1, 1, 1, 98, 1, 4, 2, 1, 11], [1, 30, 2, 76, 3, 1, 33, 1, 1], [1, 1, 3, 2, 1], [57, 2], [59, 68, 26, 2, 1], [2, 1, 1, 1, 84, 1], [58, 1, 1, 2, 1, 1, 66], [3, 3, 2, 1, 63, 42, 38], [1, 25, 11, 1, 2], [6, 1, 1, 2, 1, 1, 1, 5], [12, 5, 8, 10, 17, 16, 3, 23, 22, 13, 4, 14, 9, 15, 21, 7, 1, 43], [1, 1, 57, 1, 2, 1, 1, 1, 1, 1, 1], [12, 5, 8, 10, 17, 16, 3, 23, 1, 1, 1, 22, 13, 4, 14, 9, 15, 21, 7, 46], [45, 55, 1, 1, 4, 19, 1, 52, 55], [1, 85, 1, 26, 2, 1, 1], [52, 2, 1], [12, 5, 8, 10, 17, 16, 3, 1, 22, 13, 4, 14, 9, 15, 21, 7, 18, 20], [1, 3, 2, 90, 1, 86, 1, 35], [1, 1, 28, 1, 24, 63, 33, 2, 1], [12, 5, 8, 10, 17, 16, 3, 23, 22, 13, 4, 14, 9, 15, 21, 7, 18, 20]]\n"
          ]
        }
      ]
    },
    {
      "cell_type": "code",
      "source": [
        "print(trainX[10])\n",
        "print(train_seqs[10])"
      ],
      "metadata": {
        "id": "OT5Nkq5J46td",
        "colab": {
          "base_uri": "https://localhost:8080/"
        },
        "outputId": "9965fb2d-202d-49bf-b913-aef0de655403"
      },
      "execution_count": null,
      "outputs": [
        {
          "output_type": "stream",
          "name": "stdout",
          "text": [
            "halo gojekindonesia akun kena soft banned ya voucher goridegocargofood claim kode promo mohon bantu nyaman aktif gojek terima kasih\n",
            "[12, 5, 8, 10, 17, 16, 6, 3, 23, 22, 13, 4, 14, 9, 15, 21, 7, 18, 20]\n"
          ]
        }
      ]
    },
    {
      "cell_type": "markdown",
      "source": [
        "### Padding & Truncate"
      ],
      "metadata": {
        "id": "f8oipM5M6c5Q"
      }
    },
    {
      "cell_type": "code",
      "source": [
        "'''\n",
        "Proses mengubah data dari sequence menjadi array bentuk 2D Numpy (num_samples, num_timesteps).\n",
        "num_timesteps adalah argumen maxlen jika disediakan, atau panjang dari sequence terpanjang dalam daftar.\n",
        "\n",
        "Sequence yang lebih pendek dari num_timesteps diisi dengan nilai hingga panjangnya sama dengan num_timesteps (padding).\n",
        "Sequence yang lebih panjang dari num_timesteps dipotong sehingga sesuai dengan panjang yang diinginkan (truncate).\n",
        "'''\n",
        "\n",
        "from tensorflow.keras.preprocessing.sequence import pad_sequences"
      ],
      "metadata": {
        "id": "ZdJxN0VG2Xyv"
      },
      "execution_count": null,
      "outputs": []
    },
    {
      "cell_type": "code",
      "source": [
        "# Lihat distribusi jumlah kata dalam X_train_seq.\n",
        "# Pada contoh ini, max_len tidak ditentukan, sehingga semua data dari sequence akan di padding menjad panjang sesuai dengan sequnce terpanjang\n",
        "l = [len(i) for i in train_seqs]\n",
        "l = np.array(l)\n",
        "\n",
        "print('minimum number of words: {}'.format(l.min()))\n",
        "print('median number of words: {}'.format(np.median(l)))\n",
        "print('average number of words: {}'.format(l.mean()))\n",
        "print('maximum number of words: {}'.format(l.max()))"
      ],
      "metadata": {
        "id": "MhUJvzgv2YEH",
        "colab": {
          "base_uri": "https://localhost:8080/"
        },
        "outputId": "6f4d4bd4-f855-43d3-dfcf-8929a48c8670"
      },
      "execution_count": null,
      "outputs": [
        {
          "output_type": "stream",
          "name": "stdout",
          "text": [
            "minimum number of words: 1\n",
            "median number of words: 7.0\n",
            "average number of words: 9.612794612794612\n",
            "maximum number of words: 29\n"
          ]
        }
      ]
    },
    {
      "cell_type": "code",
      "source": [
        "PADDING = 'pre' # Terdapat dua pilihan dalam melakukan padding 'pre' or 'post'.\n",
        "\n",
        "train_seqs = pad_sequences(train_seqs, padding=PADDING)\n",
        "val_seqs = pad_sequences(val_seqs, padding=PADDING)\n",
        "test_seqs = pad_sequences(test_seqs, padding=PADDING)"
      ],
      "metadata": {
        "id": "QeVcAPyZ6shy"
      },
      "execution_count": null,
      "outputs": []
    },
    {
      "cell_type": "code",
      "source": [
        "print(trainX[10])\n",
        "print(train_seqs[10])"
      ],
      "metadata": {
        "id": "_SVld-Gt62zA",
        "colab": {
          "base_uri": "https://localhost:8080/"
        },
        "outputId": "b7ec7a3b-4ac7-405e-e03c-cd9abd61fbf5"
      },
      "execution_count": null,
      "outputs": [
        {
          "output_type": "stream",
          "name": "stdout",
          "text": [
            "halo gojekindonesia akun kena soft banned ya voucher goridegocargofood claim kode promo mohon bantu nyaman aktif gojek terima kasih\n",
            "[ 0  0  0  0  0  0  0  0  0  0 12  5  8 10 17 16  6  3 23 22 13  4 14  9\n",
            " 15 21  7 18 20]\n"
          ]
        }
      ]
    },
    {
      "cell_type": "markdown",
      "source": [
        "### Define Model"
      ],
      "metadata": {
        "id": "LxMM1GjV8yWT"
      }
    },
    {
      "cell_type": "code",
      "source": [
        "from keras.models import Sequential\n",
        "from keras.layers import Embedding, LSTM, Dense, Flatten\n",
        "\n",
        "model_LSTM = Sequential()\n",
        "model_LSTM.add(Embedding(len(word_index), 200))\n",
        "model_LSTM.add(LSTM(100))\n",
        "model_LSTM.add(Dense(2, activation='softmax'))"
      ],
      "metadata": {
        "id": "qn_Yux7n9AM1"
      },
      "execution_count": null,
      "outputs": []
    },
    {
      "cell_type": "code",
      "source": [
        "model_LSTM.compile(loss='categorical_crossentropy', optimizer='adam', metrics=['accuracy'])"
      ],
      "metadata": {
        "id": "9S1bbx97-Prn"
      },
      "execution_count": null,
      "outputs": []
    },
    {
      "cell_type": "markdown",
      "source": [
        "### Training"
      ],
      "metadata": {
        "id": "7ZtRrSwRBOCh"
      }
    },
    {
      "cell_type": "code",
      "source": [
        "%%time\n",
        "\n",
        "EPOCH = 10\n",
        "BATCH_SIZE = 32\n",
        "\n",
        "history_LSTM = model_LSTM.fit(train_seqs, trainY, epochs=EPOCH, batch_size=BATCH_SIZE, validation_data=(val_seqs, valY))"
      ],
      "metadata": {
        "id": "0yx_o6c2-P16",
        "colab": {
          "base_uri": "https://localhost:8080/"
        },
        "outputId": "a6e7afa9-c5af-4b54-e96e-5816686a31a6"
      },
      "execution_count": null,
      "outputs": [
        {
          "output_type": "stream",
          "name": "stdout",
          "text": [
            "Epoch 1/10\n",
            "19/19 [==============================] - 4s 83ms/step - loss: 0.6408 - accuracy: 0.6465 - val_loss: 0.5708 - val_accuracy: 0.6818\n",
            "Epoch 2/10\n",
            "19/19 [==============================] - 1s 52ms/step - loss: 0.5076 - accuracy: 0.7424 - val_loss: 0.5464 - val_accuracy: 0.7323\n",
            "Epoch 3/10\n",
            "19/19 [==============================] - 1s 52ms/step - loss: 0.4436 - accuracy: 0.8030 - val_loss: 0.4858 - val_accuracy: 0.7424\n",
            "Epoch 4/10\n",
            "19/19 [==============================] - 1s 52ms/step - loss: 0.4022 - accuracy: 0.8199 - val_loss: 0.4834 - val_accuracy: 0.7677\n",
            "Epoch 5/10\n",
            "19/19 [==============================] - 1s 54ms/step - loss: 0.3620 - accuracy: 0.8333 - val_loss: 0.4671 - val_accuracy: 0.7576\n",
            "Epoch 6/10\n",
            "19/19 [==============================] - 2s 92ms/step - loss: 0.3535 - accuracy: 0.8418 - val_loss: 0.4613 - val_accuracy: 0.7828\n",
            "Epoch 7/10\n",
            "19/19 [==============================] - 2s 93ms/step - loss: 0.3390 - accuracy: 0.8468 - val_loss: 0.4413 - val_accuracy: 0.7828\n",
            "Epoch 8/10\n",
            "19/19 [==============================] - 1s 52ms/step - loss: 0.3411 - accuracy: 0.8586 - val_loss: 0.4306 - val_accuracy: 0.7980\n",
            "Epoch 9/10\n",
            "19/19 [==============================] - 1s 52ms/step - loss: 0.3335 - accuracy: 0.8418 - val_loss: 0.4386 - val_accuracy: 0.8081\n",
            "Epoch 10/10\n",
            "19/19 [==============================] - 1s 51ms/step - loss: 0.3225 - accuracy: 0.8502 - val_loss: 0.4357 - val_accuracy: 0.8131\n",
            "CPU times: user 18.9 s, sys: 720 ms, total: 19.6 s\n",
            "Wall time: 14.5 s\n"
          ]
        }
      ]
    },
    {
      "cell_type": "code",
      "source": [
        "def plot_graphs(history, string):\n",
        "  plt.plot(history.history[string])\n",
        "  plt.plot(history.history['val_'+string])\n",
        "  plt.xlabel(\"Epochs\")\n",
        "  plt.ylabel(string)\n",
        "  plt.legend([string, 'val_'+string])\n",
        "  plt.show()"
      ],
      "metadata": {
        "id": "Px0sMOl3-tOb"
      },
      "execution_count": null,
      "outputs": []
    },
    {
      "cell_type": "code",
      "source": [
        "plot_graphs(history_LSTM, 'accuracy')\n",
        "plot_graphs(history_LSTM, 'loss')"
      ],
      "metadata": {
        "id": "lYaz_kniYk_i",
        "colab": {
          "base_uri": "https://localhost:8080/",
          "height": 881
        },
        "outputId": "ac1db5d9-926f-44e9-f605-3da1de7cdb6c"
      },
      "execution_count": null,
      "outputs": [
        {
          "output_type": "display_data",
          "data": {
            "text/plain": [
              "<Figure size 640x480 with 1 Axes>"
            ],
            "image/png": "[encoded data removed]"
          },
          "metadata": {}
        },
        {
          "output_type": "display_data",
          "data": {
            "text/plain": [
              "<Figure size 640x480 with 1 Axes>"
            ],
            "image/png": "[encoded data removed]"
          },
          "metadata": {}
        }
      ]
    },
    {
      "cell_type": "code",
      "source": [
        "print('\\nEpoch No.  Train Accuracy  Train Loss      Val Accuracy    Val Loss')\n",
        "for i in range(EPOCH):\n",
        "  print('{:8d} {:10f} \\t {:10f} \\t {:10f} \\t {:10f}'.format(i + 1, history_LSTM.history['accuracy'][i], history_LSTM.history['loss'][i], history_LSTM.history['val_accuracy'][i], history_LSTM.history['val_loss'][i]))"
      ],
      "metadata": {
        "id": "4AFzELe8A_ZD",
        "colab": {
          "base_uri": "https://localhost:8080/"
        },
        "outputId": "6f5f77be-3081-4f20-8431-6a3b87c4b3d8"
      },
      "execution_count": null,
      "outputs": [
        {
          "output_type": "stream",
          "name": "stdout",
          "text": [
            "\n",
            "Epoch No.  Train Accuracy  Train Loss      Val Accuracy    Val Loss\n",
            "       1   0.646465 \t   0.640825 \t   0.681818 \t   0.570842\n",
            "       2   0.742424 \t   0.507629 \t   0.732323 \t   0.546448\n",
            "       3   0.803030 \t   0.443569 \t   0.742424 \t   0.485770\n",
            "       4   0.819865 \t   0.402170 \t   0.767677 \t   0.483372\n",
            "       5   0.833333 \t   0.361979 \t   0.757576 \t   0.467056\n",
            "       6   0.841751 \t   0.353487 \t   0.782828 \t   0.461332\n",
            "       7   0.846801 \t   0.339038 \t   0.782828 \t   0.441287\n",
            "       8   0.858586 \t   0.341105 \t   0.797980 \t   0.430639\n",
            "       9   0.841751 \t   0.333477 \t   0.808081 \t   0.438585\n",
            "      10   0.850168 \t   0.322474 \t   0.813131 \t   0.435693\n"
          ]
        }
      ]
    },
    {
      "cell_type": "markdown",
      "source": [
        "### Evaluate"
      ],
      "metadata": {
        "id": "xSQoo9NXBhle"
      }
    },
    {
      "cell_type": "code",
      "source": [
        "# Lakukan prediksi pada data uji\n",
        "y_pred = np.argmax(model_LSTM.predict(test_seqs), axis=1)\n",
        "y_true = np.argmax(testY, axis=1)\n",
        "\n",
        "loss, accuracy = model_LSTM.evaluate(test_seqs, testY)"
      ],
      "metadata": {
        "id": "2Rj-vUnVCFRR",
        "colab": {
          "base_uri": "https://localhost:8080/"
        },
        "outputId": "74417e02-c2dd-4299-8ef8-118ea5c906ca"
      },
      "execution_count": null,
      "outputs": [
        {
          "output_type": "stream",
          "name": "stdout",
          "text": [
            "7/7 [==============================] - 1s 15ms/step\n",
            "7/7 [==============================] - 1s 15ms/step - loss: 0.4368 - accuracy: 0.7828\n"
          ]
        }
      ]
    },
    {
      "cell_type": "code",
      "source": [
        "from sklearn.metrics import classification_report\n",
        "\n",
        "print(classification_report(y_pred, y_true))"
      ],
      "metadata": {
        "id": "vH7Cqp4hCYWT",
        "colab": {
          "base_uri": "https://localhost:8080/"
        },
        "outputId": "a4a7209d-8882-4a86-bbb1-172a977e156a"
      },
      "execution_count": null,
      "outputs": [
        {
          "output_type": "stream",
          "name": "stdout",
          "text": [
            "              precision    recall  f1-score   support\n",
            "\n",
            "           0       0.93      0.71      0.81       125\n",
            "           1       0.65      0.90      0.75        73\n",
            "\n",
            "    accuracy                           0.78       198\n",
            "   macro avg       0.79      0.81      0.78       198\n",
            "weighted avg       0.82      0.78      0.79       198\n",
            "\n"
          ]
        }
      ]
    },
    {
      "cell_type": "markdown",
      "source": [
        "## BiLSTM + Word Embedding"
      ],
      "metadata": {
        "id": "xohnk8BEDic-"
      }
    },
    {
      "cell_type": "code",
      "source": [
        "# Load word2vec yang telah kita simpan\n",
        "from gensim.models import KeyedVectors\n",
        "\n",
        "my_word2vec = KeyedVectors.load('myvec-word2vec-100.wordvectors', mmap='r')\n",
        "my_word2vec_vocab = my_word2vec.key_to_index\n",
        "\n",
        "VOCAB_SIZE = len(my_word2vec_vocab)\n",
        "EMBEDDING_SIZE = my_word2vec.vector_size\n",
        "\n",
        "print(VOCAB_SIZE)\n",
        "print(EMBEDDING_SIZE)"
      ],
      "metadata": {
        "id": "ag7IYEtZCsSH",
        "colab": {
          "base_uri": "https://localhost:8080/"
        },
        "outputId": "c504b8bc-3219-4eae-f35a-0aafe80253bb"
      },
      "execution_count": null,
      "outputs": [
        {
          "output_type": "stream",
          "name": "stdout",
          "text": [
            "1502\n",
            "50\n"
          ]
        }
      ]
    },
    {
      "cell_type": "code",
      "source": [
        "word2vec_dict = {}\n",
        "\n",
        "for word in my_word2vec_vocab:\n",
        "    word2vec_dict[word] = my_word2vec.get_vector(word)\n",
        "\n",
        "print('The numbers of key-value pairs: ', len(word2vec_dict)) # Harus sama dengan ukuran vocab word2vec"
      ],
      "metadata": {
        "id": "EbMj88xHWcE5",
        "colab": {
          "base_uri": "https://localhost:8080/"
        },
        "outputId": "a8b231a0-e281-4603-c5ae-8d50acf1ffa3"
      },
      "execution_count": null,
      "outputs": [
        {
          "output_type": "stream",
          "name": "stdout",
          "text": [
            "The numbers of key-value pairs:  1502\n"
          ]
        }
      ]
    },
    {
      "cell_type": "markdown",
      "source": [
        "### Token to Embedding"
      ],
      "metadata": {
        "id": "mxpqJdmpHNcH"
      }
    },
    {
      "cell_type": "code",
      "source": [
        "EMBEDDING_MATRIX = np.zeros(shape=(len(word_index), EMBEDDING_SIZE))\n",
        "\n",
        "for word, i in tokenizer.word_index.items():\n",
        "  embed_vector = word2vec_dict.get(word)\n",
        "  if embed_vector is not None:               # Word is in the vocabulary learned by the w2v model\n",
        "    EMBEDDING_MATRIX[i] = embed_vector"
      ],
      "metadata": {
        "id": "CNjILY41E1J5"
      },
      "execution_count": null,
      "outputs": []
    },
    {
      "cell_type": "markdown",
      "source": [
        "### Define Model"
      ],
      "metadata": {
        "id": "lKDc4woAHrpf"
      }
    },
    {
      "cell_type": "code",
      "source": [
        "from tensorflow.keras.models import Sequential\n",
        "from tensorflow.keras.layers import Embedding, Bidirectional, LSTM, Dropout\n",
        "from tensorflow.keras.initializers import Constant\n",
        "\n",
        "model_BiLSTM_w2v = Sequential()\n",
        "model_BiLSTM_w2v.add(Embedding(len(word_index), 50, embeddings_initializer = Constant(EMBEDDING_MATRIX)))\n",
        "model_BiLSTM_w2v.add(Bidirectional(LSTM(64)))\n",
        "model_BiLSTM_w2v.add(Dropout(0.2))\n",
        "model_BiLSTM_w2v.add(Dense(2, activation='softmax'))"
      ],
      "metadata": {
        "id": "36uZOD2gGcXv"
      },
      "execution_count": null,
      "outputs": []
    },
    {
      "cell_type": "code",
      "source": [
        "# Compile model\n",
        "model_BiLSTM_w2v.compile(loss='categorical_crossentropy', optimizer='adam', metrics=['accuracy'])"
      ],
      "metadata": {
        "id": "uDlTWYxDH6f2"
      },
      "execution_count": null,
      "outputs": []
    },
    {
      "cell_type": "code",
      "source": [
        "%%time\n",
        "\n",
        "EPOCH = 75\n",
        "BATCH_SIZE = 32\n",
        "\n",
        "history_BiLSTM_w2v = model_BiLSTM_w2v.fit(train_seqs, trainY, epochs=EPOCH, batch_size=BATCH_SIZE, validation_data=(val_seqs, valY))"
      ],
      "metadata": {
        "id": "A_errTyjIb7a",
        "colab": {
          "base_uri": "https://localhost:8080/"
        },
        "outputId": "cae9d535-3e6f-4835-f5f4-3df6a90ee3ba"
      },
      "execution_count": null,
      "outputs": [
        {
          "output_type": "stream",
          "name": "stdout",
          "text": [
            "Epoch 1/75\n",
            "19/19 [==============================] - 6s 133ms/step - loss: 0.5886 - accuracy: 0.6448 - val_loss: 0.5520 - val_accuracy: 0.6768\n",
            "Epoch 2/75\n",
            "19/19 [==============================] - 1s 56ms/step - loss: 0.5084 - accuracy: 0.7020 - val_loss: 0.5144 - val_accuracy: 0.7525\n",
            "Epoch 3/75\n",
            "19/19 [==============================] - 1s 38ms/step - loss: 0.4667 - accuracy: 0.7896 - val_loss: 0.4718 - val_accuracy: 0.7980\n",
            "Epoch 4/75\n",
            "19/19 [==============================] - 1s 38ms/step - loss: 0.4321 - accuracy: 0.7946 - val_loss: 0.4598 - val_accuracy: 0.7727\n",
            "Epoch 5/75\n",
            "19/19 [==============================] - 1s 37ms/step - loss: 0.3990 - accuracy: 0.8232 - val_loss: 0.4525 - val_accuracy: 0.7929\n",
            "Epoch 6/75\n",
            "19/19 [==============================] - 1s 37ms/step - loss: 0.3846 - accuracy: 0.8165 - val_loss: 0.4290 - val_accuracy: 0.7778\n",
            "Epoch 7/75\n",
            "19/19 [==============================] - 1s 37ms/step - loss: 0.3616 - accuracy: 0.8300 - val_loss: 0.4259 - val_accuracy: 0.7980\n",
            "Epoch 8/75\n",
            "19/19 [==============================] - 1s 37ms/step - loss: 0.3405 - accuracy: 0.8434 - val_loss: 0.4125 - val_accuracy: 0.8131\n",
            "Epoch 9/75\n",
            "19/19 [==============================] - 1s 37ms/step - loss: 0.3293 - accuracy: 0.8569 - val_loss: 0.4153 - val_accuracy: 0.8030\n",
            "Epoch 10/75\n",
            "19/19 [==============================] - 1s 37ms/step - loss: 0.3308 - accuracy: 0.8552 - val_loss: 0.3976 - val_accuracy: 0.8232\n",
            "Epoch 11/75\n",
            "19/19 [==============================] - 1s 38ms/step - loss: 0.2987 - accuracy: 0.8754 - val_loss: 0.4173 - val_accuracy: 0.7626\n",
            "Epoch 12/75\n",
            "19/19 [==============================] - 1s 37ms/step - loss: 0.3077 - accuracy: 0.8603 - val_loss: 0.4247 - val_accuracy: 0.8182\n",
            "Epoch 13/75\n",
            "19/19 [==============================] - 1s 36ms/step - loss: 0.2864 - accuracy: 0.8670 - val_loss: 0.4103 - val_accuracy: 0.8232\n",
            "Epoch 14/75\n",
            "19/19 [==============================] - 1s 37ms/step - loss: 0.2597 - accuracy: 0.8889 - val_loss: 0.4053 - val_accuracy: 0.8283\n",
            "Epoch 15/75\n",
            "19/19 [==============================] - 1s 37ms/step - loss: 0.2489 - accuracy: 0.8906 - val_loss: 0.3995 - val_accuracy: 0.8081\n",
            "Epoch 16/75\n",
            "19/19 [==============================] - 1s 42ms/step - loss: 0.2305 - accuracy: 0.9040 - val_loss: 0.4018 - val_accuracy: 0.8030\n",
            "Epoch 17/75\n",
            "19/19 [==============================] - 1s 67ms/step - loss: 0.2143 - accuracy: 0.9125 - val_loss: 0.4227 - val_accuracy: 0.8182\n",
            "Epoch 18/75\n",
            "19/19 [==============================] - 1s 72ms/step - loss: 0.2312 - accuracy: 0.9040 - val_loss: 0.4342 - val_accuracy: 0.8081\n",
            "Epoch 19/75\n",
            "19/19 [==============================] - 1s 40ms/step - loss: 0.2135 - accuracy: 0.9108 - val_loss: 0.4080 - val_accuracy: 0.8283\n",
            "Epoch 20/75\n",
            "19/19 [==============================] - 1s 37ms/step - loss: 0.1925 - accuracy: 0.9276 - val_loss: 0.4316 - val_accuracy: 0.7980\n",
            "Epoch 21/75\n",
            "19/19 [==============================] - 1s 37ms/step - loss: 0.1807 - accuracy: 0.9327 - val_loss: 0.4367 - val_accuracy: 0.7828\n",
            "Epoch 22/75\n",
            "19/19 [==============================] - 1s 37ms/step - loss: 0.1737 - accuracy: 0.9343 - val_loss: 0.4477 - val_accuracy: 0.8030\n",
            "Epoch 23/75\n",
            "19/19 [==============================] - 1s 38ms/step - loss: 0.2190 - accuracy: 0.9259 - val_loss: 0.4556 - val_accuracy: 0.8232\n",
            "Epoch 24/75\n",
            "19/19 [==============================] - 1s 36ms/step - loss: 0.2164 - accuracy: 0.9141 - val_loss: 0.3793 - val_accuracy: 0.8333\n",
            "Epoch 25/75\n",
            "19/19 [==============================] - 1s 37ms/step - loss: 0.1874 - accuracy: 0.9327 - val_loss: 0.4173 - val_accuracy: 0.8232\n",
            "Epoch 26/75\n",
            "19/19 [==============================] - 1s 37ms/step - loss: 0.1726 - accuracy: 0.9360 - val_loss: 0.4354 - val_accuracy: 0.8081\n",
            "Epoch 27/75\n",
            "19/19 [==============================] - 1s 36ms/step - loss: 0.1630 - accuracy: 0.9343 - val_loss: 0.4439 - val_accuracy: 0.8283\n",
            "Epoch 28/75\n",
            "19/19 [==============================] - 1s 37ms/step - loss: 0.1505 - accuracy: 0.9428 - val_loss: 0.4483 - val_accuracy: 0.8283\n",
            "Epoch 29/75\n",
            "19/19 [==============================] - 1s 38ms/step - loss: 0.1496 - accuracy: 0.9411 - val_loss: 0.4465 - val_accuracy: 0.8131\n",
            "Epoch 30/75\n",
            "19/19 [==============================] - 1s 37ms/step - loss: 0.1389 - accuracy: 0.9512 - val_loss: 0.4548 - val_accuracy: 0.8232\n",
            "Epoch 31/75\n",
            "19/19 [==============================] - 1s 37ms/step - loss: 0.1369 - accuracy: 0.9478 - val_loss: 0.5228 - val_accuracy: 0.8081\n",
            "Epoch 32/75\n",
            "19/19 [==============================] - 1s 37ms/step - loss: 0.1329 - accuracy: 0.9495 - val_loss: 0.4782 - val_accuracy: 0.8131\n",
            "Epoch 33/75\n",
            "19/19 [==============================] - 1s 59ms/step - loss: 0.1331 - accuracy: 0.9512 - val_loss: 0.5290 - val_accuracy: 0.8182\n",
            "Epoch 34/75\n",
            "19/19 [==============================] - 1s 67ms/step - loss: 0.1522 - accuracy: 0.9377 - val_loss: 0.5560 - val_accuracy: 0.8131\n",
            "Epoch 35/75\n",
            "19/19 [==============================] - 1s 60ms/step - loss: 0.1424 - accuracy: 0.9444 - val_loss: 0.5152 - val_accuracy: 0.8182\n",
            "Epoch 36/75\n",
            "19/19 [==============================] - 1s 36ms/step - loss: 0.1288 - accuracy: 0.9461 - val_loss: 0.5473 - val_accuracy: 0.8081\n",
            "Epoch 37/75\n",
            "19/19 [==============================] - 1s 37ms/step - loss: 0.1253 - accuracy: 0.9495 - val_loss: 0.5278 - val_accuracy: 0.8283\n",
            "Epoch 38/75\n",
            "19/19 [==============================] - 1s 36ms/step - loss: 0.1126 - accuracy: 0.9529 - val_loss: 0.5571 - val_accuracy: 0.8333\n",
            "Epoch 39/75\n",
            "19/19 [==============================] - 1s 37ms/step - loss: 0.1086 - accuracy: 0.9596 - val_loss: 0.5432 - val_accuracy: 0.8232\n",
            "Epoch 40/75\n",
            "19/19 [==============================] - 1s 38ms/step - loss: 0.0999 - accuracy: 0.9613 - val_loss: 0.6079 - val_accuracy: 0.8131\n",
            "Epoch 41/75\n",
            "19/19 [==============================] - 1s 36ms/step - loss: 0.1019 - accuracy: 0.9579 - val_loss: 0.6096 - val_accuracy: 0.8283\n",
            "Epoch 42/75\n",
            "19/19 [==============================] - 1s 38ms/step - loss: 0.0882 - accuracy: 0.9697 - val_loss: 0.6638 - val_accuracy: 0.8283\n",
            "Epoch 43/75\n",
            "19/19 [==============================] - 1s 38ms/step - loss: 0.0853 - accuracy: 0.9680 - val_loss: 0.6180 - val_accuracy: 0.8232\n",
            "Epoch 44/75\n",
            "19/19 [==============================] - 1s 37ms/step - loss: 0.0838 - accuracy: 0.9747 - val_loss: 0.6808 - val_accuracy: 0.8283\n",
            "Epoch 45/75\n",
            "19/19 [==============================] - 1s 37ms/step - loss: 0.0880 - accuracy: 0.9680 - val_loss: 0.6668 - val_accuracy: 0.8535\n",
            "Epoch 46/75\n",
            "19/19 [==============================] - 1s 37ms/step - loss: 0.0835 - accuracy: 0.9680 - val_loss: 0.7022 - val_accuracy: 0.8384\n",
            "Epoch 47/75\n",
            "19/19 [==============================] - 1s 37ms/step - loss: 0.0775 - accuracy: 0.9697 - val_loss: 0.7428 - val_accuracy: 0.8283\n",
            "Epoch 48/75\n",
            "19/19 [==============================] - 1s 37ms/step - loss: 0.0874 - accuracy: 0.9663 - val_loss: 0.7660 - val_accuracy: 0.8081\n",
            "Epoch 49/75\n",
            "19/19 [==============================] - 1s 44ms/step - loss: 0.1410 - accuracy: 0.9461 - val_loss: 0.6228 - val_accuracy: 0.8182\n",
            "Epoch 50/75\n",
            "19/19 [==============================] - 1s 70ms/step - loss: 0.1499 - accuracy: 0.9411 - val_loss: 0.5967 - val_accuracy: 0.7980\n",
            "Epoch 51/75\n",
            "19/19 [==============================] - 1s 73ms/step - loss: 0.1394 - accuracy: 0.9461 - val_loss: 0.8484 - val_accuracy: 0.7879\n",
            "Epoch 52/75\n",
            "19/19 [==============================] - 1s 36ms/step - loss: 0.1312 - accuracy: 0.9394 - val_loss: 0.6705 - val_accuracy: 0.7778\n",
            "Epoch 53/75\n",
            "19/19 [==============================] - 1s 38ms/step - loss: 0.0936 - accuracy: 0.9680 - val_loss: 0.6496 - val_accuracy: 0.8182\n",
            "Epoch 54/75\n",
            "19/19 [==============================] - 1s 37ms/step - loss: 0.0847 - accuracy: 0.9697 - val_loss: 0.6804 - val_accuracy: 0.8081\n",
            "Epoch 55/75\n",
            "19/19 [==============================] - 1s 36ms/step - loss: 0.0810 - accuracy: 0.9714 - val_loss: 0.6863 - val_accuracy: 0.8030\n",
            "Epoch 56/75\n",
            "19/19 [==============================] - 1s 38ms/step - loss: 0.0789 - accuracy: 0.9697 - val_loss: 0.7069 - val_accuracy: 0.7980\n",
            "Epoch 57/75\n",
            "19/19 [==============================] - 1s 37ms/step - loss: 0.0755 - accuracy: 0.9697 - val_loss: 0.7508 - val_accuracy: 0.8030\n",
            "Epoch 58/75\n",
            "19/19 [==============================] - 1s 37ms/step - loss: 0.0704 - accuracy: 0.9731 - val_loss: 0.7720 - val_accuracy: 0.8030\n",
            "Epoch 59/75\n",
            "19/19 [==============================] - 1s 38ms/step - loss: 0.0720 - accuracy: 0.9731 - val_loss: 0.7917 - val_accuracy: 0.8081\n",
            "Epoch 60/75\n",
            "19/19 [==============================] - 1s 37ms/step - loss: 0.0664 - accuracy: 0.9697 - val_loss: 0.7700 - val_accuracy: 0.8131\n",
            "Epoch 61/75\n",
            "19/19 [==============================] - 1s 37ms/step - loss: 0.0622 - accuracy: 0.9764 - val_loss: 0.8281 - val_accuracy: 0.8131\n",
            "Epoch 62/75\n",
            "19/19 [==============================] - 1s 39ms/step - loss: 0.0639 - accuracy: 0.9764 - val_loss: 0.8108 - val_accuracy: 0.8131\n",
            "Epoch 63/75\n",
            "19/19 [==============================] - 1s 79ms/step - loss: 0.0648 - accuracy: 0.9747 - val_loss: 0.8372 - val_accuracy: 0.8182\n",
            "Epoch 64/75\n",
            "19/19 [==============================] - 2s 100ms/step - loss: 0.0584 - accuracy: 0.9747 - val_loss: 0.8311 - val_accuracy: 0.8182\n",
            "Epoch 65/75\n",
            "19/19 [==============================] - 1s 74ms/step - loss: 0.0560 - accuracy: 0.9747 - val_loss: 0.8822 - val_accuracy: 0.8283\n",
            "Epoch 66/75\n",
            "19/19 [==============================] - 1s 56ms/step - loss: 0.0547 - accuracy: 0.9781 - val_loss: 0.9000 - val_accuracy: 0.8232\n",
            "Epoch 67/75\n",
            "19/19 [==============================] - 1s 38ms/step - loss: 0.0612 - accuracy: 0.9764 - val_loss: 0.9527 - val_accuracy: 0.7929\n",
            "Epoch 68/75\n",
            "19/19 [==============================] - 1s 37ms/step - loss: 0.0598 - accuracy: 0.9781 - val_loss: 0.8972 - val_accuracy: 0.8081\n",
            "Epoch 69/75\n",
            "19/19 [==============================] - 1s 38ms/step - loss: 0.0546 - accuracy: 0.9781 - val_loss: 0.9166 - val_accuracy: 0.8232\n",
            "Epoch 70/75\n",
            "19/19 [==============================] - 1s 42ms/step - loss: 0.0753 - accuracy: 0.9714 - val_loss: 0.9820 - val_accuracy: 0.7929\n",
            "Epoch 71/75\n",
            "19/19 [==============================] - 1s 36ms/step - loss: 0.0776 - accuracy: 0.9714 - val_loss: 0.8549 - val_accuracy: 0.8283\n",
            "Epoch 72/75\n",
            "19/19 [==============================] - 1s 38ms/step - loss: 0.0618 - accuracy: 0.9731 - val_loss: 0.8814 - val_accuracy: 0.8131\n",
            "Epoch 73/75\n",
            "19/19 [==============================] - 1s 38ms/step - loss: 0.0692 - accuracy: 0.9714 - val_loss: 0.8089 - val_accuracy: 0.8232\n",
            "Epoch 74/75\n",
            "19/19 [==============================] - 1s 37ms/step - loss: 0.0542 - accuracy: 0.9798 - val_loss: 0.8387 - val_accuracy: 0.8081\n",
            "Epoch 75/75\n",
            "19/19 [==============================] - 1s 38ms/step - loss: 0.0516 - accuracy: 0.9764 - val_loss: 0.8575 - val_accuracy: 0.8182\n",
            "CPU times: user 1min 34s, sys: 1.03 s, total: 1min 35s\n",
            "Wall time: 1min 25s\n"
          ]
        }
      ]
    },
    {
      "cell_type": "code",
      "source": [
        "def plot_graphs(history, string):\n",
        "  plt.plot(history.history[string])\n",
        "  plt.plot(history.history['val_'+string])\n",
        "  plt.xlabel(\"Epochs\")\n",
        "  plt.ylabel(string)\n",
        "  plt.legend([string, 'val_'+string])\n",
        "  plt.show()"
      ],
      "metadata": {
        "id": "EwpYSE6rImFe"
      },
      "execution_count": null,
      "outputs": []
    },
    {
      "cell_type": "code",
      "source": [
        "plot_graphs(history_BiLSTM_w2v, 'accuracy')\n",
        "plot_graphs(history_BiLSTM_w2v, 'loss')"
      ],
      "metadata": {
        "id": "GSL5U671Ioyr",
        "colab": {
          "base_uri": "https://localhost:8080/",
          "height": 881
        },
        "outputId": "6653a71d-a5c5-4ba2-e767-7473e4d500b2"
      },
      "execution_count": null,
      "outputs": [
        {
          "output_type": "display_data",
          "data": {
            "text/plain": [
              "<Figure size 640x480 with 1 Axes>"
            ],
            "image/png": "[encoded data removed]"
          },
          "metadata": {}
        },
        {
          "output_type": "display_data",
          "data": {
            "text/plain": [
              "<Figure size 640x480 with 1 Axes>"
            ],
            "image/png": "[encoded data removed]"
          },
          "metadata": {}
        }
      ]
    },
    {
      "cell_type": "code",
      "source": [
        "print('\\nEpoch No.  Train Accuracy  Train Loss      Val Accuracy    Val Loss')\n",
        "for i in range(EPOCH):\n",
        "  print('{:8d} {:10f} \\t {:10f} \\t {:10f} \\t {:10f}'.format(i + 1, history_BiLSTM_w2v.history['accuracy'][i], history_BiLSTM_w2v.history['loss'][i], history_BiLSTM_w2v.history['val_accuracy'][i], history_BiLSTM_w2v.history['val_loss'][i]))"
      ],
      "metadata": {
        "id": "r3pnvM4YIrXR",
        "colab": {
          "base_uri": "https://localhost:8080/"
        },
        "outputId": "2feb2608-28e0-4c1c-e198-a3d37abd72b5"
      },
      "execution_count": null,
      "outputs": [
        {
          "output_type": "stream",
          "name": "stdout",
          "text": [
            "\n",
            "Epoch No.  Train Accuracy  Train Loss      Val Accuracy    Val Loss\n",
            "       1   0.644781 \t   0.588560 \t   0.676768 \t   0.551959\n",
            "       2   0.702020 \t   0.508424 \t   0.752525 \t   0.514410\n",
            "       3   0.789562 \t   0.466656 \t   0.797980 \t   0.471835\n",
            "       4   0.794613 \t   0.432115 \t   0.772727 \t   0.459773\n",
            "       5   0.823232 \t   0.398984 \t   0.792929 \t   0.452465\n",
            "       6   0.816498 \t   0.384601 \t   0.777778 \t   0.428980\n",
            "       7   0.829966 \t   0.361585 \t   0.797980 \t   0.425901\n",
            "       8   0.843434 \t   0.340528 \t   0.813131 \t   0.412502\n",
            "       9   0.856902 \t   0.329280 \t   0.803030 \t   0.415257\n",
            "      10   0.855219 \t   0.330762 \t   0.823232 \t   0.397554\n",
            "      11   0.875421 \t   0.298657 \t   0.762626 \t   0.417338\n",
            "      12   0.860269 \t   0.307674 \t   0.818182 \t   0.424733\n",
            "      13   0.867003 \t   0.286378 \t   0.823232 \t   0.410295\n",
            "      14   0.888889 \t   0.259658 \t   0.828283 \t   0.405323\n",
            "      15   0.890572 \t   0.248868 \t   0.808081 \t   0.399476\n",
            "      16   0.904040 \t   0.230460 \t   0.803030 \t   0.401753\n",
            "      17   0.912458 \t   0.214309 \t   0.818182 \t   0.422723\n",
            "      18   0.904040 \t   0.231200 \t   0.808081 \t   0.434183\n",
            "      19   0.910774 \t   0.213461 \t   0.828283 \t   0.407956\n",
            "      20   0.927609 \t   0.192502 \t   0.797980 \t   0.431565\n",
            "      21   0.932660 \t   0.180743 \t   0.782828 \t   0.436658\n",
            "      22   0.934343 \t   0.173745 \t   0.803030 \t   0.447742\n",
            "      23   0.925926 \t   0.219043 \t   0.823232 \t   0.455559\n",
            "      24   0.914141 \t   0.216407 \t   0.833333 \t   0.379283\n",
            "      25   0.932660 \t   0.187417 \t   0.823232 \t   0.417262\n",
            "      26   0.936027 \t   0.172563 \t   0.808081 \t   0.435428\n",
            "      27   0.934343 \t   0.163007 \t   0.828283 \t   0.443903\n",
            "      28   0.942761 \t   0.150460 \t   0.828283 \t   0.448306\n",
            "      29   0.941077 \t   0.149627 \t   0.813131 \t   0.446544\n",
            "      30   0.951178 \t   0.138860 \t   0.823232 \t   0.454830\n",
            "      31   0.947811 \t   0.136880 \t   0.808081 \t   0.522772\n",
            "      32   0.949495 \t   0.132851 \t   0.813131 \t   0.478249\n",
            "      33   0.951178 \t   0.133137 \t   0.818182 \t   0.529017\n",
            "      34   0.937710 \t   0.152189 \t   0.813131 \t   0.555993\n",
            "      35   0.944444 \t   0.142368 \t   0.818182 \t   0.515167\n",
            "      36   0.946128 \t   0.128771 \t   0.808081 \t   0.547292\n",
            "      37   0.949495 \t   0.125292 \t   0.828283 \t   0.527826\n",
            "      38   0.952862 \t   0.112601 \t   0.833333 \t   0.557107\n",
            "      39   0.959596 \t   0.108641 \t   0.823232 \t   0.543220\n",
            "      40   0.961279 \t   0.099908 \t   0.813131 \t   0.607942\n",
            "      41   0.957912 \t   0.101908 \t   0.828283 \t   0.609624\n",
            "      42   0.969697 \t   0.088201 \t   0.828283 \t   0.663797\n",
            "      43   0.968013 \t   0.085274 \t   0.823232 \t   0.618039\n",
            "      44   0.974747 \t   0.083781 \t   0.828283 \t   0.680757\n",
            "      45   0.968013 \t   0.087977 \t   0.853535 \t   0.666829\n",
            "      46   0.968013 \t   0.083493 \t   0.838384 \t   0.702237\n",
            "      47   0.969697 \t   0.077482 \t   0.828283 \t   0.742807\n",
            "      48   0.966330 \t   0.087393 \t   0.808081 \t   0.765961\n",
            "      49   0.946128 \t   0.140985 \t   0.818182 \t   0.622836\n",
            "      50   0.941077 \t   0.149891 \t   0.797980 \t   0.596709\n",
            "      51   0.946128 \t   0.139372 \t   0.787879 \t   0.848383\n",
            "      52   0.939394 \t   0.131173 \t   0.777778 \t   0.670531\n",
            "      53   0.968013 \t   0.093593 \t   0.818182 \t   0.649598\n",
            "      54   0.969697 \t   0.084687 \t   0.808081 \t   0.680359\n",
            "      55   0.971380 \t   0.081044 \t   0.803030 \t   0.686256\n",
            "      56   0.969697 \t   0.078892 \t   0.797980 \t   0.706865\n",
            "      57   0.969697 \t   0.075462 \t   0.803030 \t   0.750840\n",
            "      58   0.973064 \t   0.070427 \t   0.803030 \t   0.772036\n",
            "      59   0.973064 \t   0.072001 \t   0.808081 \t   0.791733\n",
            "      60   0.969697 \t   0.066352 \t   0.813131 \t   0.769952\n",
            "      61   0.976431 \t   0.062163 \t   0.813131 \t   0.828064\n",
            "      62   0.976431 \t   0.063948 \t   0.813131 \t   0.810774\n",
            "      63   0.974747 \t   0.064818 \t   0.818182 \t   0.837233\n",
            "      64   0.974747 \t   0.058418 \t   0.818182 \t   0.831083\n",
            "      65   0.974747 \t   0.056009 \t   0.828283 \t   0.882203\n",
            "      66   0.978114 \t   0.054695 \t   0.823232 \t   0.900030\n",
            "      67   0.976431 \t   0.061175 \t   0.792929 \t   0.952686\n",
            "      68   0.978114 \t   0.059842 \t   0.808081 \t   0.897154\n",
            "      69   0.978114 \t   0.054595 \t   0.823232 \t   0.916642\n",
            "      70   0.971380 \t   0.075348 \t   0.792929 \t   0.982033\n",
            "      71   0.971380 \t   0.077565 \t   0.828283 \t   0.854882\n",
            "      72   0.973064 \t   0.061790 \t   0.813131 \t   0.881448\n",
            "      73   0.971380 \t   0.069213 \t   0.823232 \t   0.808881\n",
            "      74   0.979798 \t   0.054197 \t   0.808081 \t   0.838737\n",
            "      75   0.976431 \t   0.051601 \t   0.818182 \t   0.857502\n"
          ]
        }
      ]
    },
    {
      "cell_type": "code",
      "source": [
        "# Lakukan prediksi pada data uji\n",
        "y_pred = np.argmax(model_BiLSTM_w2v.predict(test_seqs), axis=1)\n",
        "y_true = np.argmax(testY, axis=1)\n",
        "\n",
        "loss, accuracy = model_BiLSTM_w2v.evaluate(test_seqs, testY)"
      ],
      "metadata": {
        "id": "Rj18tzb2Iwmc",
        "colab": {
          "base_uri": "https://localhost:8080/"
        },
        "outputId": "80be0a36-bc59-46f7-e861-4a4c4ac703a5"
      },
      "execution_count": null,
      "outputs": [
        {
          "output_type": "stream",
          "name": "stdout",
          "text": [
            "7/7 [==============================] - 1s 11ms/step\n",
            "7/7 [==============================] - 1s 10ms/step - loss: 0.9892 - accuracy: 0.8081\n"
          ]
        }
      ]
    },
    {
      "cell_type": "code",
      "source": [
        "from sklearn.metrics import classification_report\n",
        "\n",
        "print(classification_report(y_pred, y_true))"
      ],
      "metadata": {
        "id": "FAkORacRIz29",
        "colab": {
          "base_uri": "https://localhost:8080/"
        },
        "outputId": "c29a08c2-c467-45d6-f201-79a7ec8af411"
      },
      "execution_count": null,
      "outputs": [
        {
          "output_type": "stream",
          "name": "stdout",
          "text": [
            "              precision    recall  f1-score   support\n",
            "\n",
            "           0       0.85      0.77      0.81       106\n",
            "           1       0.76      0.85      0.80        92\n",
            "\n",
            "    accuracy                           0.81       198\n",
            "   macro avg       0.81      0.81      0.81       198\n",
            "weighted avg       0.81      0.81      0.81       198\n",
            "\n"
          ]
        }
      ]
    },
    {
      "cell_type": "code",
      "source": [
        "# trainY"
      ],
      "metadata": {
        "id": "eo8FNRxEaQq1"
      },
      "execution_count": null,
      "outputs": []
    },
    {
      "cell_type": "code",
      "source": [
        "# max_len = trainY.shape[0]"
      ],
      "metadata": {
        "id": "zG_Ku9xuZ-i1"
      },
      "execution_count": null,
      "outputs": []
    },
    {
      "cell_type": "code",
      "source": [
        "# ann = Sequential()\n",
        "# ann.add(Dense(32, activation=\"elu\", input_shape=(max_len)))\n",
        "# ann.add(Dense(1024, activation=\"elu\"))\n",
        "# ann.add(Dense(512, activation=\"elu\"))\n",
        "# ann.add(Dense(256, activation=\"elu\"))\n",
        "# ann.add(Dense(128, activation=\"elu\"))\n",
        "# ann.add(Dense(16))\n",
        "# ann.add(Activation(\"sigmoid\"))\n"
      ],
      "metadata": {
        "id": "JeW061mFSE15"
      },
      "execution_count": null,
      "outputs": []
    },
    {
      "cell_type": "markdown",
      "source": [
        "## Fine Tuning"
      ],
      "metadata": {
        "id": "LSNAUFYT3mCZ"
      }
    },
    {
      "cell_type": "code",
      "source": [],
      "metadata": {
        "id": "7E4R093W3lSQ"
      },
      "execution_count": null,
      "outputs": []
    },
    {
      "cell_type": "code",
      "source": [
        "# Tentukan nilai hyperparamter untuk fine-tuning\n",
        "EPOCHS = 50\n",
        "BATCH_SIZE = 64\n",
        "LEARNING_RATE = 5e-20"
      ],
      "metadata": {
        "id": "NE43YhxW5xJ0"
      },
      "execution_count": null,
      "outputs": []
    },
    {
      "cell_type": "code",
      "source": [
        "%%time\n",
        "bilstm_tuning = model_BiLSTM_w2v.fit(train_seqs, trainY, epochs=EPOCHS, batch_size=BATCH_SIZE, validation_data=(val_seqs, valY))"
      ],
      "metadata": {
        "colab": {
          "base_uri": "https://localhost:8080/"
        },
        "id": "mQA4wVnV5zDa",
        "outputId": "b4adf86b-e35d-4c7e-be1a-e22e7bc29bbf"
      },
      "execution_count": null,
      "outputs": [
        {
          "output_type": "stream",
          "name": "stdout",
          "text": [
            "Epoch 1/50\n",
            "10/10 [==============================] - 1s 50ms/step - loss: 0.0484 - accuracy: 0.9832 - val_loss: 0.8873 - val_accuracy: 0.8232\n",
            "Epoch 2/50\n",
            "10/10 [==============================] - 0s 51ms/step - loss: 0.0479 - accuracy: 0.9798 - val_loss: 0.9015 - val_accuracy: 0.8030\n",
            "Epoch 3/50\n",
            "10/10 [==============================] - 0s 49ms/step - loss: 0.0505 - accuracy: 0.9781 - val_loss: 0.8950 - val_accuracy: 0.8030\n",
            "Epoch 4/50\n",
            "10/10 [==============================] - 0s 47ms/step - loss: 0.0474 - accuracy: 0.9832 - val_loss: 0.9054 - val_accuracy: 0.8081\n",
            "Epoch 5/50\n",
            "10/10 [==============================] - 0s 47ms/step - loss: 0.0459 - accuracy: 0.9798 - val_loss: 0.9248 - val_accuracy: 0.8081\n",
            "Epoch 6/50\n",
            "10/10 [==============================] - 0s 46ms/step - loss: 0.0490 - accuracy: 0.9798 - val_loss: 0.9267 - val_accuracy: 0.8081\n",
            "Epoch 7/50\n",
            "10/10 [==============================] - 1s 50ms/step - loss: 0.0478 - accuracy: 0.9798 - val_loss: 0.9341 - val_accuracy: 0.8030\n",
            "Epoch 8/50\n",
            "10/10 [==============================] - 0s 47ms/step - loss: 0.0462 - accuracy: 0.9798 - val_loss: 0.9469 - val_accuracy: 0.8131\n",
            "Epoch 9/50\n",
            "10/10 [==============================] - 0s 47ms/step - loss: 0.0459 - accuracy: 0.9781 - val_loss: 0.9671 - val_accuracy: 0.8131\n",
            "Epoch 10/50\n",
            "10/10 [==============================] - 1s 78ms/step - loss: 0.0466 - accuracy: 0.9815 - val_loss: 0.9839 - val_accuracy: 0.8081\n",
            "Epoch 11/50\n",
            "10/10 [==============================] - 1s 87ms/step - loss: 0.0453 - accuracy: 0.9764 - val_loss: 0.9894 - val_accuracy: 0.8131\n",
            "Epoch 12/50\n",
            "10/10 [==============================] - 1s 86ms/step - loss: 0.0461 - accuracy: 0.9865 - val_loss: 0.9837 - val_accuracy: 0.8131\n",
            "Epoch 13/50\n",
            "10/10 [==============================] - 1s 86ms/step - loss: 0.0446 - accuracy: 0.9798 - val_loss: 1.0003 - val_accuracy: 0.8131\n",
            "Epoch 14/50\n",
            "10/10 [==============================] - 0s 49ms/step - loss: 0.0420 - accuracy: 0.9832 - val_loss: 1.0113 - val_accuracy: 0.8081\n",
            "Epoch 15/50\n",
            "10/10 [==============================] - 0s 47ms/step - loss: 0.0470 - accuracy: 0.9815 - val_loss: 1.0224 - val_accuracy: 0.8131\n",
            "Epoch 16/50\n",
            "10/10 [==============================] - 0s 50ms/step - loss: 0.0447 - accuracy: 0.9832 - val_loss: 1.0270 - val_accuracy: 0.8131\n",
            "Epoch 17/50\n",
            "10/10 [==============================] - 0s 47ms/step - loss: 0.0431 - accuracy: 0.9832 - val_loss: 1.0387 - val_accuracy: 0.8131\n",
            "Epoch 18/50\n",
            "10/10 [==============================] - 0s 47ms/step - loss: 0.0423 - accuracy: 0.9815 - val_loss: 1.0494 - val_accuracy: 0.8182\n",
            "Epoch 19/50\n",
            "10/10 [==============================] - 0s 47ms/step - loss: 0.0444 - accuracy: 0.9832 - val_loss: 1.0758 - val_accuracy: 0.8131\n",
            "Epoch 20/50\n",
            "10/10 [==============================] - 0s 46ms/step - loss: 0.0428 - accuracy: 0.9781 - val_loss: 1.0704 - val_accuracy: 0.8030\n",
            "Epoch 21/50\n",
            "10/10 [==============================] - 0s 49ms/step - loss: 0.0434 - accuracy: 0.9848 - val_loss: 1.0595 - val_accuracy: 0.7980\n",
            "Epoch 22/50\n",
            "10/10 [==============================] - 0s 46ms/step - loss: 0.0469 - accuracy: 0.9798 - val_loss: 1.0681 - val_accuracy: 0.8030\n",
            "Epoch 23/50\n",
            "10/10 [==============================] - 0s 49ms/step - loss: 0.0357 - accuracy: 0.9865 - val_loss: 1.0936 - val_accuracy: 0.8081\n",
            "Epoch 24/50\n",
            "10/10 [==============================] - 0s 46ms/step - loss: 0.0407 - accuracy: 0.9815 - val_loss: 1.0750 - val_accuracy: 0.8081\n",
            "Epoch 25/50\n",
            "10/10 [==============================] - 0s 48ms/step - loss: 0.0392 - accuracy: 0.9815 - val_loss: 1.0879 - val_accuracy: 0.8081\n",
            "Epoch 26/50\n",
            "10/10 [==============================] - 0s 47ms/step - loss: 0.0407 - accuracy: 0.9832 - val_loss: 1.0996 - val_accuracy: 0.8081\n",
            "Epoch 27/50\n",
            "10/10 [==============================] - 0s 48ms/step - loss: 0.0342 - accuracy: 0.9899 - val_loss: 1.1182 - val_accuracy: 0.8030\n",
            "Epoch 28/50\n",
            "10/10 [==============================] - 0s 47ms/step - loss: 0.0390 - accuracy: 0.9848 - val_loss: 1.1027 - val_accuracy: 0.7879\n",
            "Epoch 29/50\n",
            "10/10 [==============================] - 0s 49ms/step - loss: 0.0406 - accuracy: 0.9815 - val_loss: 1.1271 - val_accuracy: 0.7980\n",
            "Epoch 30/50\n",
            "10/10 [==============================] - 0s 47ms/step - loss: 0.0429 - accuracy: 0.9798 - val_loss: 1.1537 - val_accuracy: 0.8081\n",
            "Epoch 31/50\n",
            "10/10 [==============================] - 0s 50ms/step - loss: 0.0412 - accuracy: 0.9798 - val_loss: 1.1517 - val_accuracy: 0.7980\n",
            "Epoch 32/50\n",
            "10/10 [==============================] - 0s 47ms/step - loss: 0.0352 - accuracy: 0.9899 - val_loss: 1.1528 - val_accuracy: 0.7879\n",
            "Epoch 33/50\n",
            "10/10 [==============================] - 0s 48ms/step - loss: 0.0379 - accuracy: 0.9848 - val_loss: 1.1660 - val_accuracy: 0.7980\n",
            "Epoch 34/50\n",
            "10/10 [==============================] - 1s 61ms/step - loss: 0.0390 - accuracy: 0.9815 - val_loss: 1.1799 - val_accuracy: 0.7929\n",
            "Epoch 35/50\n",
            "10/10 [==============================] - 1s 98ms/step - loss: 0.0391 - accuracy: 0.9832 - val_loss: 1.1765 - val_accuracy: 0.7929\n",
            "Epoch 36/50\n",
            "10/10 [==============================] - 1s 88ms/step - loss: 0.0370 - accuracy: 0.9815 - val_loss: 1.1880 - val_accuracy: 0.7980\n",
            "Epoch 37/50\n",
            "10/10 [==============================] - 1s 87ms/step - loss: 0.0353 - accuracy: 0.9865 - val_loss: 1.1847 - val_accuracy: 0.7980\n",
            "Epoch 38/50\n",
            "10/10 [==============================] - 0s 47ms/step - loss: 0.0400 - accuracy: 0.9815 - val_loss: 1.1953 - val_accuracy: 0.7980\n",
            "Epoch 39/50\n",
            "10/10 [==============================] - 0s 49ms/step - loss: 0.0391 - accuracy: 0.9848 - val_loss: 1.2034 - val_accuracy: 0.7980\n",
            "Epoch 40/50\n",
            "10/10 [==============================] - 0s 50ms/step - loss: 0.0355 - accuracy: 0.9848 - val_loss: 1.2403 - val_accuracy: 0.7980\n",
            "Epoch 41/50\n",
            "10/10 [==============================] - 0s 48ms/step - loss: 0.0351 - accuracy: 0.9832 - val_loss: 1.2256 - val_accuracy: 0.7980\n",
            "Epoch 42/50\n",
            "10/10 [==============================] - 0s 48ms/step - loss: 0.0381 - accuracy: 0.9832 - val_loss: 1.2398 - val_accuracy: 0.7929\n",
            "Epoch 43/50\n",
            "10/10 [==============================] - 0s 48ms/step - loss: 0.0387 - accuracy: 0.9832 - val_loss: 1.2577 - val_accuracy: 0.7929\n",
            "Epoch 44/50\n",
            "10/10 [==============================] - 0s 47ms/step - loss: 0.0381 - accuracy: 0.9815 - val_loss: 1.2600 - val_accuracy: 0.7929\n",
            "Epoch 45/50\n",
            "10/10 [==============================] - 0s 47ms/step - loss: 0.0365 - accuracy: 0.9865 - val_loss: 1.2672 - val_accuracy: 0.7879\n",
            "Epoch 46/50\n",
            "10/10 [==============================] - 0s 48ms/step - loss: 0.0405 - accuracy: 0.9815 - val_loss: 1.2303 - val_accuracy: 0.7980\n",
            "Epoch 47/50\n",
            "10/10 [==============================] - 1s 51ms/step - loss: 0.0438 - accuracy: 0.9781 - val_loss: 1.2467 - val_accuracy: 0.8081\n",
            "Epoch 48/50\n",
            "10/10 [==============================] - 1s 51ms/step - loss: 0.0422 - accuracy: 0.9815 - val_loss: 1.2390 - val_accuracy: 0.8030\n",
            "Epoch 49/50\n",
            "10/10 [==============================] - 0s 47ms/step - loss: 0.0381 - accuracy: 0.9815 - val_loss: 1.2449 - val_accuracy: 0.8081\n",
            "Epoch 50/50\n",
            "10/10 [==============================] - 1s 51ms/step - loss: 0.0397 - accuracy: 0.9815 - val_loss: 1.2482 - val_accuracy: 0.8081\n",
            "CPU times: user 40.3 s, sys: 457 ms, total: 40.7 s\n",
            "Wall time: 41 s\n"
          ]
        }
      ]
    },
    {
      "cell_type": "code",
      "source": [
        "# Buat fungsi untuk plotting hasil training\n",
        "def plot_graphs(history, string):\n",
        "  plt.plot(history.history[string])\n",
        "  plt.plot(history.history['val_'+string])\n",
        "  plt.xlabel('Epochs')\n",
        "  plt.ylabel(string)\n",
        "  plt.legend([string, 'val_'+string])\n",
        "  plt.show()"
      ],
      "metadata": {
        "id": "So3HdfR0L5Bs"
      },
      "execution_count": null,
      "outputs": []
    },
    {
      "cell_type": "code",
      "source": [
        "plot_graphs(bilstm_tuning, 'accuracy')\n",
        "plot_graphs(bilstm_tuning, 'loss')"
      ],
      "metadata": {
        "colab": {
          "base_uri": "https://localhost:8080/",
          "height": 881
        },
        "id": "yUG1MyPIME9h",
        "outputId": "35823bcb-d2fc-46be-cf95-7946a0010c35"
      },
      "execution_count": null,
      "outputs": [
        {
          "output_type": "display_data",
          "data": {
            "text/plain": [
              "<Figure size 640x480 with 1 Axes>"
            ],
            "image/png": "[encoded data removed]"
          },
          "metadata": {}
        },
        {
          "output_type": "display_data",
          "data": {
            "text/plain": [
              "<Figure size 640x480 with 1 Axes>"
            ],
            "image/png": "[encoded data removed]"
          },
          "metadata": {}
        }
      ]
    },
    {
      "cell_type": "code",
      "source": [
        "print('\\nEpoch No.  Train Accuracy  Train Loss      Val Accuracy    Val Loss')\n",
        "for i in range(EPOCHS):\n",
        "  print('{:8d} {:10f} \\t {:10f} \\t {:10f} \\t {:10f}'.format(i + 1, bilstm_tuning.history['accuracy'][i], bilstm_tuning.history['loss'][i], bilstm_tuning.history['val_accuracy'][i], bilstm_tuning.history['val_loss'][i]))"
      ],
      "metadata": {
        "colab": {
          "base_uri": "https://localhost:8080/"
        },
        "id": "5wizinzFMKjH",
        "outputId": "b645d163-d445-43de-f419-eb9a9fade8cb"
      },
      "execution_count": null,
      "outputs": [
        {
          "output_type": "stream",
          "name": "stdout",
          "text": [
            "\n",
            "Epoch No.  Train Accuracy  Train Loss      Val Accuracy    Val Loss\n",
            "       1   0.983165 \t   0.048409 \t   0.823232 \t   0.887310\n",
            "       2   0.979798 \t   0.047893 \t   0.803030 \t   0.901535\n",
            "       3   0.978114 \t   0.050456 \t   0.803030 \t   0.894985\n",
            "       4   0.983165 \t   0.047411 \t   0.808081 \t   0.905377\n",
            "       5   0.979798 \t   0.045864 \t   0.808081 \t   0.924849\n",
            "       6   0.979798 \t   0.048991 \t   0.808081 \t   0.926706\n",
            "       7   0.979798 \t   0.047850 \t   0.803030 \t   0.934100\n",
            "       8   0.979798 \t   0.046242 \t   0.813131 \t   0.946947\n",
            "       9   0.978114 \t   0.045914 \t   0.813131 \t   0.967055\n",
            "      10   0.981481 \t   0.046585 \t   0.808081 \t   0.983855\n",
            "      11   0.976431 \t   0.045275 \t   0.813131 \t   0.989376\n",
            "      12   0.986532 \t   0.046140 \t   0.813131 \t   0.983719\n",
            "      13   0.979798 \t   0.044588 \t   0.813131 \t   1.000349\n",
            "      14   0.983165 \t   0.041961 \t   0.808081 \t   1.011283\n",
            "      15   0.981481 \t   0.047040 \t   0.813131 \t   1.022434\n",
            "      16   0.983165 \t   0.044652 \t   0.813131 \t   1.026974\n",
            "      17   0.983165 \t   0.043098 \t   0.813131 \t   1.038682\n",
            "      18   0.981481 \t   0.042288 \t   0.818182 \t   1.049406\n",
            "      19   0.983165 \t   0.044449 \t   0.813131 \t   1.075801\n",
            "      20   0.978114 \t   0.042792 \t   0.803030 \t   1.070438\n",
            "      21   0.984848 \t   0.043406 \t   0.797980 \t   1.059465\n",
            "      22   0.979798 \t   0.046893 \t   0.803030 \t   1.068140\n",
            "      23   0.986532 \t   0.035671 \t   0.808081 \t   1.093558\n",
            "      24   0.981481 \t   0.040703 \t   0.808081 \t   1.074966\n",
            "      25   0.981481 \t   0.039236 \t   0.808081 \t   1.087882\n",
            "      26   0.983165 \t   0.040691 \t   0.808081 \t   1.099585\n",
            "      27   0.989899 \t   0.034227 \t   0.803030 \t   1.118155\n",
            "      28   0.984848 \t   0.038951 \t   0.787879 \t   1.102656\n",
            "      29   0.981481 \t   0.040634 \t   0.797980 \t   1.127124\n",
            "      30   0.979798 \t   0.042888 \t   0.808081 \t   1.153672\n",
            "      31   0.979798 \t   0.041243 \t   0.797980 \t   1.151726\n",
            "      32   0.989899 \t   0.035151 \t   0.787879 \t   1.152796\n",
            "      33   0.984848 \t   0.037913 \t   0.797980 \t   1.166013\n",
            "      34   0.981481 \t   0.038985 \t   0.792929 \t   1.179909\n",
            "      35   0.983165 \t   0.039095 \t   0.792929 \t   1.176537\n",
            "      36   0.981481 \t   0.037028 \t   0.797980 \t   1.188006\n",
            "      37   0.986532 \t   0.035286 \t   0.797980 \t   1.184727\n",
            "      38   0.981481 \t   0.040020 \t   0.797980 \t   1.195318\n",
            "      39   0.984848 \t   0.039107 \t   0.797980 \t   1.203374\n",
            "      40   0.984848 \t   0.035522 \t   0.797980 \t   1.240321\n",
            "      41   0.983165 \t   0.035058 \t   0.797980 \t   1.225621\n",
            "      42   0.983165 \t   0.038111 \t   0.792929 \t   1.239793\n",
            "      43   0.983165 \t   0.038674 \t   0.792929 \t   1.257721\n",
            "      44   0.981481 \t   0.038136 \t   0.792929 \t   1.260045\n",
            "      45   0.986532 \t   0.036493 \t   0.787879 \t   1.267186\n",
            "      46   0.981481 \t   0.040455 \t   0.797980 \t   1.230283\n",
            "      47   0.978114 \t   0.043753 \t   0.808081 \t   1.246748\n",
            "      48   0.981481 \t   0.042162 \t   0.803030 \t   1.238988\n",
            "      49   0.981481 \t   0.038089 \t   0.808081 \t   1.244943\n",
            "      50   0.981481 \t   0.039681 \t   0.808081 \t   1.248191\n"
          ]
        }
      ]
    },
    {
      "cell_type": "code",
      "source": [
        "score = model_BiLSTM_w2v.evaluate(val_seqs, valY)\n",
        "\n",
        "print(\"Test Accuracy:\", score[1])"
      ],
      "metadata": {
        "colab": {
          "base_uri": "https://localhost:8080/"
        },
        "id": "p0mX1NurMMaC",
        "outputId": "c737fd93-317e-47f0-b9c9-5d810d484a0e"
      },
      "execution_count": null,
      "outputs": [
        {
          "output_type": "stream",
          "name": "stdout",
          "text": [
            "7/7 [==============================] - 0s 8ms/step - loss: 1.2482 - accuracy: 0.8081\n",
            "Test Accuracy: 0.808080792427063\n"
          ]
        }
      ]
    },
    {
      "cell_type": "code",
      "source": [
        "from sklearn.metrics import classification_report\n",
        "\n",
        "print(classification_report(y_pred, y_true))"
      ],
      "metadata": {
        "id": "-C2JXiQwMWNC",
        "colab": {
          "base_uri": "https://localhost:8080/"
        },
        "outputId": "46a55da0-5a63-439b-9d3a-8281f17259d7"
      },
      "execution_count": null,
      "outputs": [
        {
          "output_type": "stream",
          "name": "stdout",
          "text": [
            "              precision    recall  f1-score   support\n",
            "\n",
            "           0       0.85      0.77      0.81       106\n",
            "           1       0.76      0.85      0.80        92\n",
            "\n",
            "    accuracy                           0.81       198\n",
            "   macro avg       0.81      0.81      0.81       198\n",
            "weighted avg       0.81      0.81      0.81       198\n",
            "\n"
          ]
        }
      ]
    },
    {
      "cell_type": "code",
      "source": [
        "pickle.dump(bilstm_tuning,open(\"bilstm.pkl\",\"wb\"))"
      ],
      "metadata": {
        "id": "6M0XBx98_rmI"
      },
      "execution_count": null,
      "outputs": []
    },
    {
      "cell_type": "code",
      "source": [
        "model_BiLSTM_w2v.save_weights('bert-model.h5')"
      ],
      "metadata": {
        "id": "Sxuo3kRQ-ejU"
      },
      "execution_count": null,
      "outputs": []
    },
    {
      "cell_type": "code",
      "source": [],
      "metadata": {
        "id": "tnP_xR5__k8h"
      },
      "execution_count": null,
      "outputs": []
    }
  ]
}